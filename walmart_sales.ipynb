{
  "nbformat": 4,
  "nbformat_minor": 0,
  "metadata": {
    "colab": {
      "name": "walmart-sales.ipynb",
      "provenance": [],
      "collapsed_sections": [
        "EFjJGtWooI4o",
        "Ps-1J9itjagu",
        "LJXkKJ7qkIHA",
        "Acr9MVWRkNC7",
        "FmdytmZfkfM3",
        "EIv9zrx-odLx",
        "OHszADHnoqK5",
        "JElHPQDqpu6E",
        "W_HoPeagSUPQ",
        "OsK8ReHZrlFt",
        "KmUDzetUV9uT",
        "-EP1JaDAeMc0",
        "mL7WRkPZiRBu",
        "raOCyPIw2yRZ",
        "EjeAuNa34iBU",
        "qp1lxtAsnU_O",
        "UrIc1922o5OP",
        "Axzkj8Ya_iiD",
        "CZsuXErGWIcr",
        "Xi0GxsPgcB0j",
        "cCcg7QmScaYM",
        "GbucQaycmXrV",
        "UPXdlc4z7ucP",
        "qemjBcpr73jg",
        "LmIidGtpXPH-",
        "NvSXk9JqfwJM",
        "qmh4XwB2iNHn"
      ],
      "toc_visible": true,
      "authorship_tag": "ABX9TyP2pONjCtBTw2YnViFeeq+e",
      "include_colab_link": true
    },
    "kernelspec": {
      "name": "python3",
      "display_name": "Python 3"
    }
  },
  "cells": [
    {
      "cell_type": "markdown",
      "metadata": {
        "id": "view-in-github",
        "colab_type": "text"
      },
      "source": [
        "<a href=\"https://colab.research.google.com/github/phong-utm/man2153-group-project/blob/master/walmart_sales.ipynb\" target=\"_parent\"><img src=\"https://colab.research.google.com/assets/colab-badge.svg\" alt=\"Open In Colab\"/></a>"
      ]
    },
    {
      "cell_type": "markdown",
      "metadata": {
        "id": "EFjJGtWooI4o"
      },
      "source": [
        "# Walmart Sales Forecasting\n",
        "\n",
        "**Machine Learning (MANB2153) project by Desmon Chong Chee Fei and Nguyen Nam Phong**"
      ]
    },
    {
      "cell_type": "markdown",
      "metadata": {
        "id": "Ps-1J9itjagu"
      },
      "source": [
        "# 0. Environment Settings"
      ]
    },
    {
      "cell_type": "markdown",
      "metadata": {
        "id": "llfam0xPjmD5"
      },
      "source": [
        "Importing data files and code from the accompanying GitHub repository:"
      ]
    },
    {
      "cell_type": "code",
      "metadata": {
        "colab": {
          "base_uri": "https://localhost:8080/"
        },
        "id": "7v6GUjDwF6hw",
        "outputId": "d0aade68-7b6d-4493-fc47-e8e1315fecfd"
      },
      "source": [
        "!rm -rf man2153-group-project\n",
        "!git clone https://github.com/phong-utm/man2153-group-project.git"
      ],
      "execution_count": null,
      "outputs": [
        {
          "output_type": "stream",
          "text": [
            "Cloning into 'man2153-group-project'...\n",
            "remote: Enumerating objects: 52, done.\u001b[K\n",
            "remote: Counting objects: 100% (52/52), done.\u001b[K\n",
            "remote: Compressing objects: 100% (37/37), done.\u001b[K\n",
            "remote: Total 52 (delta 23), reused 41 (delta 12), pack-reused 0\u001b[K\n",
            "Unpacking objects: 100% (52/52), done.\n"
          ],
          "name": "stdout"
        }
      ]
    },
    {
      "cell_type": "code",
      "metadata": {
        "id": "jLYEnra0lipy"
      },
      "source": [
        "# make our custom packages in GitHub code available for use in Colab\n",
        "import sys\n",
        "sys.path.append('/content/man2153-group-project/lib') # for Google Colab\n",
        "\n",
        "# sys.path.append('man2153-group-project/lib') # for local notebook\n",
        "\n",
        "from wsf_plot import *\n",
        "from wsf_utils import *\n",
        "from wsf_ann import *\n",
        "from wsf_files import *"
      ],
      "execution_count": null,
      "outputs": []
    },
    {
      "cell_type": "code",
      "metadata": {
        "id": "Se3vMDAaS0F8"
      },
      "source": [
        "import numpy as np\n",
        "import pandas as pd\n",
        "import matplotlib.pyplot as plt\n",
        "\n",
        "DATA_DIR = 'man2153-group-project/data'"
      ],
      "execution_count": null,
      "outputs": []
    },
    {
      "cell_type": "markdown",
      "metadata": {
        "id": "LJXkKJ7qkIHA"
      },
      "source": [
        "# 1. Data Preparation"
      ]
    },
    {
      "cell_type": "markdown",
      "metadata": {
        "id": "Acr9MVWRkNC7"
      },
      "source": [
        "## 1.1. Importing input data files"
      ]
    },
    {
      "cell_type": "markdown",
      "metadata": {
        "id": "FmdytmZfkfM3"
      },
      "source": [
        "There are 3 files to be imported:\n",
        "\n",
        "###stores.csv"
      ]
    },
    {
      "cell_type": "markdown",
      "metadata": {
        "id": "exEiRpCooKnf"
      },
      "source": [
        "This file contains anonymized information about the 45 stores, indicating the type and size of store:"
      ]
    },
    {
      "cell_type": "code",
      "metadata": {
        "colab": {
          "base_uri": "https://localhost:8080/",
          "height": 224
        },
        "id": "s_CCHUQ8htuv",
        "outputId": "24524b25-899b-4fff-c04e-4f96ae3a2a2e"
      },
      "source": [
        "df_stores = pd.read_csv(DATA_DIR + '/stores.csv')\n",
        "df_stores.head()"
      ],
      "execution_count": null,
      "outputs": [
        {
          "output_type": "execute_result",
          "data": {
            "text/html": [
              "<div>\n",
              "<style scoped>\n",
              "    .dataframe tbody tr th:only-of-type {\n",
              "        vertical-align: middle;\n",
              "    }\n",
              "\n",
              "    .dataframe tbody tr th {\n",
              "        vertical-align: top;\n",
              "    }\n",
              "\n",
              "    .dataframe thead th {\n",
              "        text-align: right;\n",
              "    }\n",
              "</style>\n",
              "<table border=\"1\" class=\"dataframe\">\n",
              "  <thead>\n",
              "    <tr style=\"text-align: right;\">\n",
              "      <th></th>\n",
              "      <th>Store</th>\n",
              "      <th>Type</th>\n",
              "      <th>Size</th>\n",
              "    </tr>\n",
              "  </thead>\n",
              "  <tbody>\n",
              "    <tr>\n",
              "      <th>0</th>\n",
              "      <td>1</td>\n",
              "      <td>A</td>\n",
              "      <td>151315</td>\n",
              "    </tr>\n",
              "    <tr>\n",
              "      <th>1</th>\n",
              "      <td>2</td>\n",
              "      <td>A</td>\n",
              "      <td>202307</td>\n",
              "    </tr>\n",
              "    <tr>\n",
              "      <th>2</th>\n",
              "      <td>3</td>\n",
              "      <td>B</td>\n",
              "      <td>37392</td>\n",
              "    </tr>\n",
              "    <tr>\n",
              "      <th>3</th>\n",
              "      <td>4</td>\n",
              "      <td>A</td>\n",
              "      <td>205863</td>\n",
              "    </tr>\n",
              "    <tr>\n",
              "      <th>4</th>\n",
              "      <td>5</td>\n",
              "      <td>B</td>\n",
              "      <td>34875</td>\n",
              "    </tr>\n",
              "  </tbody>\n",
              "</table>\n",
              "</div>"
            ],
            "text/plain": [
              "   Store Type    Size\n",
              "0      1    A  151315\n",
              "1      2    A  202307\n",
              "2      3    B   37392\n",
              "3      4    A  205863\n",
              "4      5    B   34875"
            ]
          },
          "metadata": {
            "tags": []
          },
          "execution_count": 5
        }
      ]
    },
    {
      "cell_type": "markdown",
      "metadata": {
        "id": "EIv9zrx-odLx"
      },
      "source": [
        "###features.csv"
      ]
    },
    {
      "cell_type": "markdown",
      "metadata": {
        "id": "UG1YA__0o1q2"
      },
      "source": [
        "This file contains additional data related to the store for the given dates:"
      ]
    },
    {
      "cell_type": "code",
      "metadata": {
        "colab": {
          "base_uri": "https://localhost:8080/",
          "height": 309
        },
        "id": "MoVr0AF5j7Dy",
        "outputId": "4569a3cd-a630-497b-b413-b8342dedbd45"
      },
      "source": [
        "df_features = pd.read_csv(DATA_DIR + '/features.csv')\n",
        "df_features.head()"
      ],
      "execution_count": null,
      "outputs": [
        {
          "output_type": "execute_result",
          "data": {
            "text/html": [
              "<div>\n",
              "<style scoped>\n",
              "    .dataframe tbody tr th:only-of-type {\n",
              "        vertical-align: middle;\n",
              "    }\n",
              "\n",
              "    .dataframe tbody tr th {\n",
              "        vertical-align: top;\n",
              "    }\n",
              "\n",
              "    .dataframe thead th {\n",
              "        text-align: right;\n",
              "    }\n",
              "</style>\n",
              "<table border=\"1\" class=\"dataframe\">\n",
              "  <thead>\n",
              "    <tr style=\"text-align: right;\">\n",
              "      <th></th>\n",
              "      <th>Store</th>\n",
              "      <th>Date</th>\n",
              "      <th>Temperature</th>\n",
              "      <th>Fuel_Price</th>\n",
              "      <th>MarkDown1</th>\n",
              "      <th>MarkDown2</th>\n",
              "      <th>MarkDown3</th>\n",
              "      <th>MarkDown4</th>\n",
              "      <th>MarkDown5</th>\n",
              "      <th>CPI</th>\n",
              "      <th>Unemployment</th>\n",
              "      <th>IsHoliday</th>\n",
              "    </tr>\n",
              "  </thead>\n",
              "  <tbody>\n",
              "    <tr>\n",
              "      <th>0</th>\n",
              "      <td>1</td>\n",
              "      <td>2010-02-05</td>\n",
              "      <td>42.31</td>\n",
              "      <td>2.572</td>\n",
              "      <td>NaN</td>\n",
              "      <td>NaN</td>\n",
              "      <td>NaN</td>\n",
              "      <td>NaN</td>\n",
              "      <td>NaN</td>\n",
              "      <td>211.096358</td>\n",
              "      <td>8.106</td>\n",
              "      <td>False</td>\n",
              "    </tr>\n",
              "    <tr>\n",
              "      <th>1</th>\n",
              "      <td>1</td>\n",
              "      <td>2010-02-12</td>\n",
              "      <td>38.51</td>\n",
              "      <td>2.548</td>\n",
              "      <td>NaN</td>\n",
              "      <td>NaN</td>\n",
              "      <td>NaN</td>\n",
              "      <td>NaN</td>\n",
              "      <td>NaN</td>\n",
              "      <td>211.242170</td>\n",
              "      <td>8.106</td>\n",
              "      <td>True</td>\n",
              "    </tr>\n",
              "    <tr>\n",
              "      <th>2</th>\n",
              "      <td>1</td>\n",
              "      <td>2010-02-19</td>\n",
              "      <td>39.93</td>\n",
              "      <td>2.514</td>\n",
              "      <td>NaN</td>\n",
              "      <td>NaN</td>\n",
              "      <td>NaN</td>\n",
              "      <td>NaN</td>\n",
              "      <td>NaN</td>\n",
              "      <td>211.289143</td>\n",
              "      <td>8.106</td>\n",
              "      <td>False</td>\n",
              "    </tr>\n",
              "    <tr>\n",
              "      <th>3</th>\n",
              "      <td>1</td>\n",
              "      <td>2010-02-26</td>\n",
              "      <td>46.63</td>\n",
              "      <td>2.561</td>\n",
              "      <td>NaN</td>\n",
              "      <td>NaN</td>\n",
              "      <td>NaN</td>\n",
              "      <td>NaN</td>\n",
              "      <td>NaN</td>\n",
              "      <td>211.319643</td>\n",
              "      <td>8.106</td>\n",
              "      <td>False</td>\n",
              "    </tr>\n",
              "    <tr>\n",
              "      <th>4</th>\n",
              "      <td>1</td>\n",
              "      <td>2010-03-05</td>\n",
              "      <td>46.50</td>\n",
              "      <td>2.625</td>\n",
              "      <td>NaN</td>\n",
              "      <td>NaN</td>\n",
              "      <td>NaN</td>\n",
              "      <td>NaN</td>\n",
              "      <td>NaN</td>\n",
              "      <td>211.350143</td>\n",
              "      <td>8.106</td>\n",
              "      <td>False</td>\n",
              "    </tr>\n",
              "  </tbody>\n",
              "</table>\n",
              "</div>"
            ],
            "text/plain": [
              "   Store        Date  Temperature  ...         CPI  Unemployment  IsHoliday\n",
              "0      1  2010-02-05        42.31  ...  211.096358         8.106      False\n",
              "1      1  2010-02-12        38.51  ...  211.242170         8.106       True\n",
              "2      1  2010-02-19        39.93  ...  211.289143         8.106      False\n",
              "3      1  2010-02-26        46.63  ...  211.319643         8.106      False\n",
              "4      1  2010-03-05        46.50  ...  211.350143         8.106      False\n",
              "\n",
              "[5 rows x 12 columns]"
            ]
          },
          "metadata": {
            "tags": []
          },
          "execution_count": 6
        }
      ]
    },
    {
      "cell_type": "markdown",
      "metadata": {
        "id": "OHszADHnoqK5"
      },
      "source": [
        "###train.csv"
      ]
    },
    {
      "cell_type": "markdown",
      "metadata": {
        "id": "DVdYxI_NoxVE"
      },
      "source": [
        "This file contains weekly sales figures for each store and department:"
      ]
    },
    {
      "cell_type": "code",
      "metadata": {
        "colab": {
          "base_uri": "https://localhost:8080/",
          "height": 309
        },
        "id": "gw4jr5eVo8gz",
        "outputId": "448b0ec0-cacc-4e8d-eb8b-7d8815ed8d33"
      },
      "source": [
        "df_train = pd.read_csv(DATA_DIR + '/train.csv')\n",
        "df_train.head()"
      ],
      "execution_count": null,
      "outputs": [
        {
          "output_type": "execute_result",
          "data": {
            "text/html": [
              "<div>\n",
              "<style scoped>\n",
              "    .dataframe tbody tr th:only-of-type {\n",
              "        vertical-align: middle;\n",
              "    }\n",
              "\n",
              "    .dataframe tbody tr th {\n",
              "        vertical-align: top;\n",
              "    }\n",
              "\n",
              "    .dataframe thead th {\n",
              "        text-align: right;\n",
              "    }\n",
              "</style>\n",
              "<table border=\"1\" class=\"dataframe\">\n",
              "  <thead>\n",
              "    <tr style=\"text-align: right;\">\n",
              "      <th></th>\n",
              "      <th>Store</th>\n",
              "      <th>Dept</th>\n",
              "      <th>Date</th>\n",
              "      <th>Weekly_Sales</th>\n",
              "      <th>IsHoliday</th>\n",
              "    </tr>\n",
              "  </thead>\n",
              "  <tbody>\n",
              "    <tr>\n",
              "      <th>0</th>\n",
              "      <td>1</td>\n",
              "      <td>1</td>\n",
              "      <td>2010-02-05</td>\n",
              "      <td>24924.50</td>\n",
              "      <td>False</td>\n",
              "    </tr>\n",
              "    <tr>\n",
              "      <th>1</th>\n",
              "      <td>1</td>\n",
              "      <td>1</td>\n",
              "      <td>2010-02-12</td>\n",
              "      <td>46039.49</td>\n",
              "      <td>True</td>\n",
              "    </tr>\n",
              "    <tr>\n",
              "      <th>2</th>\n",
              "      <td>1</td>\n",
              "      <td>1</td>\n",
              "      <td>2010-02-19</td>\n",
              "      <td>41595.55</td>\n",
              "      <td>False</td>\n",
              "    </tr>\n",
              "    <tr>\n",
              "      <th>3</th>\n",
              "      <td>1</td>\n",
              "      <td>1</td>\n",
              "      <td>2010-02-26</td>\n",
              "      <td>19403.54</td>\n",
              "      <td>False</td>\n",
              "    </tr>\n",
              "    <tr>\n",
              "      <th>4</th>\n",
              "      <td>1</td>\n",
              "      <td>1</td>\n",
              "      <td>2010-03-05</td>\n",
              "      <td>21827.90</td>\n",
              "      <td>False</td>\n",
              "    </tr>\n",
              "  </tbody>\n",
              "</table>\n",
              "</div>"
            ],
            "text/plain": [
              "   Store  Dept        Date  Weekly_Sales  IsHoliday\n",
              "0      1     1  2010-02-05      24924.50      False\n",
              "1      1     1  2010-02-12      46039.49       True\n",
              "2      1     1  2010-02-19      41595.55      False\n",
              "3      1     1  2010-02-26      19403.54      False\n",
              "4      1     1  2010-03-05      21827.90      False"
            ]
          },
          "metadata": {
            "tags": []
          },
          "execution_count": 7
        }
      ]
    },
    {
      "cell_type": "markdown",
      "metadata": {
        "id": "JElHPQDqpu6E"
      },
      "source": [
        "## 1.2. Merging the data files"
      ]
    },
    {
      "cell_type": "code",
      "metadata": {
        "colab": {
          "base_uri": "https://localhost:8080/",
          "height": 309
        },
        "id": "US6hYyXdrmJr",
        "outputId": "dd22630a-03bb-48d9-e200-48dca0c9ce08"
      },
      "source": [
        "# \"stores\" and \"features\" are merged on Store\n",
        "df_store_features = df_stores.merge(df_features, on='Store')\n",
        "\n",
        "# merge with \"train\" on the combination of Store and Date\n",
        "df_merged = df_store_features.merge(\n",
        "    df_train.drop(['IsHoliday'], axis=1), # drop colum appearing in 2 files\n",
        "    on=['Store', 'Date']\n",
        ")\n",
        "\n",
        "df_merged.head()\n",
        "\n",
        "# df_stores.shape, df_features.shape, df_store_features.shape, df_train.shape, df_merged.shape"
      ],
      "execution_count": null,
      "outputs": [
        {
          "output_type": "execute_result",
          "data": {
            "text/html": [
              "<div>\n",
              "<style scoped>\n",
              "    .dataframe tbody tr th:only-of-type {\n",
              "        vertical-align: middle;\n",
              "    }\n",
              "\n",
              "    .dataframe tbody tr th {\n",
              "        vertical-align: top;\n",
              "    }\n",
              "\n",
              "    .dataframe thead th {\n",
              "        text-align: right;\n",
              "    }\n",
              "</style>\n",
              "<table border=\"1\" class=\"dataframe\">\n",
              "  <thead>\n",
              "    <tr style=\"text-align: right;\">\n",
              "      <th></th>\n",
              "      <th>Store</th>\n",
              "      <th>Type</th>\n",
              "      <th>Size</th>\n",
              "      <th>Date</th>\n",
              "      <th>Temperature</th>\n",
              "      <th>Fuel_Price</th>\n",
              "      <th>MarkDown1</th>\n",
              "      <th>MarkDown2</th>\n",
              "      <th>MarkDown3</th>\n",
              "      <th>MarkDown4</th>\n",
              "      <th>MarkDown5</th>\n",
              "      <th>CPI</th>\n",
              "      <th>Unemployment</th>\n",
              "      <th>IsHoliday</th>\n",
              "      <th>Dept</th>\n",
              "      <th>Weekly_Sales</th>\n",
              "    </tr>\n",
              "  </thead>\n",
              "  <tbody>\n",
              "    <tr>\n",
              "      <th>0</th>\n",
              "      <td>1</td>\n",
              "      <td>A</td>\n",
              "      <td>151315</td>\n",
              "      <td>2010-02-05</td>\n",
              "      <td>42.31</td>\n",
              "      <td>2.572</td>\n",
              "      <td>NaN</td>\n",
              "      <td>NaN</td>\n",
              "      <td>NaN</td>\n",
              "      <td>NaN</td>\n",
              "      <td>NaN</td>\n",
              "      <td>211.096358</td>\n",
              "      <td>8.106</td>\n",
              "      <td>False</td>\n",
              "      <td>1</td>\n",
              "      <td>24924.50</td>\n",
              "    </tr>\n",
              "    <tr>\n",
              "      <th>1</th>\n",
              "      <td>1</td>\n",
              "      <td>A</td>\n",
              "      <td>151315</td>\n",
              "      <td>2010-02-05</td>\n",
              "      <td>42.31</td>\n",
              "      <td>2.572</td>\n",
              "      <td>NaN</td>\n",
              "      <td>NaN</td>\n",
              "      <td>NaN</td>\n",
              "      <td>NaN</td>\n",
              "      <td>NaN</td>\n",
              "      <td>211.096358</td>\n",
              "      <td>8.106</td>\n",
              "      <td>False</td>\n",
              "      <td>2</td>\n",
              "      <td>50605.27</td>\n",
              "    </tr>\n",
              "    <tr>\n",
              "      <th>2</th>\n",
              "      <td>1</td>\n",
              "      <td>A</td>\n",
              "      <td>151315</td>\n",
              "      <td>2010-02-05</td>\n",
              "      <td>42.31</td>\n",
              "      <td>2.572</td>\n",
              "      <td>NaN</td>\n",
              "      <td>NaN</td>\n",
              "      <td>NaN</td>\n",
              "      <td>NaN</td>\n",
              "      <td>NaN</td>\n",
              "      <td>211.096358</td>\n",
              "      <td>8.106</td>\n",
              "      <td>False</td>\n",
              "      <td>3</td>\n",
              "      <td>13740.12</td>\n",
              "    </tr>\n",
              "    <tr>\n",
              "      <th>3</th>\n",
              "      <td>1</td>\n",
              "      <td>A</td>\n",
              "      <td>151315</td>\n",
              "      <td>2010-02-05</td>\n",
              "      <td>42.31</td>\n",
              "      <td>2.572</td>\n",
              "      <td>NaN</td>\n",
              "      <td>NaN</td>\n",
              "      <td>NaN</td>\n",
              "      <td>NaN</td>\n",
              "      <td>NaN</td>\n",
              "      <td>211.096358</td>\n",
              "      <td>8.106</td>\n",
              "      <td>False</td>\n",
              "      <td>4</td>\n",
              "      <td>39954.04</td>\n",
              "    </tr>\n",
              "    <tr>\n",
              "      <th>4</th>\n",
              "      <td>1</td>\n",
              "      <td>A</td>\n",
              "      <td>151315</td>\n",
              "      <td>2010-02-05</td>\n",
              "      <td>42.31</td>\n",
              "      <td>2.572</td>\n",
              "      <td>NaN</td>\n",
              "      <td>NaN</td>\n",
              "      <td>NaN</td>\n",
              "      <td>NaN</td>\n",
              "      <td>NaN</td>\n",
              "      <td>211.096358</td>\n",
              "      <td>8.106</td>\n",
              "      <td>False</td>\n",
              "      <td>5</td>\n",
              "      <td>32229.38</td>\n",
              "    </tr>\n",
              "  </tbody>\n",
              "</table>\n",
              "</div>"
            ],
            "text/plain": [
              "   Store Type    Size        Date  ...  Unemployment  IsHoliday  Dept  Weekly_Sales\n",
              "0      1    A  151315  2010-02-05  ...         8.106      False     1      24924.50\n",
              "1      1    A  151315  2010-02-05  ...         8.106      False     2      50605.27\n",
              "2      1    A  151315  2010-02-05  ...         8.106      False     3      13740.12\n",
              "3      1    A  151315  2010-02-05  ...         8.106      False     4      39954.04\n",
              "4      1    A  151315  2010-02-05  ...         8.106      False     5      32229.38\n",
              "\n",
              "[5 rows x 16 columns]"
            ]
          },
          "metadata": {
            "tags": []
          },
          "execution_count": 8
        }
      ]
    },
    {
      "cell_type": "markdown",
      "metadata": {
        "id": "W_HoPeagSUPQ"
      },
      "source": [
        "## 1.3. Handling missing data"
      ]
    },
    {
      "cell_type": "code",
      "metadata": {
        "colab": {
          "base_uri": "https://localhost:8080/"
        },
        "id": "aM1_gUobSkFc",
        "outputId": "21d6bf65-3b8f-4d13-b0da-69f6550c88f7"
      },
      "source": [
        "df_merged.isnull().any()"
      ],
      "execution_count": null,
      "outputs": [
        {
          "output_type": "execute_result",
          "data": {
            "text/plain": [
              "Store           False\n",
              "Type            False\n",
              "Size            False\n",
              "Date            False\n",
              "Temperature     False\n",
              "Fuel_Price      False\n",
              "MarkDown1        True\n",
              "MarkDown2        True\n",
              "MarkDown3        True\n",
              "MarkDown4        True\n",
              "MarkDown5        True\n",
              "CPI             False\n",
              "Unemployment    False\n",
              "IsHoliday       False\n",
              "Dept            False\n",
              "Weekly_Sales    False\n",
              "dtype: bool"
            ]
          },
          "metadata": {
            "tags": []
          },
          "execution_count": 9
        }
      ]
    },
    {
      "cell_type": "markdown",
      "metadata": {
        "id": "sSI2OeFtUe7F"
      },
      "source": [
        "The statement above shows that only MarkDown1-5 contains *null* values which we can simply fill with zero:"
      ]
    },
    {
      "cell_type": "code",
      "metadata": {
        "id": "9krozY79VBOQ"
      },
      "source": [
        "df_filled = df_merged.fillna(0)"
      ],
      "execution_count": null,
      "outputs": []
    },
    {
      "cell_type": "markdown",
      "metadata": {
        "id": "OsK8ReHZrlFt"
      },
      "source": [
        "## 1.4. Exploratory Data Analysis (EDA)"
      ]
    },
    {
      "cell_type": "markdown",
      "metadata": {
        "id": "KmUDzetUV9uT"
      },
      "source": [
        "### 1.4.1. Correlation matrix"
      ]
    },
    {
      "cell_type": "markdown",
      "metadata": {
        "id": "lxfV3QzSWVWR"
      },
      "source": [
        "We create a matrix to find out which features have the highest/lowest correlation with weekly sales: "
      ]
    },
    {
      "cell_type": "code",
      "metadata": {
        "colab": {
          "base_uri": "https://localhost:8080/",
          "height": 54
        },
        "id": "H2jauyhoWzVG",
        "outputId": "8b106cad-c945-4b76-eb57-8ec255a9154c"
      },
      "source": [
        "wsf_plot_corr_matrix(df_filled.corr())"
      ],
      "execution_count": null,
      "outputs": [
        {
          "output_type": "display_data",
          "data": {
            "image/png": "[encoded data removed]",
            "text/plain": [
              "<Figure size 1440x1080 with 2 Axes>"
            ]
          },
          "metadata": {
            "tags": [],
            "needs_background": "light"
          }
        }
      ]
    },
    {
      "cell_type": "markdown",
      "metadata": {
        "id": "P-SgqN3Qccbx"
      },
      "source": [
        "The matrix shows that *Store Size* has the highest correlation with weekly sales. Conversely, *Fuel Price* and *Temperature* have very low correlation and thus could potentially be removed from prediction."
      ]
    },
    {
      "cell_type": "markdown",
      "metadata": {
        "id": "-EP1JaDAeMc0"
      },
      "source": [
        "### 1.4.2. Store size and Store type"
      ]
    },
    {
      "cell_type": "markdown",
      "metadata": {
        "id": "cxX54EL1efAe"
      },
      "source": [
        "We have found out that *Store Size* has the highest correlation with weekly sales. But does *Store Size* relate to *Store Type*, and if so, should we remove *Store Type* from our prediction?"
      ]
    },
    {
      "cell_type": "code",
      "metadata": {
        "colab": {
          "base_uri": "https://localhost:8080/",
          "height": 54
        },
        "id": "yiRF9dCkfTr8",
        "outputId": "1979786a-b39e-4fc3-db24-e4405c0c46d8"
      },
      "source": [
        "plt.scatter('Type', 'Size', data=df_filled)\n",
        "plt.show()"
      ],
      "execution_count": null,
      "outputs": [
        {
          "output_type": "display_data",
          "data": {
            "image/png": "[encoded data removed]",
            "text/plain": [
              "<Figure size 432x288 with 1 Axes>"
            ]
          },
          "metadata": {
            "tags": []
          }
        }
      ]
    },
    {
      "cell_type": "markdown",
      "metadata": {
        "id": "fZBqZXzAgS7H"
      },
      "source": [
        "The scatter plot shows that type A is usually the largest, followed by type B, while C is the smallest. However, there seems to be some overlapping between them so we will keep *Store Type* for our prediction."
      ]
    },
    {
      "cell_type": "markdown",
      "metadata": {
        "id": "mL7WRkPZiRBu"
      },
      "source": [
        "### 1.4.3. Negative weekly sales"
      ]
    },
    {
      "cell_type": "markdown",
      "metadata": {
        "id": "4wp5BRHnigg-"
      },
      "source": [
        "When taking a closer look at weekly sales, we found that there are weeks registering negative sales (notice _min_ value below):"
      ]
    },
    {
      "cell_type": "code",
      "metadata": {
        "colab": {
          "base_uri": "https://localhost:8080/"
        },
        "id": "-0t9PZ6hpW2z",
        "outputId": "14060be9-71b4-434c-b05c-a33f05cd4096"
      },
      "source": [
        "df_filled['Weekly_Sales'].describe()"
      ],
      "execution_count": null,
      "outputs": [
        {
          "output_type": "execute_result",
          "data": {
            "text/plain": [
              "count    421570.000000\n",
              "mean      15981.258123\n",
              "std       22711.183519\n",
              "min       -4988.940000\n",
              "25%        2079.650000\n",
              "50%        7612.030000\n",
              "75%       20205.852500\n",
              "max      693099.360000\n",
              "Name: Weekly_Sales, dtype: float64"
            ]
          },
          "metadata": {
            "tags": []
          },
          "execution_count": 13
        }
      ]
    },
    {
      "cell_type": "markdown",
      "metadata": {
        "id": "4iRYoiUTsl-P"
      },
      "source": [
        "One possibility that might be able to explain negative sales is too much markdown. We need to check if that is the case here. (Note: another possibility is product returns but we have no data to verify it.)"
      ]
    },
    {
      "cell_type": "code",
      "metadata": {
        "colab": {
          "base_uri": "https://localhost:8080/",
          "height": 562
        },
        "id": "zEohf8ENrvvQ",
        "outputId": "4140a36f-2982-4bc3-8bd2-bc862fc32ead"
      },
      "source": [
        "df_neg_sales = wsf_get_neg_sales(df_filled)\n",
        "wsf_plot_violin(df_neg_sales, \"No_MarkDown\", \"Weekly_Sales\")"
      ],
      "execution_count": null,
      "outputs": [
        {
          "output_type": "display_data",
          "data": {
            "text/html": [
              "<html>\n",
              "<head><meta charset=\"utf-8\" /></head>\n",
              "<body>\n",
              "    <div>\n",
              "            <script src=\"https://cdnjs.cloudflare.com/ajax/libs/mathjax/2.7.5/MathJax.js?config=TeX-AMS-MML_SVG\"></script><script type=\"text/javascript\">if (window.MathJax) {MathJax.Hub.Config({SVG: {font: \"STIX-Web\"}});}</script>\n",
              "                <script type=\"text/javascript\">window.PlotlyConfig = {MathJaxConfig: 'local'};</script>\n",
              "        <script src=\"https://cdn.plot.ly/plotly-latest.min.js\"></script>    \n",
              "            <div id=\"730edf6a-a264-4a1a-88ee-033db926314d\" class=\"plotly-graph-div\" style=\"height:525px; width:100%;\"></div>\n",
              "            <script type=\"text/javascript\">\n",
              "                \n",
              "                    window.PLOTLYENV=window.PLOTLYENV || {};\n",
              "                    \n",
              "                if (document.getElementById(\"730edf6a-a264-4a1a-88ee-033db926314d\")) {\n",
              "                    Plotly.newPlot(\n",
              "                        '730edf6a-a264-4a1a-88ee-033db926314d',\n",
              "                        [{\"alignmentgroup\": \"True\", \"box\": {\"visible\": true}, \"customdata\": [[1, \"A\", 151315, \"2010-02-19\", 39.93, 2.5140000000000002, 0.0, 0.0, 0.0, 0.0, 0.0, 211.2891429, 8.106, false, 47, -863.0, true], [1, \"A\", 151315, \"2010-03-12\", 57.79, 2.667, 0.0, 0.0, 0.0, 0.0, 0.0, 211.3806429, 8.106, false, 47, -698.0, true], [1, \"A\", 151315, \"2010-10-08\", 63.93, 2.633, 0.0, 0.0, 0.0, 0.0, 0.0, 211.74675440000001, 7.837999999999999, false, 47, -58.0, true], [1, \"A\", 151315, \"2011-01-21\", 44.04, 3.016, 0.0, 0.0, 0.0, 0.0, 0.0, 211.82723430000004, 7.742000000000001, false, 54, -50.0, true], [1, \"A\", 151315, \"2011-04-08\", 67.84, 3.622, 0.0, 0.0, 0.0, 0.0, 0.0, 215.07439390000002, 7.682, false, 47, -298.0, true], [1, \"A\", 151315, \"2011-05-20\", 67.63, 3.907, 0.0, 0.0, 0.0, 0.0, 0.0, 215.7339202, 7.682, false, 54, -15.0, true], [1, \"A\", 151315, \"2011-07-08\", 85.83, 3.48, 0.0, 0.0, 0.0, 0.0, 0.0, 215.27717540000003, 7.962000000000001, false, 47, -198.0, true], [1, \"A\", 151315, \"2011-10-14\", 71.74, 3.2739999999999996, 0.0, 0.0, 0.0, 0.0, 0.0, 217.3552733, 7.8660000000000005, false, 47, -498.0, true], [2, \"A\", 202307, \"2010-03-12\", 57.56, 2.667, 0.0, 0.0, 0.0, 0.0, 0.0, 211.03755099999998, 8.324, false, 48, -3.0, true], [2, \"A\", 202307, \"2010-04-09\", 65.41, 2.77, 0.0, 0.0, 0.0, 0.0, 0.0, 210.2831653, 8.2, false, 45, -118.0, true], [2, \"A\", 202307, \"2010-05-07\", 71.28, 2.835, 0.0, 0.0, 0.0, 0.0, 0.0, 210.00110180000001, 8.2, false, 45, -0.98, true], [2, \"A\", 202307, \"2010-07-30\", 83.49, 2.64, 0.0, 0.0, 0.0, 0.0, 0.0, 211.0264684, 8.099, false, 47, -1098.0, true], [2, \"A\", 202307, \"2010-08-20\", 88.7, 2.6639999999999997, 0.0, 0.0, 0.0, 0.0, 0.0, 211.25965860000002, 8.099, false, 47, -498.0, true], [2, \"A\", 202307, \"2010-10-15\", 65.8, 2.72, 0.0, 0.0, 0.0, 0.0, 0.0, 211.4713286, 8.163, false, 47, -1098.0, true], [2, \"A\", 202307, \"2010-11-12\", 59.69, 2.728, 0.0, 0.0, 0.0, 0.0, 0.0, 211.6608975, 8.163, false, 54, -6.16, true], [2, \"A\", 202307, \"2010-11-19\", 50.81, 2.7710000000000004, 0.0, 0.0, 0.0, 0.0, 0.0, 211.5470304, 8.163, false, 47, -1098.0, true], [2, \"A\", 202307, \"2010-11-26\", 62.98, 2.735, 0.0, 0.0, 0.0, 0.0, 0.0, 211.4062867, 8.163, true, 47, -159.0, true], [2, \"A\", 202307, \"2010-12-24\", 49.97, 2.886, 0.0, 0.0, 0.0, 0.0, 0.0, 211.06465989999998, 8.163, false, 99, -147.0, true], [2, \"A\", 202307, \"2011-01-14\", 33.02, 2.983, 0.0, 0.0, 0.0, 0.0, 0.0, 211.1176713, 8.027999999999999, false, 54, -2.0, true], [2, \"A\", 202307, \"2011-02-04\", 38.25, 2.989, 0.0, 0.0, 0.0, 0.0, 0.0, 212.22406459999996, 8.027999999999999, false, 47, -219.0, true], [2, \"A\", 202307, \"2011-06-03\", 83.07, 3.699, 0.0, 0.0, 0.0, 0.0, 0.0, 214.92548650000003, 7.931, false, 99, -20.0, true], [2, \"A\", 202307, \"2011-06-24\", 85.17, 3.594, 0.0, 0.0, 0.0, 0.0, 0.0, 214.7441108, 7.931, false, 54, -38.0, true], [3, \"B\", 37392, \"2010-05-28\", 78.6, 2.759, 0.0, 0.0, 0.0, 0.0, 0.0, 214.2037634, 7.343, false, 47, -78.0, true], [3, \"B\", 37392, \"2010-05-28\", 78.6, 2.759, 0.0, 0.0, 0.0, 0.0, 0.0, 214.2037634, 7.343, false, 54, -29.0, true], [3, \"B\", 37392, \"2011-01-21\", 50.74, 3.016, 0.0, 0.0, 0.0, 0.0, 0.0, 215.1268275, 7.551, false, 77, -9.96, true], [3, \"B\", 37392, \"2011-08-05\", 88.45, 3.6839999999999997, 0.0, 0.0, 0.0, 0.0, 0.0, 218.90232090000003, 7.567, false, 59, -4.93, true], [3, \"B\", 37392, \"2011-09-30\", 82.58, 3.355, 0.0, 0.0, 0.0, 0.0, 0.0, 220.08569599999998, 7.567, false, 32, -1008.96, true], [4, \"A\", 205863, \"2010-09-17\", 64.91, 2.594, 0.0, 0.0, 0.0, 0.0, 0.0, 126.14546670000001, 7.372000000000001, false, 47, -898.0, true], [4, \"A\", 205863, \"2011-09-16\", 72.76, 3.532, 0.0, 0.0, 0.0, 0.0, 0.0, 129.4306, 5.644, false, 47, -31.0, true], [5, \"B\", 34875, \"2010-03-05\", 48.89, 2.625, 0.0, 0.0, 0.0, 0.0, 0.0, 211.9071653, 6.566, false, 19, -6.88, true], [5, \"B\", 34875, \"2010-05-07\", 71.53, 2.835, 0.0, 0.0, 0.0, 0.0, 0.0, 210.8896556, 6.465, false, 47, -58.0, true], [5, \"B\", 34875, \"2010-05-28\", 79.81, 2.759, 0.0, 0.0, 0.0, 0.0, 0.0, 211.45076880000002, 6.465, false, 45, -7.96, true], [5, \"B\", 34875, \"2010-07-30\", 82.46, 2.64, 0.0, 0.0, 0.0, 0.0, 0.0, 211.9270006, 6.496, false, 56, -7.05, true], [5, \"B\", 34875, \"2010-12-03\", 51.31, 2.708, 0.0, 0.0, 0.0, 0.0, 0.0, 212.1613951, 6.768, false, 19, -19.27, true], [5, \"B\", 34875, \"2011-02-11\", 38.25, 3.022, 0.0, 0.0, 0.0, 0.0, 0.0, 213.49446269999999, 6.6339999999999995, true, 59, -1.0, true], [5, \"B\", 34875, \"2011-07-01\", 85.81, 3.5239999999999996, 0.0, 0.0, 0.0, 0.0, 0.0, 215.7474537, 6.529, false, 59, -11.76, true], [5, \"B\", 34875, \"2011-07-01\", 85.81, 3.5239999999999996, 0.0, 0.0, 0.0, 0.0, 0.0, 215.7474537, 6.529, false, 94, -2.5, true], [5, \"B\", 34875, \"2011-07-15\", 88.64, 3.575, 0.0, 0.0, 0.0, 0.0, 0.0, 215.9250696, 6.529, false, 59, -12.67, true], [5, \"B\", 34875, \"2011-07-29\", 89.42, 3.682, 0.0, 0.0, 0.0, 0.0, 0.0, 216.0464364, 6.529, false, 47, -50.0, true], [5, \"B\", 34875, \"2011-08-12\", 90.16, 3.638, 0.0, 0.0, 0.0, 0.0, 0.0, 216.16780319999995, 6.529, false, 19, -8.0, true], [5, \"B\", 34875, \"2011-08-12\", 90.16, 3.638, 0.0, 0.0, 0.0, 0.0, 0.0, 216.16780319999995, 6.529, false, 47, -22.0, true], [5, \"B\", 34875, \"2011-10-07\", 71.64, 3.285, 0.0, 0.0, 0.0, 0.0, 0.0, 217.6123648, 6.3, false, 59, -3.22, true], [5, \"B\", 34875, \"2011-11-04\", 56.71, 3.332, 0.0, 0.0, 0.0, 0.0, 0.0, 218.408408, 6.3, false, 47, -60.0, true], [6, \"A\", 202505, \"2010-02-05\", 40.43, 2.572, 0.0, 0.0, 0.0, 0.0, 0.0, 212.62235180000002, 7.2589999999999995, false, 47, -59.0, true], [6, \"A\", 202505, \"2010-02-12\", 40.57, 2.548, 0.0, 0.0, 0.0, 0.0, 0.0, 212.7700425, 7.2589999999999995, true, 36, -50.0, true], [6, \"A\", 202505, \"2010-03-05\", 49.63, 2.625, 0.0, 0.0, 0.0, 0.0, 0.0, 212.8745193, 7.2589999999999995, false, 78, -7.0, true], [6, \"A\", 202505, \"2010-03-19\", 56.55, 2.72, 0.0, 0.0, 0.0, 0.0, 0.0, 212.7351935, 7.2589999999999995, false, 78, -11.0, true], [6, \"A\", 202505, \"2010-04-30\", 68.91, 2.78, 0.0, 0.0, 0.0, 0.0, 0.0, 211.8942725, 7.0920000000000005, false, 47, -698.0, true], [6, \"A\", 202505, \"2010-05-07\", 73.68, 2.835, 0.0, 0.0, 0.0, 0.0, 0.0, 211.8442706, 7.0920000000000005, false, 18, -10.5, true], [6, \"A\", 202505, \"2010-06-04\", 79.44, 2.705, 0.0, 0.0, 0.0, 0.0, 0.0, 212.69824359999998, 7.0920000000000005, false, 18, -4.88, true], [6, \"A\", 202505, \"2010-12-03\", 52.3, 2.708, 0.0, 0.0, 0.0, 0.0, 0.0, 213.12385099999997, 7.007000000000001, false, 45, -11.96, true], [6, \"A\", 202505, \"2011-01-07\", 47.78, 2.9760000000000004, 0.0, 0.0, 0.0, 0.0, 0.0, 212.91342659999998, 6.858, false, 54, -8.0, true], [6, \"A\", 202505, \"2011-02-25\", 62.86, 3.065, 0.0, 0.0, 0.0, 0.0, 0.0, 215.06797310000002, 6.858, false, 47, -97.0, true], [6, \"A\", 202505, \"2011-03-11\", 57.71, 3.4589999999999996, 0.0, 0.0, 0.0, 0.0, 0.0, 215.6488731, 6.858, false, 18, -0.2, true], [6, \"A\", 202505, \"2011-03-11\", 57.71, 3.4589999999999996, 0.0, 0.0, 0.0, 0.0, 0.0, 215.6488731, 6.858, false, 54, -250.08, true], [6, \"A\", 202505, \"2011-04-08\", 70.35, 3.622, 0.0, 0.0, 0.0, 0.0, 0.0, 216.62443340000002, 6.855, false, 47, -198.0, true], [6, \"A\", 202505, \"2011-10-07\", 74.1, 3.285, 0.0, 0.0, 0.0, 0.0, 0.0, 218.59704, 6.551, false, 47, -298.0, true], [7, \"B\", 70713, \"2010-05-21\", 46.6, 2.7760000000000002, 0.0, 0.0, 0.0, 0.0, 0.0, 189.467827, 8.963, false, 59, -7.09, true], [7, \"B\", 70713, \"2010-06-11\", 63.59, 2.6839999999999997, 0.0, 0.0, 0.0, 0.0, 0.0, 189.40007340000003, 8.963, false, 94, -7.85, true], [7, \"B\", 70713, \"2010-10-22\", 36.84, 2.762, 0.0, 0.0, 0.0, 0.0, 0.0, 190.9070184, 9.137, false, 49, -15.0, true], [7, \"B\", 70713, \"2010-11-26\", 17.95, 2.742, 0.0, 0.0, 0.0, 0.0, 0.0, 191.0121805, 9.137, true, 51, -7.0, true], [7, \"B\", 70713, \"2010-12-03\", 21.88, 2.7119999999999997, 0.0, 0.0, 0.0, 0.0, 0.0, 190.9931437, 9.137, false, 94, -49.98, true], [7, \"B\", 70713, \"2010-12-17\", 20.74, 2.778, 0.0, 0.0, 0.0, 0.0, 0.0, 191.0303376, 9.137, false, 94, -6.0, true], [7, \"B\", 70713, \"2011-02-04\", -2.06, 3.011, 0.0, 0.0, 0.0, 0.0, 0.0, 191.7625895, 8.818, false, 49, -15.0, true], [7, \"B\", 70713, \"2011-02-04\", -2.06, 3.011, 0.0, 0.0, 0.0, 0.0, 0.0, 191.7625895, 8.818, false, 94, -2.5, true], [7, \"B\", 70713, \"2011-03-04\", 21.84, 3.2319999999999998, 0.0, 0.0, 0.0, 0.0, 0.0, 192.0116004, 8.818, false, 18, -7.0, true], [7, \"B\", 70713, \"2011-03-18\", 27.69, 3.406, 0.0, 0.0, 0.0, 0.0, 0.0, 192.1237981, 8.818, false, 18, -14.06, true], [7, \"B\", 70713, \"2011-05-06\", 26.54, 3.735, 0.0, 0.0, 0.0, 0.0, 0.0, 192.7252006, 8.595, false, 19, -10.97, true], [7, \"B\", 70713, \"2011-10-28\", 28.82, 3.55, 0.0, 0.0, 0.0, 0.0, 0.0, 195.33189769999998, 8.513, false, 47, -124.0, true], [8, \"A\", 155078, \"2010-07-09\", 72.49, 2.642, 0.0, 0.0, 0.0, 0.0, 0.0, 214.4729952, 6.315, false, 47, -48.0, true], [8, \"A\", 155078, \"2010-07-23\", 78.29, 2.608, 0.0, 0.0, 0.0, 0.0, 0.0, 214.60296639999999, 6.315, false, 45, -12.96, true], [8, \"A\", 155078, \"2010-10-29\", 57.93, 2.716, 0.0, 0.0, 0.0, 0.0, 0.0, 215.2739, 6.433, false, 54, -26.0, true], [8, \"A\", 155078, \"2010-11-05\", 55.76, 2.6889999999999996, 0.0, 0.0, 0.0, 0.0, 0.0, 215.32299999999998, 6.433, false, 47, -100.0, true], [8, \"A\", 155078, \"2010-12-31\", 41.47, 2.943, 0.0, 0.0, 0.0, 0.0, 0.0, 214.7447295, 6.433, true, 47, -58.0, true], [8, \"A\", 155078, \"2010-12-31\", 41.47, 2.943, 0.0, 0.0, 0.0, 0.0, 0.0, 214.7447295, 6.433, true, 54, -7.08, true], [8, \"A\", 155078, \"2011-07-01\", 87.26, 3.5239999999999996, 0.0, 0.0, 0.0, 0.0, 0.0, 218.5937514, 6.425, false, 18, -6.5, true], [8, \"A\", 155078, \"2011-08-12\", 86.05, 3.638, 0.0, 0.0, 0.0, 0.0, 0.0, 219.0075249, 6.425, false, 18, -2.0, true], [8, \"A\", 155078, \"2011-09-23\", 68.72, 3.467, 0.0, 0.0, 0.0, 0.0, 0.0, 219.788581, 6.425, false, 54, -32.12, true], [8, \"A\", 155078, \"2011-10-28\", 56.86, 3.372, 0.0, 0.0, 0.0, 0.0, 0.0, 221.12780319999996, 6.122999999999999, false, 78, -9.88, true], [9, \"B\", 125833, \"2010-02-05\", 38.01, 2.572, 0.0, 0.0, 0.0, 0.0, 0.0, 214.6554591, 6.415, false, 49, -15.0, true], [9, \"B\", 125833, \"2010-03-19\", 53.15, 2.72, 0.0, 0.0, 0.0, 0.0, 0.0, 214.75972740000003, 6.415, false, 47, -48.0, true], [9, \"B\", 125833, \"2010-05-07\", 68.58, 2.835, 0.0, 0.0, 0.0, 0.0, 0.0, 213.84847799999997, 6.3839999999999995, false, 18, -8.0, true], [9, \"B\", 125833, \"2010-07-02\", 78.55, 2.6689999999999996, 0.0, 0.0, 0.0, 0.0, 0.0, 214.7765028, 6.442, false, 60, -1.0, true], [9, \"B\", 125833, \"2010-09-24\", 77.15, 2.6239999999999997, 0.0, 0.0, 0.0, 0.0, 0.0, 215.13783130000002, 6.442, false, 47, -398.0, true], [9, \"B\", 125833, \"2010-12-10\", 46.1, 2.843, 0.0, 0.0, 0.0, 0.0, 0.0, 214.9981378, 6.56, false, 47, -496.0, true], [9, \"B\", 125833, \"2010-12-31\", 45.92, 2.943, 0.0, 0.0, 0.0, 0.0, 0.0, 214.9268131, 6.56, true, 80, -15.0, true], [9, \"B\", 125833, \"2011-01-07\", 41.82, 2.9760000000000004, 0.0, 0.0, 0.0, 0.0, 0.0, 214.92347290000004, 6.416, false, 47, -34.0, true], [9, \"B\", 125833, \"2011-02-04\", 31.82, 2.989, 0.0, 0.0, 0.0, 0.0, 0.0, 216.1162864, 6.416, false, 47, -36.0, true], [9, \"B\", 125833, \"2011-03-04\", 60.67, 3.2880000000000003, 0.0, 0.0, 0.0, 0.0, 0.0, 217.4036503, 6.416, false, 18, -8.5, true], [9, \"B\", 125833, \"2011-03-25\", 68.79, 3.4730000000000003, 0.0, 0.0, 0.0, 0.0, 0.0, 218.2007506, 6.416, false, 54, -25.92, true], [9, \"B\", 125833, \"2011-06-10\", 85.81, 3.648, 0.0, 0.0, 0.0, 0.0, 0.0, 218.6365747, 6.38, false, 59, -5.19, true], [9, \"B\", 125833, \"2011-06-17\", 89.15, 3.637, 0.0, 0.0, 0.0, 0.0, 0.0, 218.5877333, 6.38, false, 54, -28.92, true], [9, \"B\", 125833, \"2011-06-17\", 89.15, 3.637, 0.0, 0.0, 0.0, 0.0, 0.0, 218.5877333, 6.38, false, 97, -9.92, true], [9, \"B\", 125833, \"2011-07-01\", 89.14, 3.5239999999999996, 0.0, 0.0, 0.0, 0.0, 0.0, 218.7796415, 6.404, false, 47, -148.0, true], [9, \"B\", 125833, \"2011-07-08\", 89.04, 3.48, 0.0, 0.0, 0.0, 0.0, 0.0, 218.8755955, 6.404, false, 47, -198.0, true], [10, \"B\", 126512, \"2010-02-26\", 52.77, 2.825, 0.0, 0.0, 0.0, 0.0, 0.0, 126.55228570000001, 9.765, false, 94, -12.74, true], [10, \"B\", 126512, \"2010-03-05\", 55.92, 2.877, 0.0, 0.0, 0.0, 0.0, 0.0, 126.57828570000001, 9.765, false, 47, -798.0, true], [10, \"B\", 126512, \"2010-03-12\", 52.33, 3.034, 0.0, 0.0, 0.0, 0.0, 0.0, 126.6042857, 9.765, false, 78, -12.0, true], [10, \"B\", 126512, \"2010-06-11\", 89.67, 3.057, 0.0, 0.0, 0.0, 0.0, 0.0, 126.11190320000001, 9.524, false, 98, -1.78, true], [10, \"B\", 126512, \"2010-06-18\", 83.49, 2.935, 0.0, 0.0, 0.0, 0.0, 0.0, 126.11399999999999, 9.524, false, 98, -19.54, true], [10, \"B\", 126512, \"2010-07-02\", 92.89, 2.978, 0.0, 0.0, 0.0, 0.0, 0.0, 126.1392, 9.199, false, 94, -12.6, true], [10, \"B\", 126512, \"2010-07-23\", 88.44, 3.112, 0.0, 0.0, 0.0, 0.0, 0.0, 126.1283548, 9.199, false, 47, -60.0, true], [10, \"B\", 126512, \"2010-07-30\", 85.03, 3.017, 0.0, 0.0, 0.0, 0.0, 0.0, 126.10690320000002, 9.199, false, 45, -21.48, true], [10, \"B\", 126512, \"2010-07-30\", 85.03, 3.017, 0.0, 0.0, 0.0, 0.0, 0.0, 126.10690320000002, 9.199, false, 47, -148.0, true], [10, \"B\", 126512, \"2010-08-06\", 86.13, 3.123, 0.0, 0.0, 0.0, 0.0, 0.0, 126.08545159999998, 9.199, false, 47, -100.0, true], [10, \"B\", 126512, \"2010-08-27\", 84.99, 3.022, 0.0, 0.0, 0.0, 0.0, 0.0, 126.08929029999999, 9.199, false, 98, -2.25, true], [10, \"B\", 126512, \"2010-09-03\", 83.8, 3.0869999999999997, 0.0, 0.0, 0.0, 0.0, 0.0, 126.1019355, 9.199, false, 18, -17.0, true], [10, \"B\", 126512, \"2010-09-24\", 85.75, 2.9389999999999996, 0.0, 0.0, 0.0, 0.0, 0.0, 126.19003329999998, 9.199, false, 47, -108.0, true], [10, \"B\", 126512, \"2010-09-24\", 85.75, 2.9389999999999996, 0.0, 0.0, 0.0, 0.0, 0.0, 126.19003329999998, 9.199, false, 94, -1.85, true], [10, \"B\", 126512, \"2010-10-15\", 75.48, 3.08, 0.0, 0.0, 0.0, 0.0, 0.0, 126.3266774, 9.003, false, 47, -798.0, true], [10, \"B\", 126512, \"2010-11-12\", 61.24, 3.13, 0.0, 0.0, 0.0, 0.0, 0.0, 126.5461613, 9.003, false, 78, -12.0, true], [10, \"B\", 126512, \"2010-11-12\", 61.24, 3.13, 0.0, 0.0, 0.0, 0.0, 0.0, 126.5461613, 9.003, false, 94, -0.08, true], [10, \"B\", 126512, \"2010-11-19\", 58.83, 3.0469999999999997, 0.0, 0.0, 0.0, 0.0, 0.0, 126.6072, 9.003, false, 54, -84.08, true], [10, \"B\", 126512, \"2010-12-17\", 59.15, 3.125, 0.0, 0.0, 0.0, 0.0, 0.0, 126.87948390000001, 9.003, false, 47, -41.0, true], [10, \"B\", 126512, \"2011-01-07\", 43.43, 3.287, 0.0, 0.0, 0.0, 0.0, 0.0, 127.19177420000001, 8.744, false, 47, -69.0, true], [10, \"B\", 126512, \"2011-01-14\", 49.98, 3.312, 0.0, 0.0, 0.0, 0.0, 0.0, 127.3009355, 8.744, false, 98, -1.25, true], [10, \"B\", 126512, \"2011-01-21\", 56.75, 3.3360000000000003, 0.0, 0.0, 0.0, 0.0, 0.0, 127.44048390000002, 8.744, false, 94, -1.98, true], [10, \"B\", 126512, \"2011-03-11\", 64.22, 3.63, 0.0, 0.0, 0.0, 0.0, 0.0, 128.3995, 8.744, false, 47, -515.0, true], [10, \"B\", 126512, \"2011-04-01\", 67.64, 3.772, 0.0, 0.0, 0.0, 0.0, 0.0, 128.7199355, 8.494, false, 94, -1.98, true], [10, \"B\", 126512, \"2011-05-27\", 78.62, 3.9330000000000003, 0.0, 0.0, 0.0, 0.0, 0.0, 129.0623548, 8.494, false, 18, -2.0, true], [10, \"B\", 126512, \"2011-06-03\", 81.87, 3.8930000000000002, 0.0, 0.0, 0.0, 0.0, 0.0, 129.0490323, 8.494, false, 18, -1.97, true], [10, \"B\", 126512, \"2011-06-10\", 84.57, 3.9810000000000003, 0.0, 0.0, 0.0, 0.0, 0.0, 129.0357097, 8.494, false, 47, -55.0, true], [10, \"B\", 126512, \"2011-06-17\", 87.96, 3.935, 0.0, 0.0, 0.0, 0.0, 0.0, 129.0432, 8.494, false, 94, -1.88, true], [10, \"B\", 126512, \"2011-06-24\", 90.69, 3.807, 0.0, 0.0, 0.0, 0.0, 0.0, 129.0663, 8.494, false, 18, -4.0, true], [10, \"B\", 126512, \"2011-06-24\", 90.69, 3.807, 0.0, 0.0, 0.0, 0.0, 0.0, 129.0663, 8.494, false, 47, -410.0, true], [10, \"B\", 126512, \"2011-07-15\", 86.01, 3.779, 0.0, 0.0, 0.0, 0.0, 0.0, 129.1338387, 8.257, false, 94, -3.77, true], [10, \"B\", 126512, \"2011-08-05\", 89.8, 3.803, 0.0, 0.0, 0.0, 0.0, 0.0, 129.1846452, 8.257, false, 47, -798.0, true], [10, \"B\", 126512, \"2011-08-05\", 89.8, 3.803, 0.0, 0.0, 0.0, 0.0, 0.0, 129.1846452, 8.257, false, 54, -5.0, true], [10, \"B\", 126512, \"2011-08-12\", 85.61, 3.7939999999999996, 0.0, 0.0, 0.0, 0.0, 0.0, 129.2015806, 8.257, false, 18, -19.97, true], [10, \"B\", 126512, \"2011-09-02\", 91.61, 3.798, 0.0, 0.0, 0.0, 0.0, 0.0, 129.32593549999999, 8.257, false, 47, -439.0, true], [10, \"B\", 126512, \"2011-09-02\", 91.61, 3.798, 0.0, 0.0, 0.0, 0.0, 0.0, 129.32593549999999, 8.257, false, 98, -1.0, true], [10, \"B\", 126512, \"2011-09-09\", 89.06, 3.7710000000000004, 0.0, 0.0, 0.0, 0.0, 0.0, 129.3686129, 8.257, true, 94, -3.84, true], [11, \"A\", 207499, \"2010-03-12\", 64.1, 2.667, 0.0, 0.0, 0.0, 0.0, 0.0, 214.70276459999997, 7.367999999999999, false, 19, -7.96, true], [11, \"A\", 207499, \"2010-03-19\", 61.51, 2.72, 0.0, 0.0, 0.0, 0.0, 0.0, 214.5301219, 7.367999999999999, false, 45, -0.86, true], [11, \"A\", 207499, \"2010-03-26\", 58.09, 2.7319999999999998, 0.0, 0.0, 0.0, 0.0, 0.0, 214.3241011, 7.367999999999999, false, 19, -5.0, true], [11, \"A\", 207499, \"2010-05-21\", 76.97, 2.826, 0.0, 0.0, 0.0, 0.0, 0.0, 213.9116886, 7.343, false, 18, -5.73, true], [11, \"A\", 207499, \"2010-06-18\", 84.13, 2.637, 0.0, 0.0, 0.0, 0.0, 0.0, 214.78582590000002, 7.343, false, 47, -38.0, true], [11, \"A\", 207499, \"2010-06-25\", 84.5, 2.653, 0.0, 0.0, 0.0, 0.0, 0.0, 214.6660741, 7.343, false, 18, -2.0, true], [11, \"A\", 207499, \"2010-06-25\", 84.5, 2.653, 0.0, 0.0, 0.0, 0.0, 0.0, 214.6660741, 7.343, false, 51, -26.84, true], [11, \"A\", 207499, \"2010-08-20\", 88.93, 2.6639999999999997, 0.0, 0.0, 0.0, 0.0, 0.0, 214.9314191, 7.346, false, 45, -11.28, true], [11, \"A\", 207499, \"2010-10-01\", 75.11, 2.603, 0.0, 0.0, 0.0, 0.0, 0.0, 214.9846548, 7.564, false, 47, -103.0, true], [11, \"A\", 207499, \"2010-11-12\", 63.74, 2.728, 0.0, 0.0, 0.0, 0.0, 0.0, 215.32562579999998, 7.564, false, 19, -8.94, true], [11, \"A\", 207499, \"2010-12-03\", 55.9, 2.708, 0.0, 0.0, 0.0, 0.0, 0.0, 214.9153531, 7.564, false, 47, -45.0, true], [11, \"A\", 207499, \"2011-01-21\", 51.51, 3.016, 0.0, 0.0, 0.0, 0.0, 0.0, 215.1268275, 7.551, false, 19, -9.94, true], [11, \"A\", 207499, \"2011-02-04\", 47.17, 2.989, 0.0, 0.0, 0.0, 0.0, 0.0, 215.88633670000002, 7.551, false, 54, -30.32, true], [11, \"A\", 207499, \"2011-03-18\", 70.17, 3.488, 0.0, 0.0, 0.0, 0.0, 0.0, 217.72352259999997, 7.551, false, 54, -5.36, true], [11, \"A\", 207499, \"2011-03-25\", 73.74, 3.4730000000000003, 0.0, 0.0, 0.0, 0.0, 0.0, 217.96747050000002, 7.551, false, 47, -58.0, true], [11, \"A\", 207499, \"2011-04-01\", 69.1, 3.5239999999999996, 0.0, 0.0, 0.0, 0.0, 0.0, 218.21141839999999, 7.574, false, 19, -5.0, true], [11, \"A\", 207499, \"2011-04-22\", 78.31, 3.807, 0.0, 0.0, 0.0, 0.0, 0.0, 218.851237, 7.574, false, 48, -60.0, true], [11, \"A\", 207499, \"2011-06-03\", 86.14, 3.699, 0.0, 0.0, 0.0, 0.0, 0.0, 218.6449369, 7.574, false, 18, -5.0, true], [11, \"A\", 207499, \"2011-06-24\", 86.13, 3.594, 0.0, 0.0, 0.0, 0.0, 0.0, 218.45094, 7.574, false, 47, -594.0, true], [11, \"A\", 207499, \"2011-07-08\", 87.17, 3.48, 0.0, 0.0, 0.0, 0.0, 0.0, 218.64247039999998, 7.567, false, 18, -2.66, true], [11, \"A\", 207499, \"2011-08-19\", 89.51, 3.554, 0.0, 0.0, 0.0, 0.0, 0.0, 219.023271, 7.567, false, 47, -198.0, true], [12, \"B\", 112238, \"2010-02-19\", 54.83, 2.915, 0.0, 0.0, 0.0, 0.0, 0.0, 126.5262857, 13.975, false, 78, -12.0, true], [12, \"B\", 112238, \"2010-03-12\", 50.11, 2.925, 0.0, 0.0, 0.0, 0.0, 0.0, 126.6042857, 13.975, false, 47, -598.0, true], [12, \"B\", 112238, \"2010-03-26\", 60.06, 3.083, 0.0, 0.0, 0.0, 0.0, 0.0, 126.6050645, 13.975, false, 47, -548.14, true], [12, \"B\", 112238, \"2010-03-26\", 60.06, 3.083, 0.0, 0.0, 0.0, 0.0, 0.0, 126.6050645, 13.975, false, 49, -1.97, true], [12, \"B\", 112238, \"2010-04-16\", 64.95, 3.109, 0.0, 0.0, 0.0, 0.0, 0.0, 126.5621, 14.099, false, 49, -15.0, true], [12, \"B\", 112238, \"2010-04-30\", 67.38, 3.105, 0.0, 0.0, 0.0, 0.0, 0.0, 126.38056670000002, 14.099, false, 47, -58.0, true], [12, \"B\", 112238, \"2010-06-04\", 81.39, 2.9410000000000003, 0.0, 0.0, 0.0, 0.0, 0.0, 126.1360645, 14.099, false, 49, -4.97, true], [12, \"B\", 112238, \"2010-09-03\", 83.12, 3.0869999999999997, 0.0, 0.0, 0.0, 0.0, 0.0, 126.1019355, 14.18, false, 94, -173.84, true], [12, \"B\", 112238, \"2010-11-26\", 47.66, 3.162, 0.0, 0.0, 0.0, 0.0, 0.0, 126.66926670000001, 14.312999999999999, true, 51, -7.0, true], [12, \"B\", 112238, \"2011-01-28\", 50.74, 3.342, 0.0, 0.0, 0.0, 0.0, 0.0, 127.58003229999998, 14.020999999999999, false, 47, -400.0, true], [12, \"B\", 112238, \"2011-02-04\", 45.14, 3.3480000000000003, 0.0, 0.0, 0.0, 0.0, 0.0, 127.71958059999999, 14.020999999999999, false, 47, -49.0, true], [12, \"B\", 112238, \"2011-03-11\", 57.75, 3.818, 0.0, 0.0, 0.0, 0.0, 0.0, 128.3995, 14.020999999999999, false, 49, -15.0, true], [12, \"B\", 112238, \"2011-03-11\", 57.75, 3.818, 0.0, 0.0, 0.0, 0.0, 0.0, 128.3995, 14.020999999999999, false, 94, -2.48, true], [12, \"B\", 112238, \"2011-03-18\", 64.21, 3.6919999999999997, 0.0, 0.0, 0.0, 0.0, 0.0, 128.5121935, 14.020999999999999, false, 47, -189.0, true], [12, \"B\", 112238, \"2011-03-18\", 64.21, 3.6919999999999997, 0.0, 0.0, 0.0, 0.0, 0.0, 128.5121935, 14.020999999999999, false, 94, -45.0, true], [12, \"B\", 112238, \"2011-04-01\", 63.63, 3.772, 0.0, 0.0, 0.0, 0.0, 0.0, 128.7199355, 13.735999999999999, false, 47, -55.0, true], [12, \"B\", 112238, \"2011-04-01\", 63.63, 3.772, 0.0, 0.0, 0.0, 0.0, 0.0, 128.7199355, 13.735999999999999, false, 49, -15.0, true], [12, \"B\", 112238, \"2011-05-06\", 68.4, 4.1930000000000005, 0.0, 0.0, 0.0, 0.0, 0.0, 129.04443329999998, 13.735999999999999, false, 18, -3.8, true], [12, \"B\", 112238, \"2011-05-13\", 70.93, 4.202, 0.0, 0.0, 0.0, 0.0, 0.0, 129.089, 13.735999999999999, false, 47, -92.0, true], [12, \"B\", 112238, \"2011-05-20\", 66.59, 4.169, 0.0, 0.0, 0.0, 0.0, 0.0, 129.0756774, 13.735999999999999, false, 49, -68.0, true], [12, \"B\", 112238, \"2011-06-03\", 71.81, 4.031000000000001, 0.0, 0.0, 0.0, 0.0, 0.0, 129.0490323, 13.735999999999999, false, 18, -1.0, true], [12, \"B\", 112238, \"2011-07-01\", 89.85, 3.842, 0.0, 0.0, 0.0, 0.0, 0.0, 129.0894, 13.503, false, 49, -15.0, true], [12, \"B\", 112238, \"2011-07-15\", 88.1, 3.6919999999999997, 0.0, 0.0, 0.0, 0.0, 0.0, 129.1338387, 13.503, false, 94, -5.68, true], [12, \"B\", 112238, \"2011-08-12\", 91.04, 3.701, 0.0, 0.0, 0.0, 0.0, 0.0, 129.2015806, 13.503, false, 47, -98.0, true], [13, \"A\", 219622, \"2010-04-09\", 38.97, 2.877, 0.0, 0.0, 0.0, 0.0, 0.0, 126.60190320000001, 8.107000000000001, false, 51, -14.56, true], [13, \"A\", 219622, \"2010-04-30\", 48.33, 2.9410000000000003, 0.0, 0.0, 0.0, 0.0, 0.0, 126.38056670000002, 8.107000000000001, false, 18, -2.11, true], [13, \"A\", 219622, \"2010-05-07\", 44.42, 2.948, 0.0, 0.0, 0.0, 0.0, 0.0, 126.2898, 8.107000000000001, false, 18, -3.75, true], [13, \"A\", 219622, \"2010-05-21\", 57.71, 2.95, 0.0, 0.0, 0.0, 0.0, 0.0, 126.18438710000001, 8.107000000000001, false, 18, -4.0, true], [13, \"A\", 219622, \"2010-06-11\", 65.24, 2.841, 0.0, 0.0, 0.0, 0.0, 0.0, 126.11190320000001, 8.107000000000001, false, 18, -4.38, true], [13, \"A\", 219622, \"2010-06-25\", 71.83, 2.82, 0.0, 0.0, 0.0, 0.0, 0.0, 126.1266, 8.107000000000001, false, 51, -53.52, true], [13, \"A\", 219622, \"2010-07-16\", 77.79, 2.7910000000000004, 0.0, 0.0, 0.0, 0.0, 0.0, 126.1498065, 7.9510000000000005, false, 18, -4.0, true], [13, \"A\", 219622, \"2010-10-01\", 68.74, 2.853, 0.0, 0.0, 0.0, 0.0, 0.0, 126.2346, 7.795, false, 51, -11.08, true], [13, \"A\", 219622, \"2011-01-14\", 20.6, 2.903, 0.0, 0.0, 0.0, 0.0, 0.0, 127.3009355, 7.47, false, 51, -21.84, true], [13, \"A\", 219622, \"2011-09-23\", 63.6, 3.648, 0.0, 0.0, 0.0, 0.0, 0.0, 129.5183333, 6.877000000000001, false, 51, -14.24, true], [14, \"A\", 200898, \"2010-03-05\", 37.13, 2.7769999999999997, 0.0, 0.0, 0.0, 0.0, 0.0, 182.1201566, 8.992, false, 47, -59.0, true], [14, \"A\", 200898, \"2010-04-16\", 54.28, 2.8989999999999996, 0.0, 0.0, 0.0, 0.0, 0.0, 181.6924769, 8.899, false, 45, -19.0, true], [14, \"A\", 200898, \"2010-05-07\", 70.75, 2.966, 0.0, 0.0, 0.0, 0.0, 0.0, 181.6468154, 8.899, false, 18, -1.4, true], [14, \"A\", 200898, \"2010-06-04\", 75.93, 2.847, 0.0, 0.0, 0.0, 0.0, 0.0, 182.2389876, 8.899, false, 47, -90.0, true], [14, \"A\", 200898, \"2010-07-16\", 77.84, 2.783, 0.0, 0.0, 0.0, 0.0, 0.0, 182.26044109999998, 8.743, false, 18, -1.5, true], [14, \"A\", 200898, \"2010-07-23\", 81.46, 2.7710000000000004, 0.0, 0.0, 0.0, 0.0, 0.0, 182.3509895, 8.743, false, 19, -10.0, true], [14, \"A\", 200898, \"2010-07-30\", 79.78, 2.781, 0.0, 0.0, 0.0, 0.0, 0.0, 182.4415378, 8.743, false, 47, -25.0, true], [14, \"A\", 200898, \"2010-09-24\", 68.59, 2.713, 0.0, 0.0, 0.0, 0.0, 0.0, 182.6696737, 8.743, false, 47, -498.0, true], [14, \"A\", 200898, \"2011-03-04\", 38.65, 3.4330000000000003, 0.0, 0.0, 0.0, 0.0, 0.0, 184.3879911, 8.549, false, 18, -4.15, true], [14, \"A\", 200898, \"2011-03-18\", 46.66, 3.6310000000000002, 0.0, 0.0, 0.0, 0.0, 0.0, 184.809719, 8.549, false, 54, -20.0, true], [14, \"A\", 200898, \"2011-05-20\", 62.28, 4.062, 0.0, 0.0, 0.0, 0.0, 0.0, 185.9661154, 8.521, false, 47, -198.0, true], [14, \"A\", 200898, \"2011-05-27\", 69.7, 3.985, 0.0, 0.0, 0.0, 0.0, 0.0, 185.8603077, 8.521, false, 78, -2.0, true], [14, \"A\", 200898, \"2011-06-03\", 76.38, 3.9219999999999997, 0.0, 0.0, 0.0, 0.0, 0.0, 185.7545, 8.521, false, 18, -0.9, true], [14, \"A\", 200898, \"2011-06-10\", 73.88, 3.8810000000000002, 0.0, 0.0, 0.0, 0.0, 0.0, 185.64869230000002, 8.521, false, 18, -10.54, true], [14, \"A\", 200898, \"2011-06-17\", 69.32, 3.842, 0.0, 0.0, 0.0, 0.0, 0.0, 185.6719333, 8.521, false, 18, -3.5, true], [14, \"A\", 200898, \"2011-09-16\", 69.17, 3.742, 0.0, 0.0, 0.0, 0.0, 0.0, 186.8024, 8.625, false, 99, -30.0, true], [14, \"A\", 200898, \"2011-09-23\", 63.75, 3.7110000000000003, 0.0, 0.0, 0.0, 0.0, 0.0, 187.0295321, 8.625, false, 54, -465.08, true], [14, \"A\", 200898, \"2011-11-04\", 43.92, 3.551, 0.0, 0.0, 0.0, 0.0, 0.0, 187.9703629, 8.523, false, 54, -42.78, true], [15, \"B\", 123737, \"2010-02-05\", 19.83, 2.9539999999999997, 0.0, 0.0, 0.0, 0.0, 0.0, 131.52790320000003, 8.35, false, 80, -0.04, true], [15, \"B\", 123737, \"2010-02-12\", 22.0, 2.94, 0.0, 0.0, 0.0, 0.0, 0.0, 131.5866129, 8.35, true, 80, -50.97, true], [15, \"B\", 123737, \"2010-02-26\", 29.87, 2.91, 0.0, 0.0, 0.0, 0.0, 0.0, 131.686, 8.35, false, 47, -40.0, true], [15, \"B\", 123737, \"2010-03-12\", 41.39, 2.938, 0.0, 0.0, 0.0, 0.0, 0.0, 131.784, 8.35, false, 47, -99.0, true], [15, \"B\", 123737, \"2010-03-26\", 39.53, 2.963, 0.0, 0.0, 0.0, 0.0, 0.0, 131.86312900000001, 8.35, false, 54, -62.5, true], [15, \"B\", 123737, \"2010-04-09\", 57.77, 2.992, 0.0, 0.0, 0.0, 0.0, 0.0, 131.9408065, 8.185, false, 98, -22.62, true], [15, \"B\", 123737, \"2010-06-18\", 65.83, 2.9419999999999997, 0.0, 0.0, 0.0, 0.0, 0.0, 132.47333329999998, 8.185, false, 78, -7.0, true], [15, \"B\", 123737, \"2010-07-16\", 72.83, 2.9330000000000003, 0.0, 0.0, 0.0, 0.0, 0.0, 132.5667742, 8.099, false, 47, -59.0, true], [15, \"B\", 123737, \"2010-07-23\", 73.2, 2.924, 0.0, 0.0, 0.0, 0.0, 0.0, 132.5825806, 8.099, false, 47, -179.0, true], [15, \"B\", 123737, \"2010-08-27\", 65.07, 2.885, 0.0, 0.0, 0.0, 0.0, 0.0, 132.6932258, 8.099, false, 94, -3.0, true], [15, \"B\", 123737, \"2010-09-10\", 62.36, 2.8369999999999997, 0.0, 0.0, 0.0, 0.0, 0.0, 132.7564516, 8.099, true, 54, -28.0, true], [15, \"B\", 123737, \"2010-09-10\", 62.36, 2.8369999999999997, 0.0, 0.0, 0.0, 0.0, 0.0, 132.7564516, 8.099, true, 98, -1.0, true], [15, \"B\", 123737, \"2010-09-24\", 62.53, 2.8369999999999997, 0.0, 0.0, 0.0, 0.0, 0.0, 132.76193329999998, 8.099, false, 54, -23.0, true], [15, \"B\", 123737, \"2010-10-01\", 59.69, 2.84, 0.0, 0.0, 0.0, 0.0, 0.0, 132.7568, 8.067, false, 45, -13.8, true], [15, \"B\", 123737, \"2010-11-12\", 39.63, 3.065, 0.0, 0.0, 0.0, 0.0, 0.0, 132.9783226, 8.067, false, 54, -5.92, true], [15, \"B\", 123737, \"2010-11-12\", 39.63, 3.065, 0.0, 0.0, 0.0, 0.0, 0.0, 132.9783226, 8.067, false, 56, -20.0, true], [15, \"B\", 123737, \"2010-12-31\", 26.54, 3.3360000000000003, 0.0, 0.0, 0.0, 0.0, 0.0, 132.81503229999998, 8.067, true, 47, -89.0, true], [15, \"B\", 123737, \"2010-12-31\", 26.54, 3.3360000000000003, 0.0, 0.0, 0.0, 0.0, 0.0, 132.81503229999998, 8.067, true, 94, -2.88, true], [15, \"B\", 123737, \"2011-01-07\", 30.53, 3.3510000000000004, 0.0, 0.0, 0.0, 0.0, 0.0, 132.8823226, 7.771, false, 94, -5.98, true], [15, \"B\", 123737, \"2011-03-04\", 28.16, 3.605, 0.0, 0.0, 0.0, 0.0, 0.0, 133.6141429, 7.771, false, 80, -41.02, true], [15, \"B\", 123737, \"2011-04-08\", 40.94, 3.895, 0.0, 0.0, 0.0, 0.0, 0.0, 134.17777420000002, 7.6579999999999995, false, 47, -40.0, true], [15, \"B\", 123737, \"2011-05-20\", 57.19, 4.202, 0.0, 0.0, 0.0, 0.0, 0.0, 134.6803871, 7.6579999999999995, false, 18, -1.66, true], [15, \"B\", 123737, \"2011-05-20\", 57.19, 4.202, 0.0, 0.0, 0.0, 0.0, 0.0, 134.6803871, 7.6579999999999995, false, 94, -9.98, true], [15, \"B\", 123737, \"2011-05-27\", 65.87, 4.1339999999999995, 0.0, 0.0, 0.0, 0.0, 0.0, 134.7677742, 7.6579999999999995, false, 18, -39.0, true], [15, \"B\", 123737, \"2011-06-03\", 69.8, 4.069, 0.0, 0.0, 0.0, 0.0, 0.0, 134.85516130000002, 7.6579999999999995, false, 94, -2.5, true], [15, \"B\", 123737, \"2011-06-10\", 69.86, 4.025, 0.0, 0.0, 0.0, 0.0, 0.0, 134.94254840000002, 7.6579999999999995, false, 54, -4.5, true], [15, \"B\", 123737, \"2011-07-08\", 73.47, 3.886, 0.0, 0.0, 0.0, 0.0, 0.0, 135.6283333, 7.806, false, 94, -2.5, true], [15, \"B\", 123737, \"2011-07-29\", 74.67, 4.004, 0.0, 0.0, 0.0, 0.0, 0.0, 135.9639355, 7.806, false, 78, -9.88, true], [15, \"B\", 123737, \"2011-08-12\", 70.63, 3.995, 0.0, 0.0, 0.0, 0.0, 0.0, 136.144129, 7.806, false, 54, -6.68, true], [15, \"B\", 123737, \"2011-09-02\", 67.63, 3.8789999999999996, 0.0, 0.0, 0.0, 0.0, 0.0, 136.24409680000002, 7.806, false, 18, -14.94, true], [15, \"B\", 123737, \"2011-09-16\", 62.1, 3.937, 0.0, 0.0, 0.0, 0.0, 0.0, 136.3145, 7.806, false, 94, -2.5, true], [15, \"B\", 123737, \"2011-09-30\", 64.87, 3.858, 0.0, 0.0, 0.0, 0.0, 0.0, 136.4195, 7.806, false, 45, -19.86, true], [15, \"B\", 123737, \"2011-10-14\", 61.3, 3.7439999999999998, 0.0, 0.0, 0.0, 0.0, 0.0, 136.5150968, 7.8660000000000005, false, 80, -14.97, true], [15, \"B\", 123737, \"2011-11-04\", 43.39, 3.738, 0.0, 0.0, 0.0, 0.0, 0.0, 136.475129, 7.8660000000000005, false, 94, -1.48, true], [16, \"B\", 57197, \"2010-04-09\", 34.21, 2.75, 0.0, 0.0, 0.0, 0.0, 0.0, 189.6901012, 6.8420000000000005, false, 98, -15.86, true], [16, \"B\", 57197, \"2010-04-30\", 37.75, 2.766, 0.0, 0.0, 0.0, 0.0, 0.0, 189.575127, 6.8420000000000005, false, 18, -1.5, true], [16, \"B\", 57197, \"2010-04-30\", 37.75, 2.766, 0.0, 0.0, 0.0, 0.0, 0.0, 189.575127, 6.8420000000000005, false, 45, -21.96, true], [16, \"B\", 57197, \"2010-06-11\", 62.63, 2.6839999999999997, 0.0, 0.0, 0.0, 0.0, 0.0, 189.40007340000003, 6.8420000000000005, false, 49, -15.0, true], [16, \"B\", 57197, \"2010-09-10\", 57.24, 2.78, 0.0, 0.0, 0.0, 0.0, 0.0, 190.3958293, 6.867999999999999, true, 94, -4.1, true], [16, \"B\", 57197, \"2011-01-14\", 17.46, 2.911, 0.0, 0.0, 0.0, 0.0, 0.0, 191.4784939, 6.614, false, 51, -10.96, true], [16, \"B\", 57197, \"2011-02-11\", 15.02, 3.037, 0.0, 0.0, 0.0, 0.0, 0.0, 191.8572881, 6.614, true, 47, -500.0, true], [16, \"B\", 57197, \"2011-03-04\", 31.77, 3.2319999999999998, 0.0, 0.0, 0.0, 0.0, 0.0, 192.0116004, 6.614, false, 93, -18.66, true], [16, \"B\", 57197, \"2011-03-11\", 29.36, 3.372, 0.0, 0.0, 0.0, 0.0, 0.0, 192.05848400000002, 6.614, false, 94, -3.98, true], [16, \"B\", 57197, \"2011-04-22\", 40.74, 3.636, 0.0, 0.0, 0.0, 0.0, 0.0, 192.5234638, 6.3389999999999995, false, 80, -22.6, true], [16, \"B\", 57197, \"2011-04-29\", 37.77, 3.6630000000000003, 0.0, 0.0, 0.0, 0.0, 0.0, 192.6243322, 6.3389999999999995, false, 54, -39.97, true], [16, \"B\", 57197, \"2011-05-27\", 45.17, 3.795, 0.0, 0.0, 0.0, 0.0, 0.0, 192.83656509999997, 6.3389999999999995, false, 80, -5.46, true], [16, \"B\", 57197, \"2011-06-10\", 55.78, 3.735, 0.0, 0.0, 0.0, 0.0, 0.0, 192.84706119999998, 6.3389999999999995, false, 80, -9.53, true], [16, \"B\", 57197, \"2011-06-10\", 55.78, 3.735, 0.0, 0.0, 0.0, 0.0, 0.0, 192.84706119999998, 6.3389999999999995, false, 83, -5.48, true], [16, \"B\", 57197, \"2011-06-17\", 58.34, 3.697, 0.0, 0.0, 0.0, 0.0, 0.0, 192.90347590000002, 6.3389999999999995, false, 80, -43.48, true], [16, \"B\", 57197, \"2011-06-17\", 58.34, 3.697, 0.0, 0.0, 0.0, 0.0, 0.0, 192.90347590000002, 6.3389999999999995, false, 94, -3.88, true], [16, \"B\", 57197, \"2011-07-01\", 63.59, 3.597, 0.0, 0.0, 0.0, 0.0, 0.0, 193.09305519999998, 6.337999999999999, false, 80, -26.85, true], [16, \"B\", 57197, \"2011-07-08\", 65.0, 3.54, 0.0, 0.0, 0.0, 0.0, 0.0, 193.18784480000002, 6.337999999999999, false, 80, -11.54, true], [16, \"B\", 57197, \"2011-07-15\", 65.16, 3.532, 0.0, 0.0, 0.0, 0.0, 0.0, 193.31254840000003, 6.337999999999999, false, 80, -590.04, true], [16, \"B\", 57197, \"2011-07-29\", 66.84, 3.5469999999999997, 0.0, 0.0, 0.0, 0.0, 0.0, 193.711525, 6.337999999999999, false, 80, -2.58, true], [16, \"B\", 57197, \"2011-08-05\", 63.96, 3.554, 0.0, 0.0, 0.0, 0.0, 0.0, 193.9110133, 6.337999999999999, false, 54, -5.0, true], [16, \"B\", 57197, \"2011-08-05\", 63.96, 3.554, 0.0, 0.0, 0.0, 0.0, 0.0, 193.9110133, 6.337999999999999, false, 80, -2.08, true], [16, \"B\", 57197, \"2011-08-05\", 63.96, 3.554, 0.0, 0.0, 0.0, 0.0, 0.0, 193.9110133, 6.337999999999999, false, 94, -4.88, true], [16, \"B\", 57197, \"2011-08-26\", 67.51, 3.485, 0.0, 0.0, 0.0, 0.0, 0.0, 194.3796374, 6.337999999999999, false, 80, -83.57, true], [16, \"B\", 57197, \"2011-09-02\", 63.44, 3.511, 0.0, 0.0, 0.0, 0.0, 0.0, 194.5092113, 6.337999999999999, false, 80, -43.0, true], [16, \"B\", 57197, \"2011-09-09\", 56.99, 3.5660000000000003, 0.0, 0.0, 0.0, 0.0, 0.0, 194.63878530000002, 6.337999999999999, true, 80, -486.27, true], [16, \"B\", 57197, \"2011-09-30\", 57.61, 3.5380000000000003, 0.0, 0.0, 0.0, 0.0, 0.0, 194.8779718, 6.337999999999999, false, 78, -12.88, true], [17, \"B\", 93188, \"2010-02-12\", 18.36, 2.6710000000000003, 0.0, 0.0, 0.0, 0.0, 0.0, 126.4962581, 6.547999999999999, true, 78, -3.0, true], [17, \"B\", 93188, \"2010-02-19\", 25.06, 2.654, 0.0, 0.0, 0.0, 0.0, 0.0, 126.5262857, 6.547999999999999, false, 47, -17.74, true], [17, \"B\", 93188, \"2010-03-19\", 33.96, 2.782, 0.0, 0.0, 0.0, 0.0, 0.0, 126.6066452, 6.547999999999999, false, 47, -20.0, true], [17, \"B\", 93188, \"2010-04-02\", 36.94, 2.842, 0.0, 0.0, 0.0, 0.0, 0.0, 126.60348390000001, 6.635, false, 41, -15.0, true], [17, \"B\", 93188, \"2010-04-02\", 36.94, 2.842, 0.0, 0.0, 0.0, 0.0, 0.0, 126.60348390000001, 6.635, false, 49, -15.0, true], [17, \"B\", 93188, \"2010-04-23\", 52.25, 2.9360000000000004, 0.0, 0.0, 0.0, 0.0, 0.0, 126.47133329999998, 6.635, false, 94, -3.0, true], [17, \"B\", 93188, \"2010-05-21\", 53.94, 2.95, 0.0, 0.0, 0.0, 0.0, 0.0, 126.18438710000001, 6.635, false, 49, -7.94, true], [17, \"B\", 93188, \"2010-06-18\", 54.94, 2.819, 0.0, 0.0, 0.0, 0.0, 0.0, 126.11399999999999, 6.635, false, 49, -15.0, true], [17, \"B\", 93188, \"2010-06-25\", 62.64, 2.82, 0.0, 0.0, 0.0, 0.0, 0.0, 126.1266, 6.635, false, 49, -15.0, true], [17, \"B\", 93188, \"2010-07-02\", 68.98, 2.8139999999999996, 0.0, 0.0, 0.0, 0.0, 0.0, 126.1392, 6.697, false, 54, -10.0, true], [17, \"B\", 93188, \"2010-07-09\", 62.41, 2.802, 0.0, 0.0, 0.0, 0.0, 0.0, 126.1518, 6.697, false, 54, -75.0, true], [17, \"B\", 93188, \"2010-09-03\", 57.86, 2.8680000000000003, 0.0, 0.0, 0.0, 0.0, 0.0, 126.1019355, 6.697, false, 41, -28.0, true], [17, \"B\", 93188, \"2010-10-08\", 58.06, 2.841, 0.0, 0.0, 0.0, 0.0, 0.0, 126.27916670000002, 6.885, false, 41, -2.0, true], [17, \"B\", 93188, \"2010-10-22\", 47.95, 2.8489999999999998, 0.0, 0.0, 0.0, 0.0, 0.0, 126.38154840000001, 6.885, false, 41, -9.0, true], [17, \"B\", 93188, \"2010-11-05\", 42.54, 2.8310000000000004, 0.0, 0.0, 0.0, 0.0, 0.0, 126.49129029999999, 6.885, false, 49, -15.0, true], [17, \"B\", 93188, \"2010-11-26\", 19.03, 2.83, 0.0, 0.0, 0.0, 0.0, 0.0, 126.66926670000001, 6.885, true, 94, -1.98, true], [17, \"B\", 93188, \"2010-12-10\", 31.64, 2.8169999999999997, 0.0, 0.0, 0.0, 0.0, 0.0, 126.7934, 6.885, false, 94, -4.26, true], [17, \"B\", 93188, \"2010-12-31\", 20.79, 2.8680000000000003, 0.0, 0.0, 0.0, 0.0, 0.0, 127.0876774, 6.885, true, 41, -17.5, true], [17, \"B\", 93188, \"2010-12-31\", 20.79, 2.8680000000000003, 0.0, 0.0, 0.0, 0.0, 0.0, 127.0876774, 6.885, true, 54, -20.0, true], [17, \"B\", 93188, \"2010-12-31\", 20.79, 2.8680000000000003, 0.0, 0.0, 0.0, 0.0, 0.0, 127.0876774, 6.885, true, 94, -24.88, true], [17, \"B\", 93188, \"2011-01-07\", 6.23, 2.891, 0.0, 0.0, 0.0, 0.0, 0.0, 127.19177420000001, 6.8660000000000005, false, 49, -17.97, true], [17, \"B\", 93188, \"2011-01-21\", 26.62, 2.9339999999999997, 0.0, 0.0, 0.0, 0.0, 0.0, 127.44048390000002, 6.8660000000000005, false, 47, -63.0, true], [17, \"B\", 93188, \"2011-01-28\", 22.16, 2.96, 0.0, 0.0, 0.0, 0.0, 0.0, 127.58003229999998, 6.8660000000000005, false, 41, -2.0, true], [17, \"B\", 93188, \"2011-01-28\", 22.16, 2.96, 0.0, 0.0, 0.0, 0.0, 0.0, 127.58003229999998, 6.8660000000000005, false, 77, -20.97, true], [17, \"B\", 93188, \"2011-02-11\", 14.19, 3.034, 0.0, 0.0, 0.0, 0.0, 0.0, 127.85912900000001, 6.8660000000000005, true, 49, -31.94, true], [17, \"B\", 93188, \"2011-04-29\", 40.14, 3.6830000000000003, 0.0, 0.0, 0.0, 0.0, 0.0, 128.9998667, 6.774, false, 94, -2.5, true], [17, \"B\", 93188, \"2011-05-06\", 45.66, 3.7439999999999998, 0.0, 0.0, 0.0, 0.0, 0.0, 129.04443329999998, 6.774, false, 18, -6.0, true], [17, \"B\", 93188, \"2011-05-06\", 45.66, 3.7439999999999998, 0.0, 0.0, 0.0, 0.0, 0.0, 129.04443329999998, 6.774, false, 49, -7.94, true], [17, \"B\", 93188, \"2011-06-10\", 54.57, 3.7319999999999998, 0.0, 0.0, 0.0, 0.0, 0.0, 129.0357097, 6.774, false, 18, -2.97, true], [17, \"B\", 93188, \"2011-06-10\", 54.57, 3.7319999999999998, 0.0, 0.0, 0.0, 0.0, 0.0, 129.0357097, 6.774, false, 49, -1.97, true], [17, \"B\", 93188, \"2011-07-22\", 69.82, 3.563, 0.0, 0.0, 0.0, 0.0, 0.0, 129.1507742, 6.745, false, 54, -18.04, true], [17, \"B\", 93188, \"2011-07-29\", 68.59, 3.574, 0.0, 0.0, 0.0, 0.0, 0.0, 129.16770970000002, 6.745, false, 94, -3.13, true], [17, \"B\", 93188, \"2011-08-26\", 72.04, 3.57, 0.0, 0.0, 0.0, 0.0, 0.0, 129.2832581, 6.745, false, 41, -2.0, true], [17, \"B\", 93188, \"2011-10-28\", 41.89, 3.5669999999999997, 0.0, 0.0, 0.0, 0.0, 0.0, 129.7936774, 6.617000000000001, false, 78, -9.88, true], [18, \"B\", 120653, \"2010-03-19\", 45.42, 2.8339999999999996, 0.0, 0.0, 0.0, 0.0, 0.0, 131.8242903, 9.202, false, 98, -2.5, true], [18, \"B\", 120653, \"2010-04-23\", 50.3, 2.895, 0.0, 0.0, 0.0, 0.0, 0.0, 132.0226667, 9.269, false, 78, -12.0, true], [18, \"B\", 120653, \"2010-04-30\", 51.12, 2.935, 0.0, 0.0, 0.0, 0.0, 0.0, 132.0644333, 9.269, false, 18, -3.26, true], [18, \"B\", 120653, \"2010-05-21\", 60.27, 2.9610000000000003, 0.0, 0.0, 0.0, 0.0, 0.0, 132.2230323, 9.269, false, 94, -10.02, true], [18, \"B\", 120653, \"2010-06-11\", 64.08, 2.83, 0.0, 0.0, 0.0, 0.0, 0.0, 132.4357419, 9.269, false, 51, -17.0, true], [18, \"B\", 120653, \"2010-06-18\", 65.96, 2.805, 0.0, 0.0, 0.0, 0.0, 0.0, 132.47333329999998, 9.269, false, 18, -3.0, true], [18, \"B\", 120653, \"2010-06-18\", 65.96, 2.805, 0.0, 0.0, 0.0, 0.0, 0.0, 132.47333329999998, 9.269, false, 98, -6.0, true], [18, \"B\", 120653, \"2010-06-25\", 74.04, 2.81, 0.0, 0.0, 0.0, 0.0, 0.0, 132.4976, 9.269, false, 47, -38.0, true], [18, \"B\", 120653, \"2010-07-02\", 71.22, 2.815, 0.0, 0.0, 0.0, 0.0, 0.0, 132.5218667, 9.342, false, 51, -1.56, true], [18, \"B\", 120653, \"2010-08-06\", 73.67, 2.792, 0.0, 0.0, 0.0, 0.0, 0.0, 132.6141935, 9.342, false, 60, -7.5, true], [18, \"B\", 120653, \"2010-08-06\", 73.67, 2.792, 0.0, 0.0, 0.0, 0.0, 0.0, 132.6141935, 9.342, false, 78, -5.0, true], [18, \"B\", 120653, \"2010-08-06\", 73.67, 2.792, 0.0, 0.0, 0.0, 0.0, 0.0, 132.6141935, 9.342, false, 94, -14.66, true], [18, \"B\", 120653, \"2010-10-01\", 67.76, 2.717, 0.0, 0.0, 0.0, 0.0, 0.0, 132.7568, 9.331, false, 47, -17.0, true], [18, \"B\", 120653, \"2010-11-05\", 42.05, 2.938, 0.0, 0.0, 0.0, 0.0, 0.0, 132.92458059999998, 9.331, false, 94, -3.87, true], [18, \"B\", 120653, \"2010-12-03\", 37.09, 3.065, 0.0, 0.0, 0.0, 0.0, 0.0, 132.7566667, 9.331, false, 45, -1.56, true], [18, \"B\", 120653, \"2010-12-03\", 37.09, 3.065, 0.0, 0.0, 0.0, 0.0, 0.0, 132.7566667, 9.331, false, 80, -32.72, true], [18, \"B\", 120653, \"2011-02-25\", 26.15, 3.281, 0.0, 0.0, 0.0, 0.0, 0.0, 133.4921429, 9.131, false, 98, -0.07, true], [18, \"B\", 120653, \"2011-03-11\", 38.4, 3.6, 0.0, 0.0, 0.0, 0.0, 0.0, 133.7361429, 9.131, false, 47, -19.0, true], [18, \"B\", 120653, \"2011-04-01\", 35.06, 3.638, 0.0, 0.0, 0.0, 0.0, 0.0, 134.0682581, 8.975, false, 54, -10.92, true], [18, \"B\", 120653, \"2011-05-06\", 54.17, 4.078, 0.0, 0.0, 0.0, 0.0, 0.0, 134.51436669999998, 8.975, false, 98, -2.48, true], [18, \"B\", 120653, \"2011-05-20\", 57.55, 4.101, 0.0, 0.0, 0.0, 0.0, 0.0, 134.6803871, 8.975, false, 18, -0.6, true], [18, \"B\", 120653, \"2011-05-27\", 64.6, 4.034, 0.0, 0.0, 0.0, 0.0, 0.0, 134.7677742, 8.975, false, 18, -3.53, true], [18, \"B\", 120653, \"2011-06-03\", 70.9, 3.9730000000000003, 0.0, 0.0, 0.0, 0.0, 0.0, 134.85516130000002, 8.975, false, 18, -9.0, true], [18, \"B\", 120653, \"2011-06-10\", 69.49, 3.924, 0.0, 0.0, 0.0, 0.0, 0.0, 134.94254840000002, 8.975, false, 18, -3.69, true], [18, \"B\", 120653, \"2011-06-24\", 67.41, 3.8510000000000004, 0.0, 0.0, 0.0, 0.0, 0.0, 135.26526669999998, 8.975, false, 18, -7.33, true], [18, \"B\", 120653, \"2011-07-15\", 74.36, 3.827, 0.0, 0.0, 0.0, 0.0, 0.0, 135.7837419, 8.89, false, 54, -17.06, true], [18, \"B\", 120653, \"2011-07-22\", 78.68, 3.8819999999999997, 0.0, 0.0, 0.0, 0.0, 0.0, 135.8738387, 8.89, false, 47, -84.0, true], [18, \"B\", 120653, \"2011-08-05\", 74.58, 3.903, 0.0, 0.0, 0.0, 0.0, 0.0, 136.05403230000002, 8.89, false, 18, -5.0, true], [18, \"B\", 120653, \"2011-08-19\", 69.24, 3.82, 0.0, 0.0, 0.0, 0.0, 0.0, 136.183129, 8.89, false, 54, -15.08, true], [18, \"B\", 120653, \"2011-08-19\", 69.24, 3.82, 0.0, 0.0, 0.0, 0.0, 0.0, 136.183129, 8.89, false, 94, -1.88, true], [18, \"B\", 120653, \"2011-09-16\", 66.23, 3.8089999999999997, 0.0, 0.0, 0.0, 0.0, 0.0, 136.3145, 8.89, false, 97, -3.38, true], [18, \"B\", 120653, \"2011-09-16\", 66.23, 3.8089999999999997, 0.0, 0.0, 0.0, 0.0, 0.0, 136.3145, 8.89, false, 98, -2.5, true], [18, \"B\", 120653, \"2011-09-23\", 60.44, 3.758, 0.0, 0.0, 0.0, 0.0, 0.0, 136.36700000000002, 8.89, false, 97, -3.28, true], [19, \"A\", 203819, \"2010-02-19\", 28.57, 2.909, 0.0, 0.0, 0.0, 0.0, 0.0, 131.637, 8.35, false, 19, -9.38, true], [19, \"A\", 203819, \"2010-04-02\", 45.26, 2.957, 0.0, 0.0, 0.0, 0.0, 0.0, 131.9019677, 8.185, false, 19, -9.96, true], [19, \"A\", 203819, \"2010-05-14\", 46.53, 3.112, 0.0, 0.0, 0.0, 0.0, 0.0, 132.152129, 8.185, false, 18, -8.0, true], [19, \"A\", 203819, \"2010-06-04\", 68.88, 3.0060000000000002, 0.0, 0.0, 0.0, 0.0, 0.0, 132.3648387, 8.185, false, 47, -70.0, true], [19, \"A\", 203819, \"2010-06-11\", 61.64, 2.972, 0.0, 0.0, 0.0, 0.0, 0.0, 132.4357419, 8.185, false, 18, -3.0, true], [19, \"A\", 203819, \"2010-07-09\", 78.22, 2.94, 0.0, 0.0, 0.0, 0.0, 0.0, 132.54613329999998, 8.099, false, 47, -78.0, true], [19, \"A\", 203819, \"2010-07-30\", 72.83, 2.932, 0.0, 0.0, 0.0, 0.0, 0.0, 132.5983871, 8.099, false, 47, -58.0, true], [19, \"A\", 203819, \"2010-10-29\", 56.11, 3.055, 0.0, 0.0, 0.0, 0.0, 0.0, 132.8708387, 8.067, false, 19, -7.0, true], [19, \"A\", 203819, \"2010-11-05\", 41.78, 3.049, 0.0, 0.0, 0.0, 0.0, 0.0, 132.92458059999998, 8.067, false, 19, -15.0, true], [19, \"A\", 203819, \"2010-11-05\", 41.78, 3.049, 0.0, 0.0, 0.0, 0.0, 0.0, 132.92458059999998, 8.067, false, 47, -97.97, true], [19, \"A\", 203819, \"2010-12-31\", 28.65, 3.3360000000000003, 0.0, 0.0, 0.0, 0.0, 0.0, 132.81503229999998, 8.067, true, 47, -449.0, true], [19, \"A\", 203819, \"2011-03-25\", 33.26, 3.7889999999999997, 0.0, 0.0, 0.0, 0.0, 0.0, 133.9587419, 7.771, false, 19, -9.0, true], [19, \"A\", 203819, \"2011-04-01\", 30.68, 3.8110000000000004, 0.0, 0.0, 0.0, 0.0, 0.0, 134.0682581, 7.6579999999999995, false, 47, -15.0, true], [19, \"A\", 203819, \"2011-04-15\", 48.67, 3.9810000000000003, 0.0, 0.0, 0.0, 0.0, 0.0, 134.2784667, 7.6579999999999995, false, 47, -499.0, true], [19, \"A\", 203819, \"2011-05-06\", 50.43, 4.192, 0.0, 0.0, 0.0, 0.0, 0.0, 134.51436669999998, 7.6579999999999995, false, 19, -2.44, true], [19, \"A\", 203819, \"2011-06-17\", 64.02, 3.989, 0.0, 0.0, 0.0, 0.0, 0.0, 135.0837333, 7.6579999999999995, false, 47, -30.0, true], [19, \"A\", 203819, \"2011-09-30\", 64.99, 3.858, 0.0, 0.0, 0.0, 0.0, 0.0, 136.4195, 7.806, false, 19, -1.94, true], [20, \"A\", 203742, \"2010-04-30\", 54.75, 2.9210000000000003, 0.0, 0.0, 0.0, 0.0, 0.0, 203.6503685, 7.856, false, 18, -5.96, true], [20, \"A\", 203742, \"2010-05-07\", 66.74, 2.966, 0.0, 0.0, 0.0, 0.0, 0.0, 203.6101784, 7.856, false, 47, -39.0, true], [20, \"A\", 203742, \"2010-05-21\", 60.38, 2.958, 0.0, 0.0, 0.0, 0.0, 0.0, 203.8770235, 7.856, false, 47, -39.0, true], [20, \"A\", 203742, \"2010-06-04\", 72.52, 2.847, 0.0, 0.0, 0.0, 0.0, 0.0, 204.4042877, 7.856, false, 18, -4.0, true], [20, \"A\", 203742, \"2010-06-18\", 72.62, 2.78, 0.0, 0.0, 0.0, 0.0, 0.0, 204.670036, 7.856, false, 18, -9.7, true], [20, \"A\", 203742, \"2010-09-10\", 65.02, 2.699, 0.0, 0.0, 0.0, 0.0, 0.0, 204.72668269999997, 7.527, true, 47, -598.0, true], [20, \"A\", 203742, \"2010-12-03\", 35.47, 3.0460000000000003, 0.0, 0.0, 0.0, 0.0, 0.0, 204.8249189, 7.484, false, 47, -598.0, true], [20, \"A\", 203742, \"2011-01-07\", 31.43, 3.193, 0.0, 0.0, 0.0, 0.0, 0.0, 204.6487803, 7.343, false, 54, -18.0, true], [20, \"A\", 203742, \"2011-02-25\", 33.2, 3.2739999999999996, 0.0, 0.0, 0.0, 0.0, 0.0, 206.6424093, 7.343, false, 19, -12.0, true], [20, \"A\", 203742, \"2011-04-15\", 55.0, 3.821, 0.0, 0.0, 0.0, 0.0, 0.0, 208.3172811, 7.287000000000001, false, 77, -29.97, true], [20, \"A\", 203742, \"2011-05-20\", 59.01, 4.062, 0.0, 0.0, 0.0, 0.0, 0.0, 208.7583165, 7.287000000000001, false, 18, -2.06, true], [20, \"A\", 203742, \"2011-05-20\", 59.01, 4.062, 0.0, 0.0, 0.0, 0.0, 0.0, 208.7583165, 7.287000000000001, false, 19, -32.0, true], [20, \"A\", 203742, \"2011-05-27\", 69.12, 3.985, 0.0, 0.0, 0.0, 0.0, 0.0, 208.556714, 7.287000000000001, false, 18, -17.66, true], [20, \"A\", 203742, \"2011-06-03\", 73.51, 3.9219999999999997, 0.0, 0.0, 0.0, 0.0, 0.0, 208.3551116, 7.287000000000001, false, 18, -0.9, true], [20, \"A\", 203742, \"2011-07-01\", 69.66, 3.748, 0.0, 0.0, 0.0, 0.0, 0.0, 208.3346432, 7.274, false, 47, -778.5, true], [21, \"B\", 140167, \"2010-03-05\", 48.61, 2.625, 0.0, 0.0, 0.0, 0.0, 0.0, 211.0067542, 8.324, false, 47, -324.0, true], [21, \"B\", 140167, \"2010-03-05\", 48.61, 2.625, 0.0, 0.0, 0.0, 0.0, 0.0, 211.0067542, 8.324, false, 94, -0.85, true], [21, \"B\", 140167, \"2010-05-14\", 73.08, 2.8539999999999996, 0.0, 0.0, 0.0, 0.0, 0.0, 209.9984585, 8.2, false, 18, -3.0, true], [21, \"B\", 140167, \"2010-05-28\", 80.94, 2.759, 0.0, 0.0, 0.0, 0.0, 0.0, 210.5552301, 8.2, false, 54, -89.0, true], [21, \"B\", 140167, \"2010-05-28\", 80.94, 2.759, 0.0, 0.0, 0.0, 0.0, 0.0, 210.5552301, 8.2, false, 98, -10.21, true], [21, \"B\", 140167, \"2010-06-04\", 82.68, 2.705, 0.0, 0.0, 0.0, 0.0, 0.0, 210.833616, 8.2, false, 51, -11.73, true], [21, \"B\", 140167, \"2010-06-25\", 87.01, 2.653, 0.0, 0.0, 0.0, 0.0, 0.0, 210.9950134, 8.2, false, 98, -5.0, true], [21, \"B\", 140167, \"2010-07-09\", 81.67, 2.642, 0.0, 0.0, 0.0, 0.0, 0.0, 210.76573169999998, 8.099, false, 80, -1.4, true], [21, \"B\", 140167, \"2010-08-27\", 86.2, 2.6189999999999998, 0.0, 0.0, 0.0, 0.0, 0.0, 211.2241759, 8.099, false, 47, -450.0, true], [21, \"B\", 140167, \"2010-09-17\", 83.03, 2.582, 0.0, 0.0, 0.0, 0.0, 0.0, 211.1806415, 8.099, false, 98, -1.0, true], [21, \"B\", 140167, \"2010-10-15\", 68.61, 2.72, 0.0, 0.0, 0.0, 0.0, 0.0, 211.4713286, 8.163, false, 48, -14.97, true], [21, \"B\", 140167, \"2010-10-15\", 68.61, 2.72, 0.0, 0.0, 0.0, 0.0, 0.0, 211.4713286, 8.163, false, 80, -25.02, true], [21, \"B\", 140167, \"2010-11-12\", 60.95, 2.728, 0.0, 0.0, 0.0, 0.0, 0.0, 211.6608975, 8.163, false, 80, -17.94, true], [21, \"B\", 140167, \"2010-11-12\", 60.95, 2.728, 0.0, 0.0, 0.0, 0.0, 0.0, 211.6608975, 8.163, false, 94, -1.88, true], [21, \"B\", 140167, \"2010-11-26\", 62.96, 2.735, 0.0, 0.0, 0.0, 0.0, 0.0, 211.4062867, 8.163, true, 54, -1.98, true], [21, \"B\", 140167, \"2010-12-03\", 50.43, 2.708, 0.0, 0.0, 0.0, 0.0, 0.0, 211.265543, 8.163, false, 98, -3.37, true], [21, \"B\", 140167, \"2011-02-04\", 36.33, 2.989, 0.0, 0.0, 0.0, 0.0, 0.0, 212.22406459999996, 8.027999999999999, false, 54, -81.0, true], [21, \"B\", 140167, \"2011-02-11\", 34.61, 3.022, 0.0, 0.0, 0.0, 0.0, 0.0, 212.59286239999997, 8.027999999999999, true, 54, -60.16, true], [21, \"B\", 140167, \"2011-03-11\", 54.69, 3.4589999999999996, 0.0, 0.0, 0.0, 0.0, 0.0, 213.7646401, 8.027999999999999, false, 18, -5.4, true], [21, \"B\", 140167, \"2011-03-18\", 63.26, 3.488, 0.0, 0.0, 0.0, 0.0, 0.0, 214.0156238, 8.027999999999999, false, 94, -1.47, true], [21, \"B\", 140167, \"2011-04-01\", 56.36, 3.5239999999999996, 0.0, 0.0, 0.0, 0.0, 0.0, 214.48869080000003, 7.931, false, 47, -399.0, true], [21, \"B\", 140167, \"2011-04-01\", 56.36, 3.5239999999999996, 0.0, 0.0, 0.0, 0.0, 0.0, 214.48869080000003, 7.931, false, 54, -20.92, true], [21, \"B\", 140167, \"2011-04-15\", 71.01, 3.7430000000000003, 0.0, 0.0, 0.0, 0.0, 0.0, 214.9420631, 7.931, false, 94, -1.88, true], [21, \"B\", 140167, \"2011-05-13\", 75.04, 3.8989999999999996, 0.0, 0.0, 0.0, 0.0, 0.0, 215.6124735, 7.931, false, 18, -6.23, true], [21, \"B\", 140167, \"2011-05-20\", 68.36, 3.907, 0.0, 0.0, 0.0, 0.0, 0.0, 215.38347779999998, 7.931, false, 94, -2.48, true], [21, \"B\", 140167, \"2011-05-27\", 76.86, 3.786, 0.0, 0.0, 0.0, 0.0, 0.0, 215.15448219999996, 7.931, false, 18, -0.97, true], [21, \"B\", 140167, \"2011-06-24\", 85.72, 3.594, 0.0, 0.0, 0.0, 0.0, 0.0, 214.7441108, 7.931, false, 80, -20.97, true], [22, \"B\", 119557, \"2010-03-05\", 36.82, 2.766, 0.0, 0.0, 0.0, 0.0, 0.0, 135.5732602, 8.283, false, 49, -14.13, true], [22, \"B\", 119557, \"2010-03-19\", 46.03, 2.8339999999999996, 0.0, 0.0, 0.0, 0.0, 0.0, 135.6682247, 8.283, false, 78, -12.0, true], [22, \"B\", 119557, \"2010-03-26\", 48.56, 2.8310000000000004, 0.0, 0.0, 0.0, 0.0, 0.0, 135.7073618, 8.283, false, 49, -1.88, true], [22, \"B\", 119557, \"2010-04-09\", 57.06, 2.8489999999999998, 0.0, 0.0, 0.0, 0.0, 0.0, 135.78563590000002, 8.347999999999999, false, 49, -2.83, true], [22, \"B\", 119557, \"2010-05-07\", 63.81, 2.9810000000000003, 0.0, 0.0, 0.0, 0.0, 0.0, 135.96200000000002, 8.347999999999999, false, 18, -1.52, true], [22, \"B\", 119557, \"2010-05-21\", 59.99, 2.9610000000000003, 0.0, 0.0, 0.0, 0.0, 0.0, 136.0796521, 8.347999999999999, false, 18, -5.0, true], [22, \"B\", 119557, \"2010-06-04\", 69.49, 2.8569999999999998, 0.0, 0.0, 0.0, 0.0, 0.0, 136.21816819999998, 8.347999999999999, false, 18, -5.0, true], [22, \"B\", 119557, \"2010-06-04\", 69.49, 2.8569999999999998, 0.0, 0.0, 0.0, 0.0, 0.0, 136.21816819999998, 8.347999999999999, false, 19, -4.88, true], [22, \"B\", 119557, \"2010-06-11\", 65.01, 2.83, 0.0, 0.0, 0.0, 0.0, 0.0, 136.2874263, 8.347999999999999, false, 18, -17.25, true], [22, \"B\", 119557, \"2010-06-11\", 65.01, 2.83, 0.0, 0.0, 0.0, 0.0, 0.0, 136.2874263, 8.347999999999999, false, 49, -24.0, true], [22, \"B\", 119557, \"2010-06-25\", 74.37, 2.81, 0.0, 0.0, 0.0, 0.0, 0.0, 136.34831430000003, 8.347999999999999, false, 18, -2.0, true], [22, \"B\", 119557, \"2010-07-02\", 72.88, 2.815, 0.0, 0.0, 0.0, 0.0, 0.0, 136.3722893, 8.433, false, 18, -175.54, true], [22, \"B\", 119557, \"2010-08-13\", 74.75, 2.81, 0.0, 0.0, 0.0, 0.0, 0.0, 136.49282140000003, 8.433, false, 49, -4.97, true], [22, \"B\", 119557, \"2010-09-10\", 68.6, 2.717, 0.0, 0.0, 0.0, 0.0, 0.0, 136.6212085, 8.433, true, 49, -4.94, true], [22, \"B\", 119557, \"2010-12-03\", 39.42, 3.065, 0.0, 0.0, 0.0, 0.0, 0.0, 136.6075714, 8.572000000000001, false, 19, -16.0, true], [22, \"B\", 119557, \"2011-01-14\", 24.76, 3.215, 0.0, 0.0, 0.0, 0.0, 0.0, 136.80347700000002, 8.458, false, 54, -44.08, true], [22, \"B\", 119557, \"2011-01-28\", 20.61, 3.2430000000000003, 0.0, 0.0, 0.0, 0.0, 0.0, 136.9706544, 8.458, false, 19, -7.0, true], [22, \"B\", 119557, \"2011-01-28\", 20.61, 3.2430000000000003, 0.0, 0.0, 0.0, 0.0, 0.0, 136.9706544, 8.458, false, 49, -15.0, true], [22, \"B\", 119557, \"2011-04-01\", 36.04, 3.638, 0.0, 0.0, 0.0, 0.0, 0.0, 137.9558929, 8.252, false, 19, -10.97, true], [22, \"B\", 119557, \"2011-05-27\", 62.59, 4.034, 0.0, 0.0, 0.0, 0.0, 0.0, 138.6782834, 8.252, false, 54, -0.76, true], [22, \"B\", 119557, \"2011-06-10\", 69.53, 3.924, 0.0, 0.0, 0.0, 0.0, 0.0, 138.8606382, 8.252, false, 18, -5.0, true], [22, \"B\", 119557, \"2011-06-10\", 69.53, 3.924, 0.0, 0.0, 0.0, 0.0, 0.0, 138.8606382, 8.252, false, 19, -3.81, true], [22, \"B\", 119557, \"2011-08-12\", 74.69, 3.88, 0.0, 0.0, 0.0, 0.0, 0.0, 140.08598730000003, 8.023, false, 47, -97.0, true], [22, \"B\", 119557, \"2011-09-16\", 68.08, 3.8089999999999997, 0.0, 0.0, 0.0, 0.0, 0.0, 140.2735, 8.023, false, 49, -4.94, true], [22, \"B\", 119557, \"2011-09-16\", 68.08, 3.8089999999999997, 0.0, 0.0, 0.0, 0.0, 0.0, 140.2735, 8.023, false, 54, -15.0, true], [22, \"B\", 119557, \"2011-10-21\", 59.3, 3.6180000000000003, 0.0, 0.0, 0.0, 0.0, 0.0, 140.46160480000003, 7.706, false, 47, -79.0, true], [22, \"B\", 119557, \"2011-11-04\", 42.81, 3.5860000000000003, 0.0, 0.0, 0.0, 0.0, 0.0, 140.4279758, 7.706, false, 94, -2.0, true], [23, \"B\", 114533, \"2010-05-21\", 57.94, 2.9610000000000003, 0.0, 0.0, 0.0, 0.0, 0.0, 132.2230323, 5.435, false, 18, -1.5, true], [23, \"B\", 114533, \"2010-06-04\", 64.94, 2.8569999999999998, 0.0, 0.0, 0.0, 0.0, 0.0, 132.3648387, 5.435, false, 18, -3.0, true], [23, \"B\", 114533, \"2010-06-25\", 69.83, 2.81, 0.0, 0.0, 0.0, 0.0, 0.0, 132.4976, 5.435, false, 78, -12.0, true], [23, \"B\", 114533, \"2010-07-02\", 64.76, 2.815, 0.0, 0.0, 0.0, 0.0, 0.0, 132.5218667, 5.3260000000000005, false, 18, -168.0, true], [23, \"B\", 114533, \"2010-08-06\", 70.03, 2.792, 0.0, 0.0, 0.0, 0.0, 0.0, 132.6141935, 5.3260000000000005, false, 98, -6.0, true], [23, \"B\", 114533, \"2010-09-17\", 55.3, 2.716, 0.0, 0.0, 0.0, 0.0, 0.0, 132.76706670000002, 5.3260000000000005, false, 47, -65.0, true], [23, \"B\", 114533, \"2010-09-17\", 55.3, 2.716, 0.0, 0.0, 0.0, 0.0, 0.0, 132.76706670000002, 5.3260000000000005, false, 98, -3.98, true], [23, \"B\", 114533, \"2010-10-08\", 50.75, 2.7760000000000002, 0.0, 0.0, 0.0, 0.0, 0.0, 132.75166670000002, 5.287000000000001, false, 47, -35.0, true], [23, \"B\", 114533, \"2010-12-10\", 20.12, 3.1319999999999997, 0.0, 0.0, 0.0, 0.0, 0.0, 132.6764, 5.287000000000001, false, 80, -213.08, true], [23, \"B\", 114533, \"2010-12-31\", 19.05, 3.177, 0.0, 0.0, 0.0, 0.0, 0.0, 132.81503229999998, 5.287000000000001, true, 80, -75.0, true], [23, \"B\", 114533, \"2011-01-07\", 27.81, 3.193, 0.0, 0.0, 0.0, 0.0, 0.0, 132.8823226, 5.114, false, 48, -102.32, true], [23, \"B\", 114533, \"2011-01-07\", 27.81, 3.193, 0.0, 0.0, 0.0, 0.0, 0.0, 132.8823226, 5.114, false, 80, -1.13, true], [23, \"B\", 114533, \"2011-02-18\", 26.6, 3.263, 0.0, 0.0, 0.0, 0.0, 0.0, 133.3701429, 5.114, false, 47, -15.0, true], [23, \"B\", 114533, \"2011-03-25\", 29.11, 3.6239999999999997, 0.0, 0.0, 0.0, 0.0, 0.0, 133.9587419, 5.114, false, 47, -298.0, true], [23, \"B\", 114533, \"2011-04-01\", 29.44, 3.638, 0.0, 0.0, 0.0, 0.0, 0.0, 134.0682581, 4.781000000000001, false, 47, -206.0, true], [23, \"B\", 114533, \"2011-05-27\", 63.27, 4.034, 0.0, 0.0, 0.0, 0.0, 0.0, 134.7677742, 4.781000000000001, false, 51, -29.96, true], [23, \"B\", 114533, \"2011-08-05\", 69.53, 3.903, 0.0, 0.0, 0.0, 0.0, 0.0, 136.05403230000002, 4.584, false, 48, -197.0, true], [23, \"B\", 114533, \"2011-08-05\", 69.53, 3.903, 0.0, 0.0, 0.0, 0.0, 0.0, 136.05403230000002, 4.584, false, 94, -1.94, true], [23, \"B\", 114533, \"2011-08-19\", 67.09, 3.82, 0.0, 0.0, 0.0, 0.0, 0.0, 136.183129, 4.584, false, 18, -17.97, true], [23, \"B\", 114533, \"2011-09-09\", 66.04, 3.8089999999999997, 0.0, 0.0, 0.0, 0.0, 0.0, 136.27458059999998, 4.584, true, 78, -12.88, true], [23, \"B\", 114533, \"2011-09-30\", 64.76, 3.6839999999999997, 0.0, 0.0, 0.0, 0.0, 0.0, 136.4195, 4.584, false, 48, -169.0, true], [24, \"A\", 203819, \"2010-03-19\", 46.09, 2.96, 0.0, 0.0, 0.0, 0.0, 0.0, 131.8242903, 8.326, false, 47, -41.42, true], [24, \"A\", 203819, \"2010-04-30\", 51.48, 3.042, 0.0, 0.0, 0.0, 0.0, 0.0, 132.0644333, 8.211, false, 45, -2.96, true], [24, \"A\", 203819, \"2010-04-30\", 51.48, 3.042, 0.0, 0.0, 0.0, 0.0, 0.0, 132.0644333, 8.211, false, 47, -100.0, true], [24, \"A\", 203819, \"2011-01-21\", 23.69, 3.391, 0.0, 0.0, 0.0, 0.0, 0.0, 133.0285161, 8.252, false, 54, -13.2, true], [24, \"A\", 203819, \"2011-02-04\", 23.83, 3.4, 0.0, 0.0, 0.0, 0.0, 0.0, 133.18341940000002, 8.252, false, 47, -57.86, true], [24, \"A\", 203819, \"2011-03-25\", 36.88, 3.7889999999999997, 0.0, 0.0, 0.0, 0.0, 0.0, 133.9587419, 8.252, false, 54, -65.08, true], [24, \"A\", 203819, \"2011-04-15\", 52.36, 3.9810000000000003, 0.0, 0.0, 0.0, 0.0, 0.0, 134.2784667, 8.212, false, 54, -10.0, true], [24, \"A\", 203819, \"2011-05-06\", 55.75, 4.192, 0.0, 0.0, 0.0, 0.0, 0.0, 134.51436669999998, 8.212, false, 19, -4.94, true], [24, \"A\", 203819, \"2011-05-13\", 58.49, 4.211, 0.0, 0.0, 0.0, 0.0, 0.0, 134.593, 8.212, false, 45, -18.49, true], [24, \"A\", 203819, \"2011-06-03\", 73.12, 4.069, 0.0, 0.0, 0.0, 0.0, 0.0, 134.85516130000002, 8.212, false, 54, -14.12, true], [24, \"A\", 203819, \"2011-07-01\", 70.27, 3.9160000000000004, 0.0, 0.0, 0.0, 0.0, 0.0, 135.4468, 8.357999999999999, false, 54, -4.0, true], [24, \"A\", 203819, \"2011-07-29\", 74.84, 4.004, 0.0, 0.0, 0.0, 0.0, 0.0, 135.9639355, 8.357999999999999, false, 54, -59.12, true], [25, \"B\", 128107, \"2010-02-12\", 19.64, 2.773, 0.0, 0.0, 0.0, 0.0, 0.0, 204.3857472, 8.187000000000001, true, 47, -10.0, true], [25, \"B\", 128107, \"2010-04-09\", 61.36, 2.8689999999999998, 0.0, 0.0, 0.0, 0.0, 0.0, 203.8488134, 7.856, false, 80, -2.0, true], [25, \"B\", 128107, \"2010-04-23\", 46.12, 2.9019999999999997, 0.0, 0.0, 0.0, 0.0, 0.0, 203.6905586, 7.856, false, 94, -4.88, true], [25, \"B\", 128107, \"2010-05-07\", 63.67, 2.966, 0.0, 0.0, 0.0, 0.0, 0.0, 203.6101784, 7.856, false, 18, -12.0, true], [25, \"B\", 128107, \"2010-05-14\", 50.27, 2.9819999999999998, 0.0, 0.0, 0.0, 0.0, 0.0, 203.6133915, 7.856, false, 80, -18.78, true], [25, \"B\", 128107, \"2010-05-21\", 57.17, 2.958, 0.0, 0.0, 0.0, 0.0, 0.0, 203.8770235, 7.856, false, 18, -4.68, true], [25, \"B\", 128107, \"2010-05-28\", 69.31, 2.8989999999999996, 0.0, 0.0, 0.0, 0.0, 0.0, 204.14065559999997, 7.856, false, 18, -3.9, true], [25, \"B\", 128107, \"2010-09-10\", 61.14, 2.699, 0.0, 0.0, 0.0, 0.0, 0.0, 204.72668269999997, 7.527, true, 94, -4.0, true], [25, \"B\", 128107, \"2011-02-25\", 28.36, 3.2739999999999996, 0.0, 0.0, 0.0, 0.0, 0.0, 206.6424093, 7.343, false, 98, -0.63, true], [25, \"B\", 128107, \"2011-03-04\", 31.59, 3.4330000000000003, 0.0, 0.0, 0.0, 0.0, 0.0, 206.91534850000002, 7.343, false, 94, -18.29, true], [25, \"B\", 128107, \"2011-03-11\", 36.73, 3.582, 0.0, 0.0, 0.0, 0.0, 0.0, 207.1882876, 7.343, false, 18, -5.4, true], [25, \"B\", 128107, \"2011-04-08\", 42.11, 3.72, 0.0, 0.0, 0.0, 0.0, 0.0, 208.1092642, 7.287000000000001, false, 94, -3.98, true], [25, \"B\", 128107, \"2011-04-15\", 51.43, 3.821, 0.0, 0.0, 0.0, 0.0, 0.0, 208.3172811, 7.287000000000001, false, 94, -3.75, true], [25, \"B\", 128107, \"2011-05-13\", 60.1, 4.066, 0.0, 0.0, 0.0, 0.0, 0.0, 208.9599189, 7.287000000000001, false, 54, -24.0, true], [25, \"B\", 128107, \"2011-05-20\", 56.56, 4.062, 0.0, 0.0, 0.0, 0.0, 0.0, 208.7583165, 7.287000000000001, false, 18, -4.03, true], [25, \"B\", 128107, \"2011-06-03\", 70.69, 3.9219999999999997, 0.0, 0.0, 0.0, 0.0, 0.0, 208.3551116, 7.287000000000001, false, 18, -1.8, true], [25, \"B\", 128107, \"2011-06-10\", 71.45, 3.8810000000000002, 0.0, 0.0, 0.0, 0.0, 0.0, 208.1535092, 7.287000000000001, false, 18, -7.08, true], [25, \"B\", 128107, \"2011-06-10\", 71.45, 3.8810000000000002, 0.0, 0.0, 0.0, 0.0, 0.0, 208.1535092, 7.287000000000001, false, 94, -7.73, true], [25, \"B\", 128107, \"2011-06-17\", 63.58, 3.842, 0.0, 0.0, 0.0, 0.0, 0.0, 208.12656040000002, 7.287000000000001, false, 18, -18.54, true], [25, \"B\", 128107, \"2011-07-15\", 72.67, 3.76, 0.0, 0.0, 0.0, 0.0, 0.0, 208.5309337, 7.274, false, 54, -28.92, true], [25, \"B\", 128107, \"2011-08-26\", 66.8, 3.7039999999999997, 0.0, 0.0, 0.0, 0.0, 0.0, 208.902476, 7.274, false, 6, -58.56, true], [25, \"B\", 128107, \"2011-10-21\", 50.22, 3.57, 0.0, 0.0, 0.0, 0.0, 0.0, 210.5473252, 7.082000000000001, false, 47, -18.0, true], [26, \"A\", 152513, \"2010-02-05\", 9.55, 2.7880000000000003, 0.0, 0.0, 0.0, 0.0, 0.0, 131.52790320000003, 8.488, false, 54, -34.0, true], [26, \"A\", 152513, \"2010-03-12\", 31.1, 2.805, 0.0, 0.0, 0.0, 0.0, 0.0, 131.784, 8.488, false, 54, -11.0, true], [26, \"A\", 152513, \"2010-12-31\", 18.73, 3.177, 0.0, 0.0, 0.0, 0.0, 0.0, 132.81503229999998, 8.149, true, 54, -21.42, true], [26, \"A\", 152513, \"2011-01-14\", 16.7, 3.215, 0.0, 0.0, 0.0, 0.0, 0.0, 132.9510645, 7.907, false, 54, -48.94, true], [26, \"A\", 152513, \"2011-08-19\", 60.58, 3.82, 0.0, 0.0, 0.0, 0.0, 0.0, 136.183129, 7.767, false, 51, -1.36, true], [27, \"A\", 204184, \"2010-02-26\", 36.0, 2.91, 0.0, 0.0, 0.0, 0.0, 0.0, 135.5195191, 8.237, false, 47, -20.0, true], [27, \"A\", 204184, \"2010-04-30\", 53.55, 3.042, 0.0, 0.0, 0.0, 0.0, 0.0, 135.9170833, 8.058, false, 18, -11.4, true], [27, \"A\", 204184, \"2010-05-07\", 69.02, 3.095, 0.0, 0.0, 0.0, 0.0, 0.0, 135.96200000000002, 8.058, false, 18, -3.0, true], [27, \"A\", 204184, \"2010-05-14\", 53.82, 3.112, 0.0, 0.0, 0.0, 0.0, 0.0, 136.010394, 8.058, false, 18, -4.0, true], [27, \"A\", 204184, \"2010-05-21\", 63.31, 3.096, 0.0, 0.0, 0.0, 0.0, 0.0, 136.0796521, 8.058, false, 18, -1.9, true], [27, \"A\", 204184, \"2010-06-18\", 70.0, 2.9419999999999997, 0.0, 0.0, 0.0, 0.0, 0.0, 136.32433930000002, 8.058, false, 18, -14.0, true], [27, \"A\", 204184, \"2010-06-18\", 70.0, 2.9419999999999997, 0.0, 0.0, 0.0, 0.0, 0.0, 136.32433930000002, 8.058, false, 47, -28.0, true], [27, \"A\", 204184, \"2010-06-25\", 78.02, 2.958, 0.0, 0.0, 0.0, 0.0, 0.0, 136.34831430000003, 8.058, false, 18, -5.0, true], [27, \"A\", 204184, \"2010-06-25\", 78.02, 2.958, 0.0, 0.0, 0.0, 0.0, 0.0, 136.34831430000003, 8.058, false, 47, -65.0, true], [27, \"A\", 204184, \"2010-10-29\", 61.02, 3.055, 0.0, 0.0, 0.0, 0.0, 0.0, 136.7375484, 8.021, false, 47, -409.0, true], [27, \"A\", 204184, \"2010-12-10\", 30.83, 3.255, 0.0, 0.0, 0.0, 0.0, 0.0, 136.52557140000002, 8.021, false, 47, -24.0, true], [27, \"A\", 204184, \"2011-05-13\", 60.07, 4.211, 0.0, 0.0, 0.0, 0.0, 0.0, 138.49592859999998, 7.725, false, 47, -63.0, true], [27, \"A\", 204184, \"2011-06-17\", 67.03, 3.989, 0.0, 0.0, 0.0, 0.0, 0.0, 139.00283330000002, 7.725, false, 18, -9.8, true], [27, \"A\", 204184, \"2011-06-24\", 72.02, 3.964, 0.0, 0.0, 0.0, 0.0, 0.0, 139.18329169999998, 7.725, false, 18, -1.1, true], [27, \"A\", 204184, \"2011-07-29\", 79.41, 4.004, 0.0, 0.0, 0.0, 0.0, 0.0, 139.89330990000002, 7.85, false, 47, -8.5, true], [27, \"A\", 204184, \"2011-08-19\", 72.97, 3.9419999999999997, 0.0, 0.0, 0.0, 0.0, 0.0, 140.12892050000002, 7.85, false, 51, -2.36, true], [27, \"A\", 204184, \"2011-10-07\", 56.91, 3.775, 0.0, 0.0, 0.0, 0.0, 0.0, 140.43475, 7.906000000000001, false, 78, -10.0, true], [27, \"A\", 204184, \"2011-10-21\", 59.62, 3.7569999999999997, 0.0, 0.0, 0.0, 0.0, 0.0, 140.46160480000003, 7.906000000000001, false, 78, -9.88, true], [28, \"A\", 206302, \"2010-03-19\", 59.57, 3.054, 0.0, 0.0, 0.0, 0.0, 0.0, 126.6066452, 13.975, false, 47, -198.0, true], [28, \"A\", 206302, \"2010-09-03\", 83.12, 3.0869999999999997, 0.0, 0.0, 0.0, 0.0, 0.0, 126.1019355, 14.18, false, 6, -157.63, true], [28, \"A\", 206302, \"2010-10-08\", 71.82, 3.013, 0.0, 0.0, 0.0, 0.0, 0.0, 126.27916670000002, 14.312999999999999, false, 6, -4988.94, true], [28, \"A\", 206302, \"2010-12-03\", 43.33, 3.0410000000000004, 0.0, 0.0, 0.0, 0.0, 0.0, 126.73133329999999, 14.312999999999999, false, 47, -705.0, true], [28, \"A\", 206302, \"2011-03-25\", 54.4, 3.909, 0.0, 0.0, 0.0, 0.0, 0.0, 128.6160645, 14.020999999999999, false, 32, -1321.48, true], [28, \"A\", 206302, \"2011-04-15\", 57.63, 3.8680000000000003, 0.0, 0.0, 0.0, 0.0, 0.0, 128.91073329999998, 13.735999999999999, false, 47, -298.0, true], [28, \"A\", 206302, \"2011-05-20\", 66.59, 4.169, 0.0, 0.0, 0.0, 0.0, 0.0, 129.0756774, 13.735999999999999, false, 18, -2.5, true], [28, \"A\", 206302, \"2011-07-15\", 88.1, 3.6919999999999997, 0.0, 0.0, 0.0, 0.0, 0.0, 129.1338387, 13.503, false, 18, -4.0, true], [28, \"A\", 206302, \"2011-09-09\", 88.0, 3.9130000000000003, 0.0, 0.0, 0.0, 0.0, 0.0, 129.3686129, 13.503, true, 54, -5.0, true], [28, \"A\", 206302, \"2011-09-23\", 82.95, 3.7889999999999997, 0.0, 0.0, 0.0, 0.0, 0.0, 129.5183333, 13.503, false, 51, -10.56, true], [28, \"A\", 206302, \"2011-09-30\", 83.26, 3.877, 0.0, 0.0, 0.0, 0.0, 0.0, 129.6060667, 13.503, false, 54, -9.36, true], [29, \"B\", 93638, \"2010-03-12\", 43.43, 2.805, 0.0, 0.0, 0.0, 0.0, 0.0, 131.784, 10.064, false, 78, -12.0, true], [29, \"B\", 93638, \"2010-04-23\", 51.04, 2.895, 0.0, 0.0, 0.0, 0.0, 0.0, 132.0226667, 10.16, false, 98, -30.0, true], [29, \"B\", 93638, \"2010-09-10\", 68.6, 2.717, 0.0, 0.0, 0.0, 0.0, 0.0, 132.7564516, 10.409, true, 47, -35.0, true], [29, \"B\", 93638, \"2010-11-05\", 44.34, 2.938, 0.0, 0.0, 0.0, 0.0, 0.0, 132.92458059999998, 10.524000000000001, false, 47, -70.0, true], [29, \"B\", 93638, \"2010-11-12\", 44.42, 2.9610000000000003, 0.0, 0.0, 0.0, 0.0, 0.0, 132.9783226, 10.524000000000001, false, 48, -21.96, true], [29, \"B\", 93638, \"2010-11-26\", 44.61, 3.07, 0.0, 0.0, 0.0, 0.0, 0.0, 132.8369333, 10.524000000000001, true, 54, -19.08, true], [29, \"B\", 93638, \"2010-11-26\", 44.61, 3.07, 0.0, 0.0, 0.0, 0.0, 0.0, 132.8369333, 10.524000000000001, true, 94, -2.98, true], [29, \"B\", 93638, \"2010-12-17\", 30.46, 3.139, 0.0, 0.0, 0.0, 0.0, 0.0, 132.68045159999997, 10.524000000000001, false, 51, -3.36, true], [29, \"B\", 93638, \"2010-12-24\", 29.76, 3.15, 0.0, 0.0, 0.0, 0.0, 0.0, 132.7477419, 10.524000000000001, false, 94, -2.98, true], [29, \"B\", 93638, \"2011-02-25\", 30.23, 3.281, 0.0, 0.0, 0.0, 0.0, 0.0, 133.4921429, 10.255999999999998, false, 98, -0.56, true], [29, \"B\", 93638, \"2011-03-11\", 41.42, 3.6, 0.0, 0.0, 0.0, 0.0, 0.0, 133.7361429, 10.255999999999998, false, 47, -300.0, true], [29, \"B\", 93638, \"2011-04-29\", 57.2, 3.988, 0.0, 0.0, 0.0, 0.0, 0.0, 134.4357333, 9.966000000000001, false, 54, -5.92, true], [29, \"B\", 93638, \"2011-06-17\", 63.97, 3.873, 0.0, 0.0, 0.0, 0.0, 0.0, 135.0837333, 9.966000000000001, false, 18, -16.35, true], [29, \"B\", 93638, \"2011-07-01\", 70.8, 3.815, 0.0, 0.0, 0.0, 0.0, 0.0, 135.4468, 9.863, false, 18, -2.7, true], [29, \"B\", 93638, \"2011-08-05\", 75.33, 3.903, 0.0, 0.0, 0.0, 0.0, 0.0, 136.05403230000002, 9.863, false, 36, -54.0, true], [29, \"B\", 93638, \"2011-09-02\", 69.16, 3.784, 0.0, 0.0, 0.0, 0.0, 0.0, 136.24409680000002, 9.863, false, 54, -5.88, true], [29, \"B\", 93638, \"2011-10-07\", 56.44, 3.633, 0.0, 0.0, 0.0, 0.0, 0.0, 136.472, 9.357000000000001, false, 19, -10.0, true], [30, \"C\", 42988, \"2010-02-05\", 39.05, 2.572, 0.0, 0.0, 0.0, 0.0, 0.0, 210.75260530000003, 8.324, false, 32, -12.99, true], [30, \"C\", 42988, \"2010-02-26\", 45.31, 2.5610000000000004, 0.0, 0.0, 0.0, 0.0, 0.0, 210.97595730000003, 8.324, false, 44, -3.97, true], [30, \"C\", 42988, \"2010-05-21\", 74.24, 2.826, 0.0, 0.0, 0.0, 0.0, 0.0, 210.2768443, 8.2, false, 22, -1.96, true], [30, \"C\", 42988, \"2010-08-06\", 90.3, 2.627, 0.0, 0.0, 0.0, 0.0, 0.0, 211.16080490000002, 8.099, false, 49, -17.0, true], [30, \"C\", 42988, \"2011-01-28\", 44.04, 3.01, 0.0, 0.0, 0.0, 0.0, 0.0, 211.8552668, 8.027999999999999, false, 26, -2.5, true], [30, \"C\", 42988, \"2011-04-22\", 70.79, 3.807, 0.0, 0.0, 0.0, 0.0, 0.0, 215.10966569999997, 7.931, false, 27, -4.97, true], [30, \"C\", 42988, \"2011-08-19\", 90.11, 3.554, 0.0, 0.0, 0.0, 0.0, 0.0, 215.3229307, 7.852, false, 59, -0.36, true], [30, \"C\", 42988, \"2011-08-26\", 92.07, 3.523, 0.0, 0.0, 0.0, 0.0, 0.0, 215.38689700000003, 7.852, false, 72, -5.0, true], [30, \"C\", 42988, \"2011-09-09\", 78.87, 3.5460000000000003, 0.0, 0.0, 0.0, 0.0, 0.0, 215.5148295, 7.852, true, 5, -0.04, true], [30, \"C\", 42988, \"2011-09-23\", 75.68, 3.467, 0.0, 0.0, 0.0, 0.0, 0.0, 216.02823560000002, 7.852, false, 31, -10.0, true], [31, \"A\", 203750, \"2010-02-05\", 39.05, 2.572, 0.0, 0.0, 0.0, 0.0, 0.0, 210.75260530000003, 8.324, false, 78, -12.0, true], [31, \"A\", 203750, \"2010-03-26\", 51.66, 2.7319999999999998, 0.0, 0.0, 0.0, 0.0, 0.0, 210.6766095, 8.324, false, 45, -2.96, true], [31, \"A\", 203750, \"2010-04-23\", 64.21, 2.795, 0.0, 0.0, 0.0, 0.0, 0.0, 210.1000648, 8.2, false, 18, -4.98, true], [31, \"A\", 203750, \"2010-05-07\", 70.87, 2.835, 0.0, 0.0, 0.0, 0.0, 0.0, 210.00110180000001, 8.2, false, 18, -4.5, true], [31, \"A\", 203750, \"2010-06-18\", 86.18, 2.637, 0.0, 0.0, 0.0, 0.0, 0.0, 211.10965430000002, 8.2, false, 45, -4.72, true], [31, \"A\", 203750, \"2010-07-23\", 87.17, 2.608, 0.0, 0.0, 0.0, 0.0, 0.0, 210.8921319, 8.099, false, 45, -35.0, true], [31, \"A\", 203750, \"2010-07-30\", 83.59, 2.64, 0.0, 0.0, 0.0, 0.0, 0.0, 211.0264684, 8.099, false, 47, -100.0, true], [31, \"A\", 203750, \"2010-08-06\", 90.3, 2.627, 0.0, 0.0, 0.0, 0.0, 0.0, 211.16080490000002, 8.099, false, 18, -3.0, true], [31, \"A\", 203750, \"2010-08-20\", 89.58, 2.6639999999999997, 0.0, 0.0, 0.0, 0.0, 0.0, 211.25965860000002, 8.099, false, 45, -39.92, true], [31, \"A\", 203750, \"2010-08-20\", 89.58, 2.6639999999999997, 0.0, 0.0, 0.0, 0.0, 0.0, 211.25965860000002, 8.099, false, 47, -139.0, true], [31, \"A\", 203750, \"2010-09-03\", 82.57, 2.577, 0.0, 0.0, 0.0, 0.0, 0.0, 211.1886931, 8.099, false, 47, -17.0, true], [31, \"A\", 203750, \"2010-09-17\", 83.03, 2.582, 0.0, 0.0, 0.0, 0.0, 0.0, 211.1806415, 8.099, false, 47, -41.42, true], [31, \"A\", 203750, \"2010-09-17\", 83.03, 2.582, 0.0, 0.0, 0.0, 0.0, 0.0, 211.1806415, 8.099, false, 51, -2.0, true], [31, \"A\", 203750, \"2010-09-17\", 83.03, 2.582, 0.0, 0.0, 0.0, 0.0, 0.0, 211.1806415, 8.099, false, 78, -2.0, true], [31, \"A\", 203750, \"2010-10-22\", 70.72, 2.725, 0.0, 0.0, 0.0, 0.0, 0.0, 211.5187208, 8.163, false, 54, -21.92, true], [31, \"A\", 203750, \"2010-12-10\", 46.35, 2.843, 0.0, 0.0, 0.0, 0.0, 0.0, 211.12479930000003, 8.163, false, 47, -22.0, true], [31, \"A\", 203750, \"2011-01-07\", 44.24, 2.9760000000000004, 0.0, 0.0, 0.0, 0.0, 0.0, 211.06488810000002, 8.027999999999999, false, 54, -13.0, true], [31, \"A\", 203750, \"2011-02-25\", 61.27, 3.065, 0.0, 0.0, 0.0, 0.0, 0.0, 213.190421, 8.027999999999999, false, 51, -0.75, true], [31, \"A\", 203750, \"2011-03-11\", 54.69, 3.4589999999999996, 0.0, 0.0, 0.0, 0.0, 0.0, 213.7646401, 8.027999999999999, false, 18, -10.9, true], [31, \"A\", 203750, \"2011-05-13\", 75.04, 3.8989999999999996, 0.0, 0.0, 0.0, 0.0, 0.0, 215.6124735, 7.931, false, 18, -6.43, true], [31, \"A\", 203750, \"2011-06-03\", 83.82, 3.699, 0.0, 0.0, 0.0, 0.0, 0.0, 214.92548650000003, 7.931, false, 18, -3.15, true], [31, \"A\", 203750, \"2011-06-17\", 87.54, 3.637, 0.0, 0.0, 0.0, 0.0, 0.0, 214.6513538, 7.931, false, 18, -8.5, true], [31, \"A\", 203750, \"2011-09-02\", 91.94, 3.533, 0.0, 0.0, 0.0, 0.0, 0.0, 215.4508632, 7.852, false, 54, -15.0, true], [31, \"A\", 203750, \"2011-09-23\", 75.68, 3.467, 0.0, 0.0, 0.0, 0.0, 0.0, 216.02823560000002, 7.852, false, 19, -11.65, true], [31, \"A\", 203750, \"2011-09-30\", 78.91, 3.355, 0.0, 0.0, 0.0, 0.0, 0.0, 216.3620333, 7.852, false, 54, -6.92, true], [31, \"A\", 203750, \"2011-10-28\", 65.46, 3.372, 0.0, 0.0, 0.0, 0.0, 0.0, 217.3251824, 7.441, false, 78, -12.88, true], [32, \"A\", 203007, \"2010-04-23\", 50.06, 2.7760000000000002, 0.0, 0.0, 0.0, 0.0, 0.0, 189.61900569999997, 8.963, false, 18, -12.78, true], [32, \"A\", 203007, \"2010-04-23\", 50.06, 2.7760000000000002, 0.0, 0.0, 0.0, 0.0, 0.0, 189.61900569999997, 8.963, false, 78, -24.0, true], [32, \"A\", 203007, \"2010-04-30\", 47.51, 2.766, 0.0, 0.0, 0.0, 0.0, 0.0, 189.575127, 8.963, false, 18, -6.68, true], [32, \"A\", 203007, \"2010-05-07\", 48.94, 2.7710000000000004, 0.0, 0.0, 0.0, 0.0, 0.0, 189.5312483, 8.963, false, 18, -4.75, true], [32, \"A\", 203007, \"2010-05-14\", 46.42, 2.7880000000000003, 0.0, 0.0, 0.0, 0.0, 0.0, 189.4904116, 8.963, false, 45, -15.96, true], [32, \"A\", 203007, \"2010-06-04\", 66.69, 2.7, 0.0, 0.0, 0.0, 0.0, 0.0, 189.422658, 8.963, false, 18, -2.5, true], [32, \"A\", 203007, \"2010-06-11\", 70.86, 2.6839999999999997, 0.0, 0.0, 0.0, 0.0, 0.0, 189.40007340000003, 8.963, false, 18, -13.0, true], [32, \"A\", 203007, \"2010-07-30\", 75.62, 2.69, 0.0, 0.0, 0.0, 0.0, 0.0, 189.9368504, 9.017000000000001, false, 45, -3.49, true], [32, \"A\", 203007, \"2010-08-06\", 72.95, 2.69, 0.0, 0.0, 0.0, 0.0, 0.0, 190.09900280000002, 9.017000000000001, false, 18, -10.0, true], [32, \"A\", 203007, \"2010-10-22\", 52.3, 2.762, 0.0, 0.0, 0.0, 0.0, 0.0, 190.9070184, 9.137, false, 45, -28.96, true], [32, \"A\", 203007, \"2010-12-31\", 27.7, 2.8289999999999997, 0.0, 0.0, 0.0, 0.0, 0.0, 191.25570019999998, 9.137, true, 47, -698.0, true], [32, \"A\", 203007, \"2011-01-14\", 21.69, 2.911, 0.0, 0.0, 0.0, 0.0, 0.0, 191.4784939, 8.818, false, 54, -15.0, true], [32, \"A\", 203007, \"2011-01-28\", 34.86, 3.008, 0.0, 0.0, 0.0, 0.0, 0.0, 191.667891, 8.818, false, 54, -76.04, true], [32, \"A\", 203007, \"2011-03-04\", 39.17, 3.2319999999999998, 0.0, 0.0, 0.0, 0.0, 0.0, 192.0116004, 8.818, false, 18, -37.24, true], [32, \"A\", 203007, \"2011-04-29\", 44.86, 3.6630000000000003, 0.0, 0.0, 0.0, 0.0, 0.0, 192.6243322, 8.595, false, 54, -82.0, true], [32, \"A\", 203007, \"2011-05-13\", 56.09, 3.767, 0.0, 0.0, 0.0, 0.0, 0.0, 192.826069, 8.595, false, 18, -1.1, true], [32, \"A\", 203007, \"2011-06-03\", 61.25, 3.763, 0.0, 0.0, 0.0, 0.0, 0.0, 192.8418131, 8.595, false, 48, -45.84, true], [32, \"A\", 203007, \"2011-06-10\", 65.49, 3.735, 0.0, 0.0, 0.0, 0.0, 0.0, 192.84706119999998, 8.595, false, 18, -6.9, true], [32, \"A\", 203007, \"2011-06-24\", 65.06, 3.661, 0.0, 0.0, 0.0, 0.0, 0.0, 192.9982655, 8.595, false, 18, -5.0, true], [32, \"A\", 203007, \"2011-07-01\", 72.86, 3.597, 0.0, 0.0, 0.0, 0.0, 0.0, 193.09305519999998, 8.622, false, 18, -7.04, true], [32, \"A\", 203007, \"2011-07-15\", 70.55, 3.532, 0.0, 0.0, 0.0, 0.0, 0.0, 193.31254840000003, 8.622, false, 54, -2.12, true], [32, \"A\", 203007, \"2011-10-21\", 48.87, 3.548, 0.0, 0.0, 0.0, 0.0, 0.0, 195.17899939999998, 8.513, false, 78, -12.88, true], [33, \"A\", 39690, \"2010-05-21\", 82.8, 3.12, 0.0, 0.0, 0.0, 0.0, 0.0, 126.18438710000001, 9.849, false, 59, -23.88, true], [33, \"A\", 39690, \"2010-10-01\", 91.45, 3.0010000000000003, 0.0, 0.0, 0.0, 0.0, 0.0, 126.2346, 9.265, false, 55, -5.98, true], [33, \"A\", 39690, \"2010-12-17\", 61.12, 3.125, 0.0, 0.0, 0.0, 0.0, 0.0, 126.87948390000001, 9.265, false, 22, -39.76, true], [33, \"A\", 39690, \"2010-12-24\", 60.43, 3.236, 0.0, 0.0, 0.0, 0.0, 0.0, 126.98358059999998, 9.265, false, 59, -3.12, true], [33, \"A\", 39690, \"2011-09-16\", 85.79, 3.784, 0.0, 0.0, 0.0, 0.0, 0.0, 129.4306, 8.442, false, 55, -7.0, true], [33, \"A\", 39690, \"2011-10-07\", 81.16, 3.827, 0.0, 0.0, 0.0, 0.0, 0.0, 129.6938, 8.01, false, 59, -10.38, true], [34, \"A\", 158114, \"2010-02-19\", 38.36, 2.54, 0.0, 0.0, 0.0, 0.0, 0.0, 126.5262857, 9.521, false, 45, -6.16, true], [34, \"A\", 158114, \"2010-10-01\", 70.13, 2.6189999999999998, 0.0, 0.0, 0.0, 0.0, 0.0, 126.2346, 10.21, false, 99, -9.0, true], [34, \"A\", 158114, \"2010-12-10\", 41.93, 2.86, 0.0, 0.0, 0.0, 0.0, 0.0, 126.7934, 10.21, false, 99, -4.38, true], [34, \"A\", 158114, \"2011-01-07\", 24.5, 2.98, 0.0, 0.0, 0.0, 0.0, 0.0, 127.19177420000001, 10.398, false, 47, -224.0, true], [34, \"A\", 158114, \"2011-05-06\", 54.4, 3.866, 0.0, 0.0, 0.0, 0.0, 0.0, 129.04443329999998, 10.581, false, 19, -7.47, true], [34, \"A\", 158114, \"2011-07-01\", 81.96, 3.5039999999999996, 0.0, 0.0, 0.0, 0.0, 0.0, 129.0894, 10.640999999999998, false, 48, -465.0, true], [34, \"A\", 158114, \"2011-08-05\", 76.71, 3.662, 0.0, 0.0, 0.0, 0.0, 0.0, 129.1846452, 10.640999999999998, false, 48, -335.0, true], [34, \"A\", 158114, \"2011-08-12\", 80.23, 3.617, 0.0, 0.0, 0.0, 0.0, 0.0, 129.2015806, 10.640999999999998, false, 19, -14.78, true], [34, \"A\", 158114, \"2011-09-23\", 66.23, 3.4730000000000003, 0.0, 0.0, 0.0, 0.0, 0.0, 129.5183333, 10.640999999999998, false, 47, -348.0, true], [34, \"A\", 158114, \"2011-09-30\", 69.44, 3.3710000000000004, 0.0, 0.0, 0.0, 0.0, 0.0, 129.6060667, 10.640999999999998, false, 54, -11.68, true], [34, \"A\", 158114, \"2011-10-21\", 58.93, 3.361, 0.0, 0.0, 0.0, 0.0, 0.0, 129.78216129999998, 10.148, false, 47, -598.0, true], [34, \"A\", 158114, \"2011-11-04\", 48.04, 3.322, 0.0, 0.0, 0.0, 0.0, 0.0, 129.8051935, 10.148, false, 48, -179.0, true], [35, \"B\", 103681, \"2010-02-12\", 29.81, 2.773, 0.0, 0.0, 0.0, 0.0, 0.0, 135.4113076, 9.262, true, 80, -5.07, true], [35, \"B\", 103681, \"2010-02-26\", 36.0, 2.7539999999999996, 0.0, 0.0, 0.0, 0.0, 0.0, 135.5195191, 9.262, false, 80, -17.82, true], [35, \"B\", 103681, \"2010-03-19\", 49.04, 2.844, 0.0, 0.0, 0.0, 0.0, 0.0, 135.6682247, 9.262, false, 47, -78.0, true], [35, \"B\", 103681, \"2010-04-02\", 46.9, 2.85, 0.0, 0.0, 0.0, 0.0, 0.0, 135.7464988, 9.051, false, 47, -124.0, true], [35, \"B\", 103681, \"2010-04-23\", 53.91, 2.9019999999999997, 0.0, 0.0, 0.0, 0.0, 0.0, 135.87216669999998, 9.051, false, 49, -3.83, true], [35, \"B\", 103681, \"2010-05-07\", 69.02, 2.966, 0.0, 0.0, 0.0, 0.0, 0.0, 135.96200000000002, 9.051, false, 49, -4.97, true], [35, \"B\", 103681, \"2010-05-14\", 53.82, 2.9819999999999998, 0.0, 0.0, 0.0, 0.0, 0.0, 136.010394, 9.051, false, 18, -5.47, true], [35, \"B\", 103681, \"2010-05-28\", 67.88, 2.8989999999999996, 0.0, 0.0, 0.0, 0.0, 0.0, 136.1489101, 9.051, false, 49, -4.0, true], [35, \"B\", 103681, \"2010-06-11\", 68.9, 2.8089999999999997, 0.0, 0.0, 0.0, 0.0, 0.0, 136.2874263, 9.051, false, 49, -24.0, true], [35, \"B\", 103681, \"2010-07-02\", 76.25, 2.815, 0.0, 0.0, 0.0, 0.0, 0.0, 136.3722893, 8.861, false, 47, -100.0, true], [35, \"B\", 103681, \"2010-07-09\", 82.69, 2.793, 0.0, 0.0, 0.0, 0.0, 0.0, 136.3962643, 8.861, false, 18, -5.0, true], [35, \"B\", 103681, \"2010-07-30\", 79.78, 2.781, 0.0, 0.0, 0.0, 0.0, 0.0, 136.4554021, 8.861, false, 19, -30.0, true], [35, \"B\", 103681, \"2010-08-06\", 77.45, 2.784, 0.0, 0.0, 0.0, 0.0, 0.0, 136.4741118, 8.861, false, 18, -59.0, true], [35, \"B\", 103681, \"2010-08-27\", 70.31, 2.755, 0.0, 0.0, 0.0, 0.0, 0.0, 136.55701499999998, 8.861, false, 47, -17.0, true], [35, \"B\", 103681, \"2010-09-10\", 70.38, 2.699, 0.0, 0.0, 0.0, 0.0, 0.0, 136.6212085, 8.861, true, 98, -1.8, true], [35, \"B\", 103681, \"2010-09-24\", 67.08, 2.713, 0.0, 0.0, 0.0, 0.0, 0.0, 136.6317821, 8.861, false, 47, -19.0, true], [35, \"B\", 103681, \"2010-09-24\", 67.08, 2.713, 0.0, 0.0, 0.0, 0.0, 0.0, 136.6317821, 8.861, false, 80, -58.07, true], [35, \"B\", 103681, \"2010-10-01\", 70.19, 2.707, 0.0, 0.0, 0.0, 0.0, 0.0, 136.6297571, 8.763, false, 49, -1.88, true], [35, \"B\", 103681, \"2010-10-08\", 57.78, 2.764, 0.0, 0.0, 0.0, 0.0, 0.0, 136.6277321, 8.763, false, 94, -0.7, true], [35, \"B\", 103681, \"2010-10-22\", 52.82, 2.917, 0.0, 0.0, 0.0, 0.0, 0.0, 136.688871, 8.763, false, 49, -4.97, true], [35, \"B\", 103681, \"2010-10-29\", 61.02, 2.9210000000000003, 0.0, 0.0, 0.0, 0.0, 0.0, 136.7375484, 8.763, false, 19, -1.0, true], [35, \"B\", 103681, \"2010-12-10\", 30.83, 3.109, 0.0, 0.0, 0.0, 0.0, 0.0, 136.52557140000002, 8.763, false, 47, -115.0, true], [35, \"B\", 103681, \"2010-12-31\", 29.59, 3.179, 0.0, 0.0, 0.0, 0.0, 0.0, 136.66526499999998, 8.763, true, 49, -14.85, true], [35, \"B\", 103681, \"2010-12-31\", 29.59, 3.179, 0.0, 0.0, 0.0, 0.0, 0.0, 136.66526499999998, 8.763, true, 94, -8.01, true], [35, \"B\", 103681, \"2011-01-07\", 34.42, 3.193, 0.0, 0.0, 0.0, 0.0, 0.0, 136.73325690000001, 8.549, false, 49, -10.0, true], [35, \"B\", 103681, \"2011-01-14\", 25.7, 3.205, 0.0, 0.0, 0.0, 0.0, 0.0, 136.80347700000002, 8.549, false, 77, -14.14, true], [35, \"B\", 103681, \"2011-01-21\", 30.13, 3.2289999999999996, 0.0, 0.0, 0.0, 0.0, 0.0, 136.8870657, 8.549, false, 54, -64.08, true], [35, \"B\", 103681, \"2011-01-21\", 30.13, 3.2289999999999996, 0.0, 0.0, 0.0, 0.0, 0.0, 136.8870657, 8.549, false, 98, -0.12, true], [35, \"B\", 103681, \"2011-03-04\", 36.99, 3.4330000000000003, 0.0, 0.0, 0.0, 0.0, 0.0, 137.5017028, 8.549, false, 19, -8.0, true], [35, \"B\", 103681, \"2011-03-18\", 46.65, 3.6310000000000002, 0.0, 0.0, 0.0, 0.0, 0.0, 137.7398929, 8.549, false, 49, -15.0, true], [35, \"B\", 103681, \"2011-03-18\", 46.65, 3.6310000000000002, 0.0, 0.0, 0.0, 0.0, 0.0, 137.7398929, 8.549, false, 94, -3.0, true], [35, \"B\", 103681, \"2011-03-25\", 40.11, 3.625, 0.0, 0.0, 0.0, 0.0, 0.0, 137.8478929, 8.549, false, 80, -6.34, true], [35, \"B\", 103681, \"2011-04-01\", 37.27, 3.638, 0.0, 0.0, 0.0, 0.0, 0.0, 137.9558929, 8.512, false, 47, -11.0, true], [35, \"B\", 103681, \"2011-04-01\", 37.27, 3.638, 0.0, 0.0, 0.0, 0.0, 0.0, 137.9558929, 8.512, false, 49, -28.0, true], [35, \"B\", 103681, \"2011-04-29\", 61.71, 3.9619999999999997, 0.0, 0.0, 0.0, 0.0, 0.0, 138.3303119, 8.512, false, 80, -43.32, true], [35, \"B\", 103681, \"2011-05-06\", 56.48, 4.046, 0.0, 0.0, 0.0, 0.0, 0.0, 138.41312019999998, 8.512, false, 80, -22.87, true], [35, \"B\", 103681, \"2011-05-27\", 66.43, 3.985, 0.0, 0.0, 0.0, 0.0, 0.0, 138.6782834, 8.512, false, 19, -5.97, true], [35, \"B\", 103681, \"2011-06-10\", 73.26, 3.8810000000000002, 0.0, 0.0, 0.0, 0.0, 0.0, 138.8606382, 8.512, false, 49, -36.0, true], [35, \"B\", 103681, \"2011-06-17\", 67.03, 3.842, 0.0, 0.0, 0.0, 0.0, 0.0, 139.00283330000002, 8.512, false, 47, -19.0, true], [35, \"B\", 103681, \"2011-07-08\", 76.87, 3.7110000000000003, 0.0, 0.0, 0.0, 0.0, 0.0, 139.5442083, 8.684, false, 49, -7.66, true], [35, \"B\", 103681, \"2011-07-08\", 76.87, 3.7110000000000003, 0.0, 0.0, 0.0, 0.0, 0.0, 139.5442083, 8.684, false, 54, -29.92, true], [35, \"B\", 103681, \"2011-07-15\", 77.83, 3.76, 0.0, 0.0, 0.0, 0.0, 0.0, 139.70063249999998, 8.684, false, 80, -18.16, true], [35, \"B\", 103681, \"2011-07-22\", 82.28, 3.8110000000000004, 0.0, 0.0, 0.0, 0.0, 0.0, 139.79697119999997, 8.684, false, 19, -5.94, true], [35, \"B\", 103681, \"2011-07-29\", 79.41, 3.8289999999999997, 0.0, 0.0, 0.0, 0.0, 0.0, 139.89330990000002, 8.684, false, 80, -31.2, true], [35, \"B\", 103681, \"2011-07-29\", 79.41, 3.8289999999999997, 0.0, 0.0, 0.0, 0.0, 0.0, 139.89330990000002, 8.684, false, 94, -19.7, true], [35, \"B\", 103681, \"2011-08-05\", 78.14, 3.842, 0.0, 0.0, 0.0, 0.0, 0.0, 139.9896486, 8.684, false, 94, -0.24, true], [35, \"B\", 103681, \"2011-08-19\", 72.97, 3.747, 0.0, 0.0, 0.0, 0.0, 0.0, 140.12892050000002, 8.684, false, 94, -2.0, true], [35, \"B\", 103681, \"2011-09-02\", 71.44, 3.7030000000000003, 0.0, 0.0, 0.0, 0.0, 0.0, 140.196985, 8.684, false, 47, -3924.0, true], [35, \"B\", 103681, \"2011-09-09\", 70.93, 3.738, 0.0, 0.0, 0.0, 0.0, 0.0, 140.23101730000002, 8.684, true, 54, -22.92, true], [35, \"B\", 103681, \"2011-09-09\", 70.93, 3.738, 0.0, 0.0, 0.0, 0.0, 0.0, 140.23101730000002, 8.684, true, 94, -1.94, true], [35, \"B\", 103681, \"2011-09-16\", 69.65, 3.742, 0.0, 0.0, 0.0, 0.0, 0.0, 140.2735, 8.684, false, 94, -0.37, true], [35, \"B\", 103681, \"2011-09-23\", 63.61, 3.7110000000000003, 0.0, 0.0, 0.0, 0.0, 0.0, 140.32725, 8.684, false, 19, -8.44, true], [35, \"B\", 103681, \"2011-10-07\", 56.91, 3.583, 0.0, 0.0, 0.0, 0.0, 0.0, 140.43475, 8.745, false, 54, -5.0, true], [35, \"B\", 103681, \"2011-10-28\", 51.81, 3.569, 0.0, 0.0, 0.0, 0.0, 0.0, 140.44479030000002, 8.745, false, 51, -1.16, true], [35, \"B\", 103681, \"2011-11-04\", 44.46, 3.551, 0.0, 0.0, 0.0, 0.0, 0.0, 140.4279758, 8.745, false, 47, -26.0, true], [35, \"B\", 103681, \"2011-11-04\", 44.46, 3.551, 0.0, 0.0, 0.0, 0.0, 0.0, 140.4279758, 8.745, false, 56, -9.76, true], [35, \"B\", 103681, \"2011-11-04\", 44.46, 3.551, 0.0, 0.0, 0.0, 0.0, 0.0, 140.4279758, 8.745, false, 94, -2.49, true], [36, \"A\", 39910, \"2010-12-24\", 59.1, 2.863, 0.0, 0.0, 0.0, 0.0, 0.0, 210.1805602, 8.476, false, 56, -17.5, true], [36, \"A\", 39910, \"2011-05-27\", 81.28, 3.786, 0.0, 0.0, 0.0, 0.0, 0.0, 214.2408462, 8.3, false, 44, -30.0, true], [36, \"A\", 39910, \"2011-09-30\", 81.52, 3.3280000000000003, 0.0, 0.0, 0.0, 0.0, 0.0, 215.4532259, 8.177, false, 6, -10.88, true], [36, \"A\", 39910, \"2011-10-14\", 74.16, 3.234, 0.0, 0.0, 0.0, 0.0, 0.0, 216.08852579999999, 7.716, false, 59, -5.68, true], [37, \"C\", 39910, \"2010-09-03\", 82.29, 2.577, 0.0, 0.0, 0.0, 0.0, 0.0, 210.29666310000002, 8.36, false, 72, -64.38, true], [37, \"C\", 39910, \"2011-01-07\", 54.11, 2.9760000000000004, 0.0, 0.0, 0.0, 0.0, 0.0, 210.1842358, 8.395, false, 85, -0.29, true], [37, \"C\", 39910, \"2011-08-12\", 87.64, 3.638, 0.0, 0.0, 0.0, 0.0, 0.0, 214.36027009999998, 8.177, false, 55, -10.0, true], [37, \"C\", 39910, \"2011-09-02\", 87.5, 3.533, 0.0, 0.0, 0.0, 0.0, 0.0, 214.55168959999997, 8.177, false, 6, -9.88, true], [38, \"C\", 39690, \"2010-09-17\", 82.45, 3.028, 0.0, 0.0, 0.0, 0.0, 0.0, 126.14546670000001, 14.18, false, 25, -6.0, true], [38, \"C\", 39690, \"2010-12-03\", 43.33, 3.0410000000000004, 0.0, 0.0, 0.0, 0.0, 0.0, 126.73133329999999, 14.312999999999999, false, 55, -59.96, true], [38, \"C\", 39690, \"2010-12-10\", 50.01, 3.2030000000000003, 0.0, 0.0, 0.0, 0.0, 0.0, 126.7934, 14.312999999999999, false, 6, -153.12, true], [38, \"C\", 39690, \"2011-09-23\", 82.95, 3.7889999999999997, 0.0, 0.0, 0.0, 0.0, 0.0, 129.5183333, 13.503, false, 6, -14.88, true], [38, \"C\", 39690, \"2011-09-23\", 82.95, 3.7889999999999997, 0.0, 0.0, 0.0, 0.0, 0.0, 129.5183333, 13.503, false, 27, -7.5, true], [38, \"C\", 39690, \"2011-09-30\", 83.26, 3.877, 0.0, 0.0, 0.0, 0.0, 0.0, 129.6060667, 13.503, false, 6, -14.88, true], [39, \"A\", 184109, \"2010-05-14\", 77.49, 2.8539999999999996, 0.0, 0.0, 0.0, 0.0, 0.0, 209.118536, 8.464, false, 19, -11.0, true], [39, \"A\", 184109, \"2010-05-28\", 80.22, 2.759, 0.0, 0.0, 0.0, 0.0, 0.0, 209.6660514, 8.464, false, 18, -1.0, true], [39, \"A\", 184109, \"2010-06-04\", 79.83, 2.705, 0.0, 0.0, 0.0, 0.0, 0.0, 209.9398091, 8.464, false, 19, -19.94, true], [39, \"A\", 184109, \"2010-08-06\", 84.92, 2.627, 0.0, 0.0, 0.0, 0.0, 0.0, 210.26149249999997, 8.36, false, 19, -32.0, true], [39, \"A\", 184109, \"2010-08-20\", 85.73, 2.6639999999999997, 0.0, 0.0, 0.0, 0.0, 0.0, 210.36175809999997, 8.36, false, 18, -23.0, true], [39, \"A\", 184109, \"2010-09-03\", 82.13, 2.577, 0.0, 0.0, 0.0, 0.0, 0.0, 210.29666310000002, 8.36, false, 18, -139.0, true], [39, \"A\", 184109, \"2010-09-17\", 81.83, 2.582, 0.0, 0.0, 0.0, 0.0, 0.0, 210.2924504, 8.36, false, 19, -5.0, true], [39, \"A\", 184109, \"2010-11-12\", 62.21, 2.728, 0.0, 0.0, 0.0, 0.0, 0.0, 210.7667944, 8.476, false, 51, -1.96, true], [39, \"A\", 184109, \"2010-11-26\", 67.75, 2.735, 0.0, 0.0, 0.0, 0.0, 0.0, 210.51527650000003, 8.476, true, 19, -14.0, true], [39, \"A\", 184109, \"2010-12-03\", 53.55, 2.708, 0.0, 0.0, 0.0, 0.0, 0.0, 210.376263, 8.476, false, 19, -18.0, true], [39, \"A\", 184109, \"2010-12-10\", 50.81, 2.843, 0.0, 0.0, 0.0, 0.0, 0.0, 210.2372494, 8.476, false, 19, -7.0, true], [39, \"A\", 184109, \"2010-12-10\", 50.81, 2.843, 0.0, 0.0, 0.0, 0.0, 0.0, 210.2372494, 8.476, false, 54, -14.88, true], [39, \"A\", 184109, \"2010-12-31\", 52.45, 2.943, 0.0, 0.0, 0.0, 0.0, 0.0, 210.182398, 8.476, true, 47, -79.0, true], [39, \"A\", 184109, \"2011-03-04\", 63.56, 3.2880000000000003, 0.0, 0.0, 0.0, 0.0, 0.0, 212.576205, 8.395, false, 18, -31.11, true], [39, \"A\", 184109, \"2011-03-11\", 58.35, 3.4589999999999996, 0.0, 0.0, 0.0, 0.0, 0.0, 212.8611313, 8.395, false, 47, -15.0, true], [39, \"A\", 184109, \"2011-04-08\", 69.45, 3.622, 0.0, 0.0, 0.0, 0.0, 0.0, 213.81166580000004, 8.3, false, 19, -9.97, true], [39, \"A\", 184109, \"2011-05-13\", 77.39, 3.8989999999999996, 0.0, 0.0, 0.0, 0.0, 0.0, 214.68997779999998, 8.3, false, 18, -19.28, true], [39, \"A\", 184109, \"2011-05-27\", 82.1, 3.786, 0.0, 0.0, 0.0, 0.0, 0.0, 214.2408462, 8.3, false, 18, -11.0, true], [39, \"A\", 184109, \"2011-05-27\", 82.1, 3.786, 0.0, 0.0, 0.0, 0.0, 0.0, 214.2408462, 8.3, false, 54, -68.0, true], [39, \"A\", 184109, \"2011-06-10\", 82.75, 3.648, 0.0, 0.0, 0.0, 0.0, 0.0, 213.7917147, 8.3, false, 18, -6.2, true], [39, \"A\", 184109, \"2011-06-24\", 84.06, 3.594, 0.0, 0.0, 0.0, 0.0, 0.0, 213.8402689, 8.3, false, 18, -0.1, true], [39, \"A\", 184109, \"2011-07-29\", 86.24, 3.682, 0.0, 0.0, 0.0, 0.0, 0.0, 214.23431769999996, 8.177, false, 19, -15.94, true], [39, \"A\", 184109, \"2011-08-19\", 87.93, 3.554, 0.0, 0.0, 0.0, 0.0, 0.0, 214.4239935, 8.177, false, 18, -59.0, true], [39, \"A\", 184109, \"2011-10-07\", 71.68, 3.285, 0.0, 0.0, 0.0, 0.0, 0.0, 215.7831333, 7.716, false, 19, -2.97, true], [39, \"A\", 184109, \"2011-10-28\", 71.05, 3.372, 0.0, 0.0, 0.0, 0.0, 0.0, 216.40513149999998, 7.716, false, 54, -7.0, true], [40, \"A\", 155083, \"2010-02-26\", 33.32, 2.753, 0.0, 0.0, 0.0, 0.0, 0.0, 131.686, 5.892, false, 49, -23.99, true], [40, \"A\", 155083, \"2010-04-02\", 41.39, 2.826, 0.0, 0.0, 0.0, 0.0, 0.0, 131.9019677, 5.435, false, 47, -224.0, true], [40, \"A\", 155083, \"2010-09-10\", 62.75, 2.717, 0.0, 0.0, 0.0, 0.0, 0.0, 132.7564516, 5.3260000000000005, true, 47, -298.0, true], [40, \"A\", 155083, \"2010-09-24\", 55.63, 2.718, 0.0, 0.0, 0.0, 0.0, 0.0, 132.76193329999998, 5.3260000000000005, false, 54, -20.5, true], [40, \"A\", 155083, \"2010-10-08\", 52.02, 2.7760000000000002, 0.0, 0.0, 0.0, 0.0, 0.0, 132.75166670000002, 5.287000000000001, false, 19, -16.0, true], [40, \"A\", 155083, \"2011-01-07\", 24.05, 3.193, 0.0, 0.0, 0.0, 0.0, 0.0, 132.8823226, 5.114, false, 19, -15.0, true], [40, \"A\", 155083, \"2011-03-25\", 28.89, 3.6239999999999997, 0.0, 0.0, 0.0, 0.0, 0.0, 133.9587419, 5.114, false, 54, -3.0, true], [40, \"A\", 155083, \"2011-07-01\", 65.25, 3.815, 0.0, 0.0, 0.0, 0.0, 0.0, 135.4468, 4.584, false, 48, -543.0, true], [40, \"A\", 155083, \"2011-07-29\", 67.45, 3.898, 0.0, 0.0, 0.0, 0.0, 0.0, 135.9639355, 4.584, false, 59, -0.65, true], [40, \"A\", 155083, \"2011-09-23\", 54.09, 3.758, 0.0, 0.0, 0.0, 0.0, 0.0, 136.36700000000002, 4.584, false, 47, -109.0, true], [41, \"A\", 196321, \"2010-02-26\", 21.84, 2.5860000000000003, 0.0, 0.0, 0.0, 0.0, 0.0, 189.6018023, 7.541, false, 19, -1.0, true], [41, \"A\", 196321, \"2010-03-05\", 32.49, 2.62, 0.0, 0.0, 0.0, 0.0, 0.0, 189.66950490000002, 7.541, false, 47, -35.0, true], [41, \"A\", 196321, \"2010-03-19\", 36.7, 2.6919999999999997, 0.0, 0.0, 0.0, 0.0, 0.0, 189.734262, 7.541, false, 54, -45.0, true], [41, \"A\", 196321, \"2010-05-07\", 41.5, 2.7710000000000004, 0.0, 0.0, 0.0, 0.0, 0.0, 189.5312483, 7.3629999999999995, false, 18, -1.5, true], [41, \"A\", 196321, \"2010-05-07\", 41.5, 2.7710000000000004, 0.0, 0.0, 0.0, 0.0, 0.0, 189.5312483, 7.3629999999999995, false, 19, -2.0, true], [41, \"A\", 196321, \"2010-05-28\", 56.97, 2.737, 0.0, 0.0, 0.0, 0.0, 0.0, 189.4452425, 7.3629999999999995, false, 47, -25.0, true], [41, \"A\", 196321, \"2010-09-10\", 63.3, 2.78, 0.0, 0.0, 0.0, 0.0, 0.0, 190.3958293, 7.335, true, 19, -5.88, true], [41, \"A\", 196321, \"2010-09-24\", 60.11, 2.793, 0.0, 0.0, 0.0, 0.0, 0.0, 190.5713264, 7.335, false, 54, -20.0, true], [41, \"A\", 196321, \"2010-11-12\", 38.99, 2.737, 0.0, 0.0, 0.0, 0.0, 0.0, 191.04114740000003, 7.507999999999999, false, 51, -2.96, true], [41, \"A\", 196321, \"2010-12-10\", 33.9, 2.728, 0.0, 0.0, 0.0, 0.0, 0.0, 190.9741069, 7.507999999999999, false, 54, -15.92, true], [41, \"A\", 196321, \"2011-01-07\", 23.76, 2.8819999999999997, 0.0, 0.0, 0.0, 0.0, 0.0, 191.3683815, 7.2410000000000005, false, 19, -2.0, true], [41, \"A\", 196321, \"2011-01-07\", 23.76, 2.8819999999999997, 0.0, 0.0, 0.0, 0.0, 0.0, 191.3683815, 7.2410000000000005, false, 54, -5.0, true], [41, \"A\", 196321, \"2011-02-04\", 14.56, 3.011, 0.0, 0.0, 0.0, 0.0, 0.0, 191.7625895, 7.2410000000000005, false, 19, -8.94, true], [41, \"A\", 196321, \"2011-03-04\", 34.99, 3.2319999999999998, 0.0, 0.0, 0.0, 0.0, 0.0, 192.0116004, 7.2410000000000005, false, 47, -15.0, true], [41, \"A\", 196321, \"2011-03-11\", 31.6, 3.372, 0.0, 0.0, 0.0, 0.0, 0.0, 192.05848400000002, 7.2410000000000005, false, 18, -6.75, true], [41, \"A\", 196321, \"2011-03-18\", 40.19, 3.406, 0.0, 0.0, 0.0, 0.0, 0.0, 192.1237981, 7.2410000000000005, false, 54, -13.92, true], [41, \"A\", 196321, \"2011-04-01\", 38.16, 3.4610000000000003, 0.0, 0.0, 0.0, 0.0, 0.0, 192.2691707, 6.934, false, 19, -4.94, true], [41, \"A\", 196321, \"2011-04-01\", 38.16, 3.4610000000000003, 0.0, 0.0, 0.0, 0.0, 0.0, 192.2691707, 6.934, false, 54, -53.2, true], [41, \"A\", 196321, \"2011-04-15\", 39.94, 3.611, 0.0, 0.0, 0.0, 0.0, 0.0, 192.4225954, 6.934, false, 19, -20.67, true], [41, \"A\", 196321, \"2011-05-06\", 41.2, 3.735, 0.0, 0.0, 0.0, 0.0, 0.0, 192.7252006, 6.934, false, 47, -41.42, true], [41, \"A\", 196321, \"2011-06-10\", 61.1, 3.735, 0.0, 0.0, 0.0, 0.0, 0.0, 192.84706119999998, 6.934, false, 18, -4.0, true], [41, \"A\", 196321, \"2011-07-01\", 67.01, 3.597, 0.0, 0.0, 0.0, 0.0, 0.0, 193.09305519999998, 6.901, false, 18, -9.88, true], [41, \"A\", 196321, \"2011-10-28\", 37.02, 3.55, 0.0, 0.0, 0.0, 0.0, 0.0, 195.33189769999998, 6.7589999999999995, false, 47, -15.0, true], [42, \"C\", 39690, \"2010-02-12\", 49.96, 2.8280000000000003, 0.0, 0.0, 0.0, 0.0, 0.0, 126.4962581, 9.765, true, 44, -3.0, true], [42, \"C\", 39690, \"2010-04-30\", 69.76, 3.105, 0.0, 0.0, 0.0, 0.0, 0.0, 126.38056670000002, 9.524, false, 18, -5.64, true], [42, \"C\", 39690, \"2010-05-07\", 71.06, 3.127, 0.0, 0.0, 0.0, 0.0, 0.0, 126.2898, 9.524, false, 31, -19.0, true], [42, \"C\", 39690, \"2010-05-07\", 71.06, 3.127, 0.0, 0.0, 0.0, 0.0, 0.0, 126.2898, 9.524, false, 56, -6.0, true], [42, \"C\", 39690, \"2010-05-21\", 78.32, 3.12, 0.0, 0.0, 0.0, 0.0, 0.0, 126.18438710000001, 9.524, false, 72, -29.88, true], [42, \"C\", 39690, \"2010-05-28\", 76.67, 3.0580000000000003, 0.0, 0.0, 0.0, 0.0, 0.0, 126.16022579999999, 9.524, false, 31, -23.0, true], [42, \"C\", 39690, \"2010-06-04\", 82.82, 2.9410000000000003, 0.0, 0.0, 0.0, 0.0, 0.0, 126.1360645, 9.524, false, 74, -3.58, true], [42, \"C\", 39690, \"2010-06-25\", 90.32, 3.0839999999999996, 0.0, 0.0, 0.0, 0.0, 0.0, 126.1266, 9.524, false, 74, -0.02, true], [42, \"C\", 39690, \"2010-08-13\", 88.37, 3.049, 0.0, 0.0, 0.0, 0.0, 0.0, 126.064, 9.199, false, 44, -4.5, true], [42, \"C\", 39690, \"2010-09-24\", 85.75, 2.9389999999999996, 0.0, 0.0, 0.0, 0.0, 0.0, 126.19003329999998, 9.199, false, 74, -6.64, true], [42, \"C\", 39690, \"2010-10-08\", 77.04, 2.924, 0.0, 0.0, 0.0, 0.0, 0.0, 126.27916670000002, 9.003, false, 72, -9.96, true], [42, \"C\", 39690, \"2010-10-22\", 68.12, 3.014, 0.0, 0.0, 0.0, 0.0, 0.0, 126.38154840000001, 9.003, false, 72, -7.96, true], [42, \"C\", 39690, \"2010-12-03\", 51.17, 3.0410000000000004, 0.0, 0.0, 0.0, 0.0, 0.0, 126.73133329999999, 9.003, false, 41, -25.0, true], [42, \"C\", 39690, \"2010-12-31\", 49.67, 3.148, 0.0, 0.0, 0.0, 0.0, 0.0, 127.0876774, 9.003, true, 55, -59.96, true], [42, \"C\", 39690, \"2010-12-31\", 49.67, 3.148, 0.0, 0.0, 0.0, 0.0, 0.0, 127.0876774, 9.003, true, 72, -239.0, true], [42, \"C\", 39690, \"2011-01-07\", 43.43, 3.287, 0.0, 0.0, 0.0, 0.0, 0.0, 127.19177420000001, 8.744, false, 31, -4.0, true], [42, \"C\", 39690, \"2011-01-14\", 49.98, 3.312, 0.0, 0.0, 0.0, 0.0, 0.0, 127.3009355, 8.744, false, 31, -8.6, true], [42, \"C\", 39690, \"2011-02-11\", 51.51, 3.3810000000000002, 0.0, 0.0, 0.0, 0.0, 0.0, 127.85912900000001, 8.744, true, 23, -6.77, true], [42, \"C\", 39690, \"2011-02-18\", 61.77, 3.43, 0.0, 0.0, 0.0, 0.0, 0.0, 127.99525, 8.744, false, 72, -15.54, true], [42, \"C\", 39690, \"2011-03-18\", 70.12, 3.892, 0.0, 0.0, 0.0, 0.0, 0.0, 128.5121935, 8.744, false, 72, -13.47, true], [42, \"C\", 39690, \"2011-06-24\", 90.69, 3.807, 0.0, 0.0, 0.0, 0.0, 0.0, 129.0663, 8.494, false, 27, -4.97, true], [42, \"C\", 39690, \"2011-07-01\", 95.36, 3.842, 0.0, 0.0, 0.0, 0.0, 0.0, 129.0894, 8.257, false, 71, -133.56, true], [42, \"C\", 39690, \"2011-07-15\", 86.01, 3.779, 0.0, 0.0, 0.0, 0.0, 0.0, 129.1338387, 8.257, false, 6, -4.54, true], [42, \"C\", 39690, \"2011-08-19\", 87.4, 3.7430000000000003, 0.0, 0.0, 0.0, 0.0, 0.0, 129.2405806, 8.257, false, 72, -79.97, true], [42, \"C\", 39690, \"2011-09-30\", 82.27, 3.877, 0.0, 0.0, 0.0, 0.0, 0.0, 129.6060667, 8.257, false, 71, -138.0, true], [43, \"C\", 41062, \"2010-04-23\", 62.71, 2.795, 0.0, 0.0, 0.0, 0.0, 0.0, 202.4831905, 9.593, false, 44, -4.0, true], [43, \"C\", 41062, \"2010-06-25\", 88.48, 2.653, 0.0, 0.0, 0.0, 0.0, 0.0, 203.26738569999998, 9.593, false, 72, -19.0, true], [43, \"C\", 41062, \"2010-09-10\", 81.32, 2.565, 0.0, 0.0, 0.0, 0.0, 0.0, 203.4214677, 9.816, true, 72, -23.1, true], [43, \"C\", 41062, \"2010-09-24\", 77.42, 2.6239999999999997, 0.0, 0.0, 0.0, 0.0, 0.0, 203.52167859999997, 9.816, false, 24, -4.5, true], [43, \"C\", 41062, \"2010-10-29\", 65.88, 2.716, 0.0, 0.0, 0.0, 0.0, 0.0, 203.82422580000002, 10.21, false, 32, -15.0, true], [43, \"C\", 41062, \"2010-11-19\", 54.96, 2.7710000000000004, 0.0, 0.0, 0.0, 0.0, 0.0, 203.81912859999997, 10.21, false, 26, -6.0, true], [43, \"C\", 41062, \"2010-12-17\", 56.51, 2.8689999999999998, 0.0, 0.0, 0.0, 0.0, 0.0, 203.3996521, 10.21, false, 22, -54.98, true], [43, \"C\", 41062, \"2010-12-17\", 56.51, 2.8689999999999998, 0.0, 0.0, 0.0, 0.0, 0.0, 203.3996521, 10.21, false, 72, -372.9, true], [43, \"C\", 41062, \"2010-12-31\", 48.61, 2.943, 0.0, 0.0, 0.0, 0.0, 0.0, 203.41768430000002, 10.21, true, 72, -342.84, true], [43, \"C\", 41062, \"2011-01-14\", 43.45, 2.983, 0.0, 0.0, 0.0, 0.0, 0.0, 203.4840645, 10.398, false, 18, -1.13, true], [43, \"C\", 41062, \"2011-02-25\", 58.37, 3.065, 0.0, 0.0, 0.0, 0.0, 0.0, 205.44157140000002, 10.398, false, 71, -49.0, true], [43, \"C\", 41062, \"2011-03-04\", 60.26, 3.2880000000000003, 0.0, 0.0, 0.0, 0.0, 0.0, 205.7148214, 10.398, false, 55, -11.88, true], [43, \"C\", 41062, \"2011-04-15\", 65.01, 3.7430000000000003, 0.0, 0.0, 0.0, 0.0, 0.0, 207.1015429, 10.581, false, 33, -2.5, true], [43, \"C\", 41062, \"2011-06-03\", 83.49, 3.699, 0.0, 0.0, 0.0, 0.0, 0.0, 207.1039009, 10.581, false, 26, -5.0, true], [43, \"C\", 41062, \"2011-06-10\", 85.81, 3.648, 0.0, 0.0, 0.0, 0.0, 0.0, 206.89582030000003, 10.581, false, 6, -3.47, true], [43, \"C\", 41062, \"2011-08-12\", 86.64, 3.638, 0.0, 0.0, 0.0, 0.0, 0.0, 207.4330369, 10.640999999999998, false, 72, -18.0, true], [43, \"C\", 41062, \"2011-09-30\", 78.97, 3.355, 0.0, 0.0, 0.0, 0.0, 0.0, 208.47571430000002, 10.640999999999998, false, 25, -7.12, true], [43, \"C\", 41062, \"2011-09-30\", 78.97, 3.355, 0.0, 0.0, 0.0, 0.0, 0.0, 208.47571430000002, 10.640999999999998, false, 72, -147.38, true], [44, \"C\", 39910, \"2010-03-12\", 37.62, 2.733, 0.0, 0.0, 0.0, 0.0, 0.0, 126.6042857, 8.119, false, 44, -3.85, true], [44, \"C\", 39910, \"2010-04-02\", 42.15, 2.842, 0.0, 0.0, 0.0, 0.0, 0.0, 126.60348390000001, 7.972, false, 55, -13.0, true], [44, \"C\", 39910, \"2010-07-09\", 71.33, 2.802, 0.0, 0.0, 0.0, 0.0, 0.0, 126.1518, 7.803999999999999, false, 18, -1.5, true], [44, \"C\", 39910, \"2010-12-03\", 25.8, 2.812, 0.0, 0.0, 0.0, 0.0, 0.0, 126.73133329999999, 7.61, false, 44, -26.0, true], [44, \"C\", 39910, \"2011-01-14\", 20.6, 2.903, 0.0, 0.0, 0.0, 0.0, 0.0, 127.3009355, 7.224, false, 44, -5.0, true], [44, \"C\", 39910, \"2011-03-04\", 34.23, 3.23, 0.0, 0.0, 0.0, 0.0, 0.0, 128.26475, 7.224, false, 71, -60.0, true], [44, \"C\", 39910, \"2011-03-11\", 41.28, 3.346, 0.0, 0.0, 0.0, 0.0, 0.0, 128.3995, 7.224, false, 72, -27.71, true], [44, \"C\", 39910, \"2011-04-08\", 42.75, 3.5469999999999997, 0.0, 0.0, 0.0, 0.0, 0.0, 128.8238065, 6.906000000000001, false, 72, -73.74, true], [44, \"C\", 39910, \"2011-05-20\", 52.12, 3.802, 0.0, 0.0, 0.0, 0.0, 0.0, 129.0756774, 6.906000000000001, false, 9, -16.57, true], [44, \"C\", 39910, \"2011-06-24\", 66.38, 3.668, 0.0, 0.0, 0.0, 0.0, 0.0, 129.0663, 6.906000000000001, false, 34, -9.88, true], [44, \"C\", 39910, \"2011-09-02\", 77.0, 3.58, 0.0, 0.0, 0.0, 0.0, 0.0, 129.32593549999999, 6.56, false, 49, -2.97, true], [44, \"C\", 39910, \"2011-09-16\", 67.54, 3.641, 0.0, 0.0, 0.0, 0.0, 0.0, 129.4306, 6.56, false, 22, -14.88, true], [44, \"C\", 39910, \"2011-10-28\", 47.41, 3.5669999999999997, 0.0, 0.0, 0.0, 0.0, 0.0, 129.7936774, 6.077999999999999, false, 33, -3.47, true], [45, \"B\", 118221, \"2010-02-05\", 27.31, 2.784, 0.0, 0.0, 0.0, 0.0, 0.0, 181.8711898, 8.992, false, 80, -2.45, true], [45, \"B\", 118221, \"2010-02-12\", 27.73, 2.773, 0.0, 0.0, 0.0, 0.0, 0.0, 181.982317, 8.992, true, 80, -0.43, true], [45, \"B\", 118221, \"2010-02-19\", 31.27, 2.745, 0.0, 0.0, 0.0, 0.0, 0.0, 182.03478159999997, 8.992, false, 80, -0.27, true], [45, \"B\", 118221, \"2010-02-26\", 34.89, 2.7539999999999996, 0.0, 0.0, 0.0, 0.0, 0.0, 182.07746909999997, 8.992, false, 47, -1750.0, true], [45, \"B\", 118221, \"2010-04-16\", 54.28, 2.8989999999999996, 0.0, 0.0, 0.0, 0.0, 0.0, 181.6924769, 8.899, false, 80, -1.61, true], [45, \"B\", 118221, \"2010-07-02\", 76.61, 2.815, 0.0, 0.0, 0.0, 0.0, 0.0, 182.3187801, 8.743, false, 80, -0.27, true], [45, \"B\", 118221, \"2010-09-10\", 70.87, 2.699, 0.0, 0.0, 0.0, 0.0, 0.0, 182.598178, 8.743, true, 18, -17.0, true], [45, \"B\", 118221, \"2010-11-19\", 50.02, 3.0, 0.0, 0.0, 0.0, 0.0, 0.0, 182.8989385, 8.724, false, 54, -2.08, true], [45, \"B\", 118221, \"2011-02-11\", 30.3, 3.239, 0.0, 0.0, 0.0, 0.0, 0.0, 183.7016129, 8.549, true, 49, -24.0, true], [45, \"B\", 118221, \"2011-02-11\", 30.3, 3.239, 0.0, 0.0, 0.0, 0.0, 0.0, 183.7016129, 8.549, true, 80, -0.24, true], [45, \"B\", 118221, \"2011-03-25\", 41.76, 3.625, 0.0, 0.0, 0.0, 0.0, 0.0, 184.99436790000001, 8.549, false, 49, -15.0, true], [45, \"B\", 118221, \"2011-04-22\", 53.04, 3.892, 0.0, 0.0, 0.0, 0.0, 0.0, 185.66846730000003, 8.521, false, 49, -2.97, true], [45, \"B\", 118221, \"2011-08-12\", 77.0, 3.812, 0.0, 0.0, 0.0, 0.0, 0.0, 186.4512115, 8.625, false, 54, -7.54, true], [45, \"B\", 118221, \"2011-08-19\", 72.98, 3.747, 0.0, 0.0, 0.0, 0.0, 0.0, 186.5093071, 8.625, false, 18, -36.06, true], [45, \"B\", 118221, \"2011-10-21\", 59.6, 3.57, 0.0, 0.0, 0.0, 0.0, 0.0, 187.78461969999998, 8.523, false, 54, -8.92, true]], \"hoverlabel\": {\"namelength\": 0}, \"hovertemplate\": \"No_MarkDown=%{customdata[16]}<br>Weekly_Sales=%{customdata[15]}<br>Store=%{customdata[0]}<br>Type=%{customdata[1]}<br>Size=%{customdata[2]}<br>Date=%{customdata[3]}<br>Temperature=%{customdata[4]}<br>Fuel_Price=%{customdata[5]}<br>MarkDown1=%{customdata[6]}<br>MarkDown2=%{customdata[7]}<br>MarkDown3=%{customdata[8]}<br>MarkDown4=%{customdata[9]}<br>MarkDown5=%{customdata[10]}<br>CPI=%{customdata[11]}<br>Unemployment=%{customdata[12]}<br>IsHoliday=%{customdata[13]}<br>Dept=%{customdata[14]}\", \"legendgroup\": \"No_MarkDown=True\", \"marker\": {\"color\": \"#636efa\"}, \"name\": \"No_MarkDown=True\", \"offsetgroup\": \"No_MarkDown=True\", \"orientation\": \"v\", \"points\": \"all\", \"scalegroup\": \"True\", \"showlegend\": true, \"type\": \"violin\", \"x\": [true, true, true, true, true, true, true, true, true, true, true, true, true, true, true, true, true, true, true, true, true, true, true, true, true, true, true, true, true, true, true, true, true, true, true, true, true, true, true, true, true, true, true, true, true, true, true, true, true, true, true, true, true, true, true, true, true, true, true, true, true, true, true, true, true, true, true, true, true, true, true, true, true, true, true, true, true, true, true, true, true, true, true, true, true, true, true, true, true, true, true, true, true, true, true, true, true, true, true, true, true, true, true, true, true, true, true, true, true, true, true, true, true, true, true, true, true, true, true, true, true, true, true, true, true, true, true, true, true, true, true, true, true, true, true, true, true, true, true, true, true, true, true, true, true, true, true, true, true, true, true, true, true, true, true, true, true, true, true, true, true, true, true, true, true, true, true, true, true, true, true, true, true, true, true, true, true, true, true, true, true, true, true, true, true, true, true, true, true, true, true, true, true, true, true, true, true, true, true, true, true, true, true, true, true, true, true, true, true, true, true, true, true, true, true, true, true, true, true, true, true, true, true, true, true, true, true, true, true, true, true, true, true, true, true, true, true, true, true, true, true, true, true, true, true, true, true, true, true, true, true, true, true, true, true, true, true, true, true, true, true, true, true, true, true, true, true, true, true, true, true, true, true, true, true, true, true, true, true, true, true, true, true, true, true, true, true, true, true, true, true, true, true, true, true, true, true, true, true, true, true, true, true, true, true, true, true, true, true, true, true, true, true, true, true, true, true, true, true, true, true, true, true, true, true, true, true, true, true, true, true, true, true, true, true, true, true, true, true, true, true, true, true, true, true, true, true, true, true, true, true, true, true, true, true, true, true, true, true, true, true, true, true, true, true, true, true, true, true, true, true, true, true, true, true, true, true, true, true, true, true, true, true, true, true, true, true, true, true, true, true, true, true, true, true, true, true, true, true, true, true, true, true, true, true, true, true, true, true, true, true, true, true, true, true, true, true, true, true, true, true, true, true, true, true, true, true, true, true, true, true, true, true, true, true, true, true, true, true, true, true, true, true, true, true, true, true, true, true, true, true, true, true, true, true, true, true, true, true, true, true, true, true, true, true, true, true, true, true, true, true, true, true, true, true, true, true, true, true, true, true, true, true, true, true, true, true, true, true, true, true, true, true, true, true, true, true, true, true, true, true, true, true, true, true, true, true, true, true, true, true, true, true, true, true, true, true, true, true, true, true, true, true, true, true, true, true, true, true, true, true, true, true, true, true, true, true, true, true, true, true, true, true, true, true, true, true, true, true, true, true, true, true, true, true, true, true, true, true, true, true, true, true, true, true, true, true, true, true, true, true, true, true, true, true, true, true, true, true, true, true, true, true, true, true, true, true, true, true, true, true, true, true, true, true, true, true, true, true, true, true, true, true, true, true, true, true, true, true, true, true, true, true, true, true, true, true, true, true, true, true, true, true, true, true, true, true, true, true, true, true, true, true, true, true, true, true, true, true, true, true, true, true, true, true, true, true, true, true, true, true, true, true, true, true, true, true, true, true, true, true, true, true, true, true, true, true, true, true, true, true, true, true, true, true, true, true, true, true, true, true, true, true, true, true, true, true, true, true, true, true, true, true, true, true, true, true, true, true, true, true, true, true, true, true, true, true, true, true, true, true, true, true, true, true, true, true, true, true, true, true, true, true, true, true, true, true, true, true, true, true, true, true, true, true, true, true, true, true, true, true, true, true, true, true, true, true, true, true, true, true, true, true, true, true, true, true, true, true, true, true, true, true, true, true, true, true, true, true, true, true, true, true, true, true, true, true, true, true, true, true, true, true, true, true, true, true, true, true, true, true, true, true, true, true, true, true, true, true, true, true], \"x0\": \" \", \"xaxis\": \"x\", \"y\": [-863.0, -698.0, -58.0, -50.0, -298.0, -15.0, -198.0, -498.0, -3.0, -118.0, -0.98, -1098.0, -498.0, -1098.0, -6.16, -1098.0, -159.0, -147.0, -2.0, -219.0, -20.0, -38.0, -78.0, -29.0, -9.96, -4.93, -1008.96, -898.0, -31.0, -6.88, -58.0, -7.96, -7.05, -19.27, -1.0, -11.76, -2.5, -12.67, -50.0, -8.0, -22.0, -3.22, -60.0, -59.0, -50.0, -7.0, -11.0, -698.0, -10.5, -4.88, -11.96, -8.0, -97.0, -0.2, -250.08, -198.0, -298.0, -7.09, -7.85, -15.0, -7.0, -49.98, -6.0, -15.0, -2.5, -7.0, -14.06, -10.97, -124.0, -48.0, -12.96, -26.0, -100.0, -58.0, -7.08, -6.5, -2.0, -32.12, -9.88, -15.0, -48.0, -8.0, -1.0, -398.0, -496.0, -15.0, -34.0, -36.0, -8.5, -25.92, -5.19, -28.92, -9.92, -148.0, -198.0, -12.74, -798.0, -12.0, -1.78, -19.54, -12.6, -60.0, -21.48, -148.0, -100.0, -2.25, -17.0, -108.0, -1.85, -798.0, -12.0, -0.08, -84.08, -41.0, -69.0, -1.25, -1.98, -515.0, -1.98, -2.0, -1.97, -55.0, -1.88, -4.0, -410.0, -3.77, -798.0, -5.0, -19.97, -439.0, -1.0, -3.84, -7.96, -0.86, -5.0, -5.73, -38.0, -2.0, -26.84, -11.28, -103.0, -8.94, -45.0, -9.94, -30.32, -5.36, -58.0, -5.0, -60.0, -5.0, -594.0, -2.66, -198.0, -12.0, -598.0, -548.14, -1.97, -15.0, -58.0, -4.97, -173.84, -7.0, -400.0, -49.0, -15.0, -2.48, -189.0, -45.0, -55.0, -15.0, -3.8, -92.0, -68.0, -1.0, -15.0, -5.68, -98.0, -14.56, -2.11, -3.75, -4.0, -4.38, -53.52, -4.0, -11.08, -21.84, -14.24, -59.0, -19.0, -1.4, -90.0, -1.5, -10.0, -25.0, -498.0, -4.15, -20.0, -198.0, -2.0, -0.9, -10.54, -3.5, -30.0, -465.08, -42.78, -0.04, -50.97, -40.0, -99.0, -62.5, -22.62, -7.0, -59.0, -179.0, -3.0, -28.0, -1.0, -23.0, -13.8, -5.92, -20.0, -89.0, -2.88, -5.98, -41.02, -40.0, -1.66, -9.98, -39.0, -2.5, -4.5, -2.5, -9.88, -6.68, -14.94, -2.5, -19.86, -14.97, -1.48, -15.86, -1.5, -21.96, -15.0, -4.1, -10.96, -500.0, -18.66, -3.98, -22.6, -39.97, -5.46, -9.53, -5.48, -43.48, -3.88, -26.85, -11.54, -590.04, -2.58, -5.0, -2.08, -4.88, -83.57, -43.0, -486.27, -12.88, -3.0, -17.74, -20.0, -15.0, -15.0, -3.0, -7.94, -15.0, -15.0, -10.0, -75.0, -28.0, -2.0, -9.0, -15.0, -1.98, -4.26, -17.5, -20.0, -24.88, -17.97, -63.0, -2.0, -20.97, -31.94, -2.5, -6.0, -7.94, -2.97, -1.97, -18.04, -3.13, -2.0, -9.88, -2.5, -12.0, -3.26, -10.02, -17.0, -3.0, -6.0, -38.0, -1.56, -7.5, -5.0, -14.66, -17.0, -3.87, -1.56, -32.72, -0.07, -19.0, -10.92, -2.48, -0.6, -3.53, -9.0, -3.69, -7.33, -17.06, -84.0, -5.0, -15.08, -1.88, -3.38, -2.5, -3.28, -9.38, -9.96, -8.0, -70.0, -3.0, -78.0, -58.0, -7.0, -15.0, -97.97, -449.0, -9.0, -15.0, -499.0, -2.44, -30.0, -1.94, -5.96, -39.0, -39.0, -4.0, -9.7, -598.0, -598.0, -18.0, -12.0, -29.97, -2.06, -32.0, -17.66, -0.9, -778.5, -324.0, -0.85, -3.0, -89.0, -10.21, -11.73, -5.0, -1.4, -450.0, -1.0, -14.97, -25.02, -17.94, -1.88, -1.98, -3.37, -81.0, -60.16, -5.4, -1.47, -399.0, -20.92, -1.88, -6.23, -2.48, -0.97, -20.97, -14.13, -12.0, -1.88, -2.83, -1.52, -5.0, -5.0, -4.88, -17.25, -24.0, -2.0, -175.54, -4.97, -4.94, -16.0, -44.08, -7.0, -15.0, -10.97, -0.76, -5.0, -3.81, -97.0, -4.94, -15.0, -79.0, -2.0, -1.5, -3.0, -12.0, -168.0, -6.0, -65.0, -3.98, -35.0, -213.08, -75.0, -102.32, -1.13, -15.0, -298.0, -206.0, -29.96, -197.0, -1.94, -17.97, -12.88, -169.0, -41.42, -2.96, -100.0, -13.2, -57.86, -65.08, -10.0, -4.94, -18.49, -14.12, -4.0, -59.12, -10.0, -2.0, -4.88, -12.0, -18.78, -4.68, -3.9, -4.0, -0.63, -18.29, -5.4, -3.98, -3.75, -24.0, -4.03, -1.8, -7.08, -7.73, -18.54, -28.92, -58.56, -18.0, -34.0, -11.0, -21.42, -48.94, -1.36, -20.0, -11.4, -3.0, -4.0, -1.9, -14.0, -28.0, -5.0, -65.0, -409.0, -24.0, -63.0, -9.8, -1.1, -8.5, -2.36, -10.0, -9.88, -198.0, -157.63, -4988.94, -705.0, -1321.48, -298.0, -2.5, -4.0, -5.0, -10.56, -9.36, -12.0, -30.0, -35.0, -70.0, -21.96, -19.08, -2.98, -3.36, -2.98, -0.56, -300.0, -5.92, -16.35, -2.7, -54.0, -5.88, -10.0, -12.99, -3.97, -1.96, -17.0, -2.5, -4.97, -0.36, -5.0, -0.04, -10.0, -12.0, -2.96, -4.98, -4.5, -4.72, -35.0, -100.0, -3.0, -39.92, -139.0, -17.0, -41.42, -2.0, -2.0, -21.92, -22.0, -13.0, -0.75, -10.9, -6.43, -3.15, -8.5, -15.0, -11.65, -6.92, -12.88, -12.78, -24.0, -6.68, -4.75, -15.96, -2.5, -13.0, -3.49, -10.0, -28.96, -698.0, -15.0, -76.04, -37.24, -82.0, -1.1, -45.84, -6.9, -5.0, -7.04, -2.12, -12.88, -23.88, -5.98, -39.76, -3.12, -7.0, -10.38, -6.16, -9.0, -4.38, -224.0, -7.47, -465.0, -335.0, -14.78, -348.0, -11.68, -598.0, -179.0, -5.07, -17.82, -78.0, -124.0, -3.83, -4.97, -5.47, -4.0, -24.0, -100.0, -5.0, -30.0, -59.0, -17.0, -1.8, -19.0, -58.07, -1.88, -0.7, -4.97, -1.0, -115.0, -14.85, -8.01, -10.0, -14.14, -64.08, -0.12, -8.0, -15.0, -3.0, -6.34, -11.0, -28.0, -43.32, -22.87, -5.97, -36.0, -19.0, -7.66, -29.92, -18.16, -5.94, -31.2, -19.7, -0.24, -2.0, -3924.0, -22.92, -1.94, -0.37, -8.44, -5.0, -1.16, -26.0, -9.76, -2.49, -17.5, -30.0, -10.88, -5.68, -64.38, -0.29, -10.0, -9.88, -6.0, -59.96, -153.12, -14.88, -7.5, -14.88, -11.0, -1.0, -19.94, -32.0, -23.0, -139.0, -5.0, -1.96, -14.0, -18.0, -7.0, -14.88, -79.0, -31.11, -15.0, -9.97, -19.28, -11.0, -68.0, -6.2, -0.1, -15.94, -59.0, -2.97, -7.0, -23.99, -224.0, -298.0, -20.5, -16.0, -15.0, -3.0, -543.0, -0.65, -109.0, -1.0, -35.0, -45.0, -1.5, -2.0, -25.0, -5.88, -20.0, -2.96, -15.92, -2.0, -5.0, -8.94, -15.0, -6.75, -13.92, -4.94, -53.2, -20.67, -41.42, -4.0, -9.88, -15.0, -3.0, -5.64, -19.0, -6.0, -29.88, -23.0, -3.58, -0.02, -4.5, -6.64, -9.96, -7.96, -25.0, -59.96, -239.0, -4.0, -8.6, -6.77, -15.54, -13.47, -4.97, -133.56, -4.54, -79.97, -138.0, -4.0, -19.0, -23.1, -4.5, -15.0, -6.0, -54.98, -372.9, -342.84, -1.13, -49.0, -11.88, -2.5, -5.0, -3.47, -18.0, -7.12, -147.38, -3.85, -13.0, -1.5, -26.0, -5.0, -60.0, -27.71, -73.74, -16.57, -9.88, -2.97, -14.88, -3.47, -2.45, -0.43, -0.27, -1750.0, -1.61, -0.27, -17.0, -2.08, -24.0, -0.24, -15.0, -2.97, -7.54, -36.06, -8.92], \"y0\": \" \", \"yaxis\": \"y\"}, {\"alignmentgroup\": \"True\", \"box\": {\"visible\": true}, \"customdata\": [[1, \"A\", 151315, \"2011-12-23\", 47.96, 3.112, 2725.36, 40.48, 634.7, 24.9, 2739.43, 219.3577216, 7.8660000000000005, false, 47, -498.0, false], [1, \"A\", 151315, \"2012-02-17\", 45.32, 3.51, 9873.33, 11062.27, 9.8, 8409.31, 3402.66, 220.42575860000002, 7.348, false, 47, -198.0, false], [1, \"A\", 151315, \"2012-03-09\", 58.76, 3.6689999999999996, 10331.04, 151.88, 6.0, 671.43, 5509.84, 221.05918870000002, 7.348, false, 54, -21.0, false], [1, \"A\", 151315, \"2012-03-16\", 64.74, 3.734, 4298.16, 7.5, 2.02, 2724.65, 2017.69, 221.21181319999997, 7.348, false, 47, -199.0, false], [1, \"A\", 151315, \"2012-03-23\", 65.93, 3.787, 6118.56, 9.48, 4.97, 426.72, 3657.22, 221.2864126, 7.348, false, 48, -223.0, false], [1, \"A\", 151315, \"2012-05-04\", 75.55, 3.7489999999999997, 21290.13, 0.0, 69.89, 4977.35, 3261.04, 221.6718, 7.143, false, 18, -1.27, false], [1, \"A\", 151315, \"2012-08-10\", 85.05, 3.4939999999999998, 11436.22, 245.0, 6.85, 6964.26, 4836.22, 221.9584329, 6.9079999999999995, false, 6, -139.65, false], [2, \"A\", 202307, \"2011-12-09\", 41.76, 3.158, 11472.59, 40.0, 306.43, 4160.55, 8899.08, 218.605037, 7.441, false, 54, -22.5, false], [2, \"A\", 202307, \"2011-12-30\", 44.57, 3.1289999999999996, 8321.44, 92523.94, 139.53, 1515.4, 3027.69, 219.1773063, 7.441, true, 47, -88.0, false], [2, \"A\", 202307, \"2012-02-24\", 54.63, 3.555, 13048.36, 12059.1, 10.2, 5299.73, 10380.03, 220.27594399999998, 7.057, false, 54, -4.0, false], [2, \"A\", 202307, \"2012-04-20\", 65.69, 3.877, 7311.02, 2236.2, 33.53, 878.07, 4080.32, 221.2021074, 6.891, false, 54, -32.0, false], [2, \"A\", 202307, \"2012-06-01\", 78.38, 3.5010000000000003, 13091.33, 21.0, 245.37, 2993.15, 5521.72, 221.38527480000002, 6.891, false, 18, -1.97, false], [2, \"A\", 202307, \"2012-06-29\", 86.32, 3.286, 8495.34, 275.8, 0.0, 1935.16, 5686.13, 221.48133430000004, 6.891, false, 99, -29.88, false], [2, \"A\", 202307, \"2012-07-06\", 84.2, 3.227, 12355.5, 295.05, 100.15, 6720.4, 5506.53, 221.52150640000002, 6.565, false, 47, -28.0, false], [2, \"A\", 202307, \"2012-07-27\", 86.37, 3.407, 6999.14, 197.72, 2.53, 6319.33, 5007.01, 221.5785461, 6.565, false, 18, -3.03, false], [3, \"B\", 37392, \"2012-06-15\", 84.66, 3.3930000000000002, 2014.47, 31.8, 1.0, 631.17, 835.34, 225.2644795, 6.664, false, 54, -36.0, false], [3, \"B\", 37392, \"2012-08-24\", 83.01, 3.62, 3062.02, 26.8, 0.0, 1004.51, 1285.29, 225.6925864, 6.334, false, 59, -3.5, false], [3, \"B\", 37392, \"2012-10-05\", 72.74, 3.617, 1750.8, 0.0, 3.01, 480.24, 646.82, 226.72103560000002, 6.034, false, 59, -12.97, false], [3, \"B\", 37392, \"2012-10-19\", 73.44, 3.594, 629.25, 0.0, 7.5, 75.11, 3010.32, 226.96884419999998, 6.034, false, 59, -7.48, false], [4, \"A\", 205863, \"2012-01-06\", 38.64, 3.158, 7857.71, 38677.72, 234.0, 863.22, 8682.95, 130.15751609999998, 4.607, false, 47, -88.0, false], [4, \"A\", 205863, \"2012-04-20\", 68.6, 3.864, 2774.39, 4279.41, 43.43, 2409.97, 4544.22, 131.11733329999998, 4.308, false, 47, -298.0, false], [4, \"A\", 205863, \"2012-06-29\", 84.23, 3.2569999999999997, 3756.11, 211.6, 0.0, 2114.26, 6371.15, 130.75626670000003, 4.308, false, 18, -0.92, false], [5, \"B\", 34875, \"2011-11-18\", 64.33, 3.3080000000000003, 952.21, 116.11, 95.01, 295.13, 4368.45, 218.793912, 6.3, false, 6, -101.26, false], [5, \"B\", 34875, \"2011-12-30\", 45.62, 3.1289999999999996, 1938.28, 17079.76, 72.93, 162.33, 1211.95, 220.11782259999998, 6.3, true, 77, -23.85, false], [5, \"B\", 34875, \"2012-02-10\", 48.57, 3.409, 4239.28, 2725.8, 1.53, 3682.89, 3234.79, 220.849586, 5.943, true, 59, -3.14, false], [5, \"B\", 34875, \"2012-04-20\", 67.33, 3.877, 1197.53, 225.78, 3.0, 247.94, 1499.51, 222.1512315, 5.801, false, 98, -5.96, false], [5, \"B\", 34875, \"2012-05-04\", 77.1, 3.7489999999999997, 6396.61, 0.0, 83.63, 1183.64, 2813.83, 222.2594722, 5.801, false, 59, -7.97, false], [5, \"B\", 34875, \"2012-08-03\", 86.91, 3.417, 7365.26, 14.48, 0.7, 3640.7, 2517.31, 222.5385111, 5.603, false, 59, -10.68, false], [5, \"B\", 34875, \"2012-08-17\", 87.52, 3.571, 1649.56, -10.98, 2.31, 1955.75, 1205.23, 222.6276753, 5.603, false, 59, -7.64, false], [6, \"A\", 202505, \"2011-12-30\", 46.8, 3.1289999999999996, 6098.54, 82881.16, 326.68, 814.58, 2728.99, 221.1282634, 6.551, true, 47, -197.0, false], [6, \"A\", 202505, \"2012-01-13\", 48.33, 3.261, 4779.48, 11967.81, 65.72, 575.13, 4512.18, 221.4893412, 6.132000000000001, false, 47, -33.42, false], [6, \"A\", 202505, \"2012-01-20\", 55.37, 3.2680000000000002, 3413.91, 1540.99, 33.02, 449.06, 6587.63, 221.58313059999998, 6.132000000000001, false, 47, -119.0, false], [6, \"A\", 202505, \"2012-02-24\", 59.17, 3.555, 9198.08, 8878.31, 10.6, 642.13, 5539.68, 222.2392726, 6.132000000000001, false, 47, -149.0, false], [6, \"A\", 202505, \"2012-04-27\", 71.5, 3.8139999999999996, 2564.41, 1.49, 15.54, 9.94, 2556.36, 223.22548709999998, 5.9639999999999995, false, 18, -1.03, false], [6, \"A\", 202505, \"2012-09-14\", 76.41, 3.717, 11072.87, 22.0, 6.01, 3871.46, 9997.93, 224.20046780000004, 5.667999999999999, false, 54, -233.0, false], [6, \"A\", 202505, \"2012-10-26\", 72.34, 3.5060000000000002, 6827.59, 53.07, 0.0, 319.25, 1881.27, 225.06862540000003, 5.329, false, 77, -21.63, false], [7, \"B\", 70713, \"2011-11-25\", 27.6, 3.424, 35.94, 6.47, 41487.59, 12.0, 905.95, 195.7704, 8.513, true, 54, -25.04, false], [7, \"B\", 70713, \"2011-11-25\", 27.6, 3.424, 35.94, 6.47, 41487.59, 12.0, 905.95, 195.7704, 8.513, true, 59, -0.66, false], [7, \"B\", 70713, \"2011-12-02\", 20.38, 3.378, 2229.32, 6.47, 738.42, 1630.88, 11534.89, 195.82232869999999, 8.513, false, 19, -6.94, false], [7, \"B\", 70713, \"2011-12-30\", 15.56, 3.1189999999999998, 2026.82, 17021.3, 113.19, 144.93, 1178.13, 196.3586101, 8.513, true, 47, -459.0, false], [7, \"B\", 70713, \"2012-06-15\", 59.33, 3.7230000000000003, 16717.38, 119.4, 0.65, 677.29, 1144.07, 197.69229199999998, 8.09, false, 54, -28.92, false], [7, \"B\", 70713, \"2012-06-29\", 68.84, 3.693, 1246.74, 425.6, 0.0, 42.0, 1200.17, 197.785577, 8.09, false, 59, -12.47, false], [7, \"B\", 70713, \"2012-07-13\", 64.21, 3.613, 1562.86, 85.7, 0.35, 424.66, 57029.78, 197.8788621, 7.872000000000001, false, 80, -3.24, false], [7, \"B\", 70713, \"2012-08-03\", 61.83, 3.528, 9468.47, 109.88, 2.88, 8606.99, 1605.62, 198.02938930000002, 7.872000000000001, false, 59, -11.48, false], [7, \"B\", 70713, \"2012-09-14\", 53.66, 3.659, 3180.52, 0.0, 5.03, 709.04, 5384.1, 198.12671840000002, 7.872000000000001, false, 35, -17.47, false], [7, \"B\", 70713, \"2012-09-28\", 50.64, 3.7889999999999997, 3735.2, 6.91, 4.5, 917.2, 1793.35, 198.5903276, 7.872000000000001, false, 47, -389.0, false], [8, \"A\", 155078, \"2011-12-09\", 30.51, 3.158, 4425.92, 36.0, 346.05, 1791.15, 9889.35, 222.4651238, 6.122999999999999, false, 54, -26.0, false], [9, \"B\", 125833, \"2011-12-09\", 37.65, 3.158, 3075.89, 0.0, 248.8, 822.69, 7585.2, 222.65612030000003, 6.053999999999999, false, 54, -60.0, false], [9, \"B\", 125833, \"2012-01-20\", 51.56, 3.2680000000000002, 910.51, 234.36, 0.0, 117.08, 6081.04, 223.71142880000002, 5.667000000000001, false, 78, -12.88, false], [9, \"B\", 125833, \"2012-01-27\", 49.38, 3.29, 489.19, 283.85, 0.0, 22.5, 2888.79, 223.80605269999998, 5.667000000000001, false, 98, -1.0, false], [9, \"B\", 125833, \"2012-02-10\", 44.03, 3.409, 5619.8, 1595.17, 1.71, 4740.66, 4494.14, 223.9953006, 5.667000000000001, true, 59, -3.75, false], [9, \"B\", 125833, \"2012-03-02\", 57.2, 3.63, 6268.15, 154.97, 0.0, 3557.17, 1878.44, 224.58941040000002, 5.667000000000001, false, 36, -4.98, false], [9, \"B\", 125833, \"2012-03-16\", 59.94, 3.734, 1913.05, 1.8, 7.33, 436.67, 14026.36, 224.95949019999998, 5.667000000000001, false, 80, -199.0, false], [9, \"B\", 125833, \"2012-04-20\", 68.04, 3.877, 910.31, 121.25, 2.0, 265.55, 1146.34, 225.3117488, 5.539, false, 18, -8.96, false], [9, \"B\", 125833, \"2012-04-27\", 73.07, 3.8139999999999996, 409.76, 0.0, 0.4, 7.88, 7179.53, 225.3672537, 5.539, false, 18, -0.97, false], [9, \"B\", 125833, \"2012-05-18\", 69.52, 3.63, 1926.92, 0.0, 0.24, 426.51, 2968.78, 225.4942498, 5.539, false, 59, -1.21, false], [9, \"B\", 125833, \"2012-06-01\", 80.26, 3.5010000000000003, 2542.14, 35.6, 76.8, 374.37, 3413.57, 225.4946078, 5.539, false, 54, -29.0, false], [9, \"B\", 125833, \"2012-06-08\", 78.91, 3.452, 3564.15, 142.2, 0.3, 81.26, 5518.29, 225.4947868, 5.539, false, 59, -4.99, false], [9, \"B\", 125833, \"2012-07-13\", 82.39, 3.2560000000000002, 3031.81, 0.0, 2.02, 47.76, 4554.39, 225.6771463, 5.277, false, 59, -4.37, false], [9, \"B\", 125833, \"2012-08-17\", 86.37, 3.571, 975.91, 0.0, 3.0, 325.68, 670.48, 225.79953230000004, 5.277, false, 59, -39.24, false], [9, \"B\", 125833, \"2012-08-24\", 77.9, 3.62, 1524.71, 0.0, 1.8, 501.16, 4241.59, 225.93647290000004, 5.277, false, 59, -5.27, false], [9, \"B\", 125833, \"2012-08-31\", 80.71, 3.638, 5758.14, 0.0, 17.6, 2828.89, 1884.13, 226.0734135, 5.277, false, 59, -39.8, false], [9, \"B\", 125833, \"2012-09-07\", 87.93, 3.73, 4837.99, -5.96, 22.74, 602.8, 1377.59, 226.21035409999996, 5.277, true, 59, -55.46, false], [10, \"B\", 126512, \"2011-12-09\", 42.58, 3.6439999999999997, 7010.08, 74.24, 1019.36, 5124.86, 9458.28, 129.8555333, 7.874, false, 94, -4.94, false], [10, \"B\", 126512, \"2012-01-20\", 54.51, 3.66, 2972.31, 3286.44, 1.0, 644.03, 5331.52, 130.27922579999998, 7.545, false, 54, -370.12, false], [10, \"B\", 126512, \"2012-02-10\", 55.73, 3.722, 8414.22, 861.38, 66.96, 6806.11, 5723.0, 130.38490320000002, 7.545, true, 36, -1.91, false], [10, \"B\", 126512, \"2012-02-10\", 55.73, 3.722, 8414.22, 861.38, 66.96, 6806.11, 5723.0, 130.38490320000002, 7.545, true, 47, -498.0, false], [10, \"B\", 126512, \"2012-03-16\", 62.11, 4.273, 3977.45, -10.5, 6.03, 1928.5, 2273.92, 130.82619350000002, 7.545, false, 47, -224.0, false], [10, \"B\", 126512, \"2012-03-30\", 67.92, 4.294, 7388.74, 7.8, 0.0, 574.87, 4035.49, 130.96709679999998, 7.545, false, 54, -78.56, false], [10, \"B\", 126512, \"2012-04-27\", 80.11, 4.088, 3444.43, 1.5, 3.39, 124.18, 2906.22, 131.12666670000002, 7.382000000000001, false, 18, -12.98, false], [10, \"B\", 126512, \"2012-05-18\", 85.19, 4.308, 9630.62, 0.0, 9.46, 972.85, 2986.24, 131.0983226, 7.382000000000001, false, 18, -1.97, false], [10, \"B\", 126512, \"2012-05-25\", 86.03, 4.127, 7786.58, 0.0, 712.2, 1701.28, 3214.55, 131.02877420000002, 7.382000000000001, false, 47, -48.0, false], [10, \"B\", 126512, \"2012-06-01\", 80.06, 4.277, 11614.41, 0.0, 172.39, 2945.55, 1528.02, 130.95922579999998, 7.382000000000001, false, 47, -12.0, false], [10, \"B\", 126512, \"2012-07-06\", 86.87, 3.6660000000000004, 12644.88, 11.2, 4.12, 5763.56, 4746.94, 130.7196333, 7.17, false, 18, -11.98, false], [10, \"B\", 126512, \"2012-08-24\", 82.5, 4.055, 11322.69, 0.0, 34.0, 6602.59, 7256.22, 130.8381613, 7.17, false, 47, -448.0, false], [10, \"B\", 126512, \"2012-09-28\", 82.52, 3.966, 6091.96, 62.82, 2.82, 3350.88, 1751.75, 131.043, 7.17, false, 47, -98.0, false], [11, \"A\", 207499, \"2012-01-06\", 54.44, 3.157, 5107.29, 32305.3, 144.66, 530.55, 6004.19, 223.1923049, 6.832999999999999, false, 47, -38.0, false], [11, \"A\", 207499, \"2012-03-30\", 70.23, 3.845, 7438.04, 190.98, 1.0, 1345.08, 3504.0, 224.8651254, 6.832999999999999, false, 54, -23.92, false], [11, \"A\", 207499, \"2012-04-20\", 71.97, 3.877, 7906.21, 68.22, 1.44, 393.55, 4854.79, 225.06895409999998, 6.664, false, 47, -88.0, false], [11, \"A\", 207499, \"2012-05-04\", 79.07, 3.7489999999999997, 17975.32, 0.0, 160.84, 9298.85, 4109.98, 225.1797511, 6.664, false, 47, -59.5, false], [11, \"A\", 207499, \"2012-08-10\", 86.21, 3.4939999999999998, 16812.92, 128.54, 8.74, 4764.33, 4098.22, 225.4735085, 6.334, false, 51, -3.0, false], [11, \"A\", 207499, \"2012-08-31\", 86.49, 3.638, 16650.73, 120.0, 45.0, 7575.93, 6689.78, 225.8293063, 6.334, false, 47, -158.0, false], [11, \"A\", 207499, \"2012-08-31\", 86.49, 3.638, 16650.73, 120.0, 45.0, 7575.93, 6689.78, 225.8293063, 6.334, false, 77, -11.88, false], [12, \"B\", 112238, \"2011-12-16\", 43.29, 3.6, 4940.95, 28.45, 1038.3, 1100.93, 5243.21, 129.8980645, 12.89, false, 47, -498.0, false], [12, \"B\", 112238, \"2011-12-30\", 44.64, 3.428, 6982.02, 58804.91, 60.29, 1268.21, 3553.79, 130.07103229999998, 12.89, true, 47, -88.0, false], [12, \"B\", 112238, \"2012-01-13\", 48.07, 3.657, 6935.5, 23438.57, 0.0, 2289.8, 9526.73, 130.244, 12.187000000000001, false, 96, -4.0, false], [12, \"B\", 112238, \"2012-02-17\", 51.8, 3.781, 17708.64, 8549.74, 2.88, 14234.76, 5960.69, 130.4546207, 12.187000000000001, false, 80, -3.48, false], [12, \"B\", 112238, \"2012-02-24\", 53.13, 3.95, 12862.31, 5681.93, 2.0, 2401.22, 5131.37, 130.5502069, 12.187000000000001, false, 47, -48.0, false], [12, \"B\", 112238, \"2012-03-23\", 56.26, 4.038, 3865.96, 1496.18, 7.35, 1951.11, 1440.31, 130.8966452, 12.187000000000001, false, 96, -5.47, false], [12, \"B\", 112238, \"2012-05-11\", 77.27, 4.186, 13083.53, 0.0, 8.54, 1378.68, 2071.31, 131.14533329999998, 11.627, false, 47, -548.0, false], [12, \"B\", 112238, \"2012-07-13\", 95.61, 3.7230000000000003, 8699.07, 20.0, 0.06, 5542.53, 2781.14, 130.683, 10.925999999999998, false, 45, -139.0, false], [12, \"B\", 112238, \"2012-07-13\", 95.61, 3.7230000000000003, 8699.07, 20.0, 0.06, 5542.53, 2781.14, 130.683, 10.925999999999998, false, 96, -39.97, false], [12, \"B\", 112238, \"2012-08-03\", 88.16, 3.76, 41059.39, 69.7, 45.73, 22802.96, 2743.18, 130.73787099999998, 10.925999999999998, false, 80, -40.46, false], [12, \"B\", 112238, \"2012-09-14\", 83.64, 4.133, 6928.05, 0.0, 19.56, 863.95, 5776.08, 130.97766670000001, 10.925999999999998, false, 56, -0.26, false], [12, \"B\", 112238, \"2012-10-12\", 71.74, 4.468, 1986.92, 0.0, 16.75, 910.5, 4225.2, 131.1083333, 10.199, false, 49, -5.97, false], [12, \"B\", 112238, \"2012-10-19\", 68.66, 4.449, 1810.87, 0.0, 8.48, 640.64, 2250.86, 131.14996770000002, 10.199, false, 54, -22.92, false], [13, \"A\", 219622, \"2012-05-11\", 56.47, 3.8089999999999997, 14566.92, 86.0, 60.34, 6009.18, 4224.91, 131.14533329999998, 5.965, false, 18, -1.77, false], [13, \"A\", 219622, \"2012-06-01\", 61.11, 3.7880000000000003, 8868.86, 123.0, 37.87, 3793.73, 6276.31, 130.95922579999998, 5.965, false, 18, -1.72, false], [13, \"A\", 219622, \"2012-06-15\", 65.97, 3.7560000000000002, 8819.8, 416.5, 0.22, 3496.08, 6331.52, 130.82953329999998, 5.965, false, 18, -1.59, false], [13, \"A\", 219622, \"2012-06-29\", 82.0, 3.681, 4768.5, 446.92, 0.0, 743.34, 4076.02, 130.75626670000003, 5.965, false, 54, -10.0, false], [13, \"A\", 219622, \"2012-08-10\", 81.69, 3.509, 6249.06, 70.38, 51.09, 3258.43, 7070.04, 130.7561613, 5.765, false, 47, -98.0, false], [14, \"A\", 200898, \"2011-12-09\", 46.57, 3.415, 7297.72, 15.0, 342.71, 4849.0, 7509.9, 188.6544692, 8.523, false, 47, -59.0, false], [14, \"A\", 200898, \"2011-12-23\", 42.27, 3.389, 924.14, 112.73, 2127.77, 80.02, 4638.81, 188.92997519999997, 8.523, false, 47, -59.0, false], [14, \"A\", 200898, \"2012-01-06\", 35.88, 3.4219999999999997, 10428.95, 39234.09, 839.74, 981.17, 15911.56, 189.19405580000003, 8.424, false, 47, -109.0, false], [14, \"A\", 200898, \"2012-01-06\", 35.88, 3.4219999999999997, 10428.95, 39234.09, 839.74, 981.17, 15911.56, 189.19405580000003, 8.424, false, 96, -19.02, false], [14, \"A\", 200898, \"2012-03-16\", 50.56, 3.862, 6021.47, 280.43, 5.5, 1814.5, 1581.84, 190.46189640000003, 8.424, false, 47, -109.0, false], [14, \"A\", 200898, \"2012-03-23\", 59.45, 3.9, 4718.7, 348.81, 6.85, 353.11, 3726.39, 190.53632130000003, 8.424, false, 47, -65.0, false], [14, \"A\", 200898, \"2012-03-23\", 59.45, 3.9, 4718.7, 348.81, 6.85, 353.11, 3726.39, 190.53632130000003, 8.424, false, 96, -4.99, false], [14, \"A\", 200898, \"2012-04-06\", 49.73, 3.9960000000000004, 8376.85, 0.0, 81.19, 3578.4, 4857.19, 190.68517119999998, 8.567, false, 54, -5.12, false], [14, \"A\", 200898, \"2012-04-13\", 51.83, 4.044, 5236.77, 13739.76, 51.75, 984.02, 2638.42, 190.75959619999998, 8.567, false, 54, -2.0, false], [14, \"A\", 200898, \"2012-05-18\", 66.3, 3.8480000000000003, 8818.97, 0.0, 8.88, 1297.39, 3330.23, 190.9964479, 8.567, false, 18, -2.92, false], [14, \"A\", 200898, \"2012-05-18\", 66.3, 3.8480000000000003, 8818.97, 0.0, 8.88, 1297.39, 3330.23, 190.9964479, 8.567, false, 99, -12.0, false], [14, \"A\", 200898, \"2012-05-25\", 67.21, 3.798, 11421.79, 0.0, 634.52, 1071.25, 3204.72, 191.00280959999998, 8.567, false, 18, -2.16, false], [14, \"A\", 200898, \"2012-08-17\", 75.71, 3.807, 4625.55, 62.5, 5.84, 2100.73, 2663.23, 191.2284919, 8.684, false, 54, -18.0, false], [14, \"A\", 200898, \"2012-10-12\", 54.47, 4.0, 3214.56, 0.0, 20.28, 822.73, 7207.7, 192.32726540000002, 8.667, false, 54, -5.04, false], [15, \"B\", 123737, \"2011-11-11\", 47.13, 3.719, 9727.57, 4267.72, 617.98, 1236.64, 2067.74, 136.4618065, 7.8660000000000005, false, 37, -2.5, false], [15, \"B\", 123737, \"2011-11-18\", 46.53, 3.717, 3668.4, 615.27, 49.57, 946.2, 4393.97, 136.4666667, 7.8660000000000005, false, 47, -99.0, false], [15, \"B\", 123737, \"2011-12-02\", 45.67, 3.6660000000000004, 3751.34, 191.82, 6485.06, 1803.17, 16136.43, 136.49093330000002, 7.8660000000000005, false, 80, -45.25, false], [15, \"B\", 123737, \"2011-12-30\", 31.44, 3.5660000000000003, 3248.4, 31122.2, 111.35, 605.88, 3474.84, 136.6432581, 7.8660000000000005, true, 78, -12.88, false], [15, \"B\", 123737, \"2012-03-30\", 42.65, 4.098, 4292.7, 72.67, 3.0, 1169.95, 2965.23, 137.7261935, 7.943, false, 54, -8.0, false], [15, \"B\", 123737, \"2012-04-27\", 41.57, 4.163, 1863.53, 0.0, 9.82, 192.32, 1271.7, 137.9781333, 8.15, false, 54, -5.88, false], [15, \"B\", 123737, \"2012-05-04\", 51.04, 4.124, 8300.37, 0.0, 110.97, 3056.54, 1610.94, 138.0332, 8.15, false, 18, -7.71, false], [15, \"B\", 123737, \"2012-05-25\", 67.97, 3.9789999999999996, 6258.04, 0.0, 482.11, 928.64, 1315.99, 138.1101935, 8.15, false, 47, -28.0, false], [15, \"B\", 123737, \"2012-06-15\", 67.7, 3.786, 3453.42, 478.6, 0.01, 404.11, 3862.9, 138.12953330000002, 8.15, false, 94, -2.96, false], [15, \"B\", 123737, \"2012-07-27\", 73.9, 3.82, 2403.14, 122.34, 0.87, 2132.06, 1082.9, 138.20338710000001, 8.193, false, 94, -45.0, false], [15, \"B\", 123737, \"2012-08-03\", 73.13, 3.819, 7251.41, 216.62, 0.48, 4906.29, 1420.37, 138.17358059999998, 8.193, false, 94, -2.98, false], [16, \"B\", 57197, \"2012-01-06\", 26.49, 3.095, 443.59, 5524.49, 15.7, 35.25, 3296.96, 196.5458309, 6.162000000000001, false, 59, -12.5, false], [16, \"B\", 57197, \"2012-02-10\", 23.69, 3.103, 7247.14, 985.13, 0.45, 9481.58, 6298.1, 196.91950559999998, 6.162000000000001, true, 59, -8.0, false], [16, \"B\", 57197, \"2012-03-09\", 28.16, 3.286, 5302.57, 557.02, 3.17, 5974.36, 3037.04, 196.96315990000002, 6.162000000000001, false, 47, -1699.0, false], [16, \"B\", 57197, \"2012-04-13\", 45.83, 3.9010000000000002, 3532.73, 1368.42, 22.0, 214.95, 1983.5, 197.780931, 6.169, false, 47, -75.0, false], [16, \"B\", 57197, \"2012-04-13\", 45.83, 3.9010000000000002, 3532.73, 1368.42, 22.0, 214.95, 1983.5, 197.780931, 6.169, false, 54, -13.92, false], [16, \"B\", 57197, \"2012-05-04\", 51.34, 3.903, 3332.89, 0.0, 35.34, 766.61, 2282.68, 197.6063534, 6.169, false, 54, -9.12, false], [16, \"B\", 57197, \"2012-06-01\", 58.97, 3.764, 4078.25, 22.4, 60.41, 98.46, 968.96, 197.62189540000003, 6.169, false, 47, -58.0, false], [16, \"B\", 57197, \"2012-06-01\", 58.97, 3.764, 4078.25, 22.4, 60.41, 98.46, 968.96, 197.62189540000003, 6.169, false, 59, -9.63, false], [16, \"B\", 57197, \"2012-06-08\", 65.43, 3.741, 3644.68, 37.2, 63.9, 611.78, 5520.95, 197.65518630000003, 6.169, false, 59, -2.5, false], [16, \"B\", 57197, \"2012-09-07\", 60.09, 3.596, 2291.22, -9.98, 37.43, 411.53, 1576.74, 198.09504840000002, 6.061, true, 54, -30.92, false], [16, \"B\", 57197, \"2012-09-14\", 56.69, 3.659, 5323.84, 0.0, 9.3, 1307.03, 4474.84, 198.12671840000002, 6.061, false, 47, -400.0, false], [17, \"B\", 93188, \"2011-12-30\", 26.73, 3.1189999999999998, 4439.21, 42391.85, 120.08, 1366.9, 2383.67, 130.07103229999998, 6.617000000000001, true, 41, -4.03, false], [17, \"B\", 93188, \"2011-12-30\", 26.73, 3.1189999999999998, 4439.21, 42391.85, 120.08, 1366.9, 2383.67, 130.07103229999998, 6.617000000000001, true, 56, -1.18, false], [17, \"B\", 93188, \"2012-01-13\", 20.28, 3.056, 1552.86, 3911.73, 0.52, 542.24, 1709.97, 130.244, 6.403, false, 41, -9.97, false], [17, \"B\", 93188, \"2012-01-13\", 20.28, 3.056, 1552.86, 3911.73, 0.52, 542.24, 1709.97, 130.244, 6.403, false, 78, -19.76, false], [17, \"B\", 93188, \"2012-02-03\", 26.26, 3.077, 32793.78, 5509.47, 38.96, 35785.26, 4518.58, 130.3496774, 6.403, false, 41, -36.0, false], [17, \"B\", 93188, \"2012-02-24\", 30.01, 3.145, 8628.93, 3368.34, 0.0, 3876.56, 4378.82, 130.5502069, 6.403, false, 41, -14.0, false], [17, \"B\", 93188, \"2012-03-02\", 26.28, 3.242, 14469.08, 1163.89, 37.38, 8771.3, 2237.79, 130.6457931, 6.403, false, 41, -33.94, false], [17, \"B\", 93188, \"2012-03-02\", 26.28, 3.242, 14469.08, 1163.89, 37.38, 8771.3, 2237.79, 130.6457931, 6.403, false, 47, -259.0, false], [17, \"B\", 93188, \"2012-03-30\", 45.29, 3.734, 8337.43, 74.41, 6.0, 418.13, 3444.54, 130.96709679999998, 6.403, false, 41, -8.0, false], [17, \"B\", 93188, \"2012-06-15\", 56.67, 3.7560000000000002, 6069.6, 147.0, 0.18, 1949.47, 1373.68, 130.82953329999998, 6.235, false, 47, -68.0, false], [17, \"B\", 93188, \"2012-07-06\", 68.91, 3.63, 9824.36, 128.0, 25.38, 3990.35, 3618.23, 130.7196333, 5.936, false, 49, -33.18, false], [17, \"B\", 93188, \"2012-08-10\", 73.29, 3.509, 3711.96, 9.2, 4.42, 2316.51, 1613.36, 130.7561613, 5.936, false, 94, -1.5, false], [17, \"B\", 93188, \"2012-08-24\", 68.89, 3.582, 3255.74, 6.0, 50.17, 3022.22, 3782.36, 130.8381613, 5.936, false, 51, -5.36, false], [17, \"B\", 93188, \"2012-09-07\", 61.99, 3.6889999999999996, 13396.45, 0.0, 18.08, 1299.65, 1333.12, 130.93254840000003, 5.936, true, 49, -36.16, false], [17, \"B\", 93188, \"2012-10-26\", 39.94, 3.755, 5593.69, 112.2, 0.0, 134.13, 748.23, 131.19309679999998, 5.527, false, 54, -11.0, false], [18, \"B\", 120653, \"2011-12-16\", 35.52, 3.445, 3332.41, 2.65, 882.11, 1350.2, 2932.75, 136.53351609999999, 8.471, false, 77, -9.0, false], [18, \"B\", 120653, \"2011-12-16\", 35.52, 3.445, 3332.41, 2.65, 882.11, 1350.2, 2932.75, 136.53351609999999, 8.471, false, 96, -11.95, false], [18, \"B\", 120653, \"2011-12-23\", 35.78, 3.4130000000000003, 159.95, 12.79, 2083.28, 71.51, 2131.65, 136.5883871, 8.471, false, 96, -24.82, false], [18, \"B\", 120653, \"2012-01-06\", 31.27, 3.4389999999999996, 6196.77, 43731.43, 128.45, 1653.17, 8527.2, 136.698129, 8.075, false, 78, -12.88, false], [18, \"B\", 120653, \"2012-01-13\", 35.25, 3.523, 3761.79, 22411.4, 10.54, 807.3, 2977.83, 136.753, 8.075, false, 96, -63.8, false], [18, \"B\", 120653, \"2012-02-10\", 32.83, 3.655, 36778.65, 4105.7, 222.56, 16024.01, 8840.68, 137.1666774, 8.075, true, 47, -259.0, false], [18, \"B\", 120653, \"2012-04-27\", 50.43, 4.023, 2255.05, 5.83, 23.93, 17.92, 1445.88, 137.9781333, 8.304, false, 47, -224.0, false], [18, \"B\", 120653, \"2012-04-27\", 50.43, 4.023, 2255.05, 5.83, 23.93, 17.92, 1445.88, 137.9781333, 8.304, false, 96, -6.43, false], [18, \"B\", 120653, \"2012-05-11\", 57.44, 3.947, 11557.93, 0.0, 89.44, 1570.63, 3911.58, 138.0882667, 8.304, false, 18, -1.53, false], [18, \"B\", 120653, \"2012-06-01\", 71.42, 3.798, 13525.26, 1.2, 36.26, 1889.92, 1629.62, 138.11380649999998, 8.304, false, 96, -8.01, false], [18, \"B\", 120653, \"2012-06-08\", 59.1, 3.7460000000000004, 9422.6, 218.0, 32.42, 427.69, 6113.61, 138.11741940000002, 8.304, false, 78, -3.0, false], [18, \"B\", 120653, \"2012-06-22\", 70.92, 3.6289999999999996, 8206.82, 478.09, 1.37, 3726.43, 4323.55, 138.1629, 8.304, false, 18, -5.79, false], [18, \"B\", 120653, \"2012-06-29\", 70.17, 3.577, 4281.61, 262.88, 0.0, 829.99, 2102.06, 138.1962667, 8.304, false, 18, -2.94, false], [18, \"B\", 120653, \"2012-07-27\", 72.97, 3.701, 4182.36, 117.52, 5.9, 3944.27, 4654.0, 138.20338710000001, 8.535, false, 47, -48.0, false], [18, \"B\", 120653, \"2012-09-07\", 71.85, 3.9210000000000003, 5817.03, 3.0, 99.56, 346.88, 4664.82, 138.4729355, 8.535, true, 96, -29.4, false], [18, \"B\", 120653, \"2012-09-28\", 58.24, 4.018, 2247.94, 22.73, 45.56, 2464.93, 1640.3, 138.7395, 8.535, false, 96, -12.87, false], [18, \"B\", 120653, \"2012-10-12\", 50.97, 4.029, 2241.19, 0.0, 30.08, 901.32, 3592.56, 138.9117, 8.243, false, 96, -0.95, false], [18, \"B\", 120653, \"2012-10-19\", 51.96, 4.0, 1894.83, 0.0, 2.24, 501.85, 1453.25, 138.8336129, 8.243, false, 96, -2.99, false], [18, \"B\", 120653, \"2012-10-26\", 56.09, 3.917, 5430.61, 128.31, 50.0, 822.64, 969.64, 138.7281613, 8.243, false, 96, -11.51, false], [19, \"A\", 203819, \"2011-11-18\", 48.21, 3.717, 10100.14, 1785.29, 92.36, 978.96, 7776.94, 136.4666667, 7.8660000000000005, false, 54, -24.04, false], [19, \"A\", 203819, \"2011-12-23\", 36.09, 3.5869999999999997, 3124.45, 475.86, 1902.55, 145.88, 3248.83, 136.5883871, 7.8660000000000005, false, 47, -649.0, false], [19, \"A\", 203819, \"2011-12-30\", 31.65, 3.5660000000000003, 6234.22, 50438.17, 210.34, 1457.96, 2373.94, 136.6432581, 7.8660000000000005, true, 54, -3.28, false], [19, \"A\", 203819, \"2012-01-13\", 37.08, 3.6660000000000004, 3504.09, 11505.42, 291.37, 1698.88, 5451.32, 136.753, 7.943, false, 19, -17.0, false], [19, \"A\", 203819, \"2012-01-20\", 23.44, 3.705, 5571.99, 5702.57, 225.06, 1122.08, 2863.93, 136.85641940000002, 7.943, false, 47, -49.0, false], [19, \"A\", 203819, \"2012-02-03\", 36.22, 3.7960000000000003, 51879.66, 6433.83, 394.18, 52739.02, 6473.61, 137.0632581, 7.943, false, 78, -12.88, false], [19, \"A\", 203819, \"2012-03-16\", 48.2, 4.021, 8353.56, 84.57, 3.04, 3175.2, 2613.7, 137.58438710000001, 7.943, false, 19, -6.94, false], [19, \"A\", 203819, \"2012-05-04\", 50.76, 4.124, 21028.84, 532.0, 122.17, 7269.47, 2609.22, 138.0332, 8.15, false, 18, -3.02, false], [19, \"A\", 203819, \"2012-06-08\", 60.19, 3.8710000000000004, 10625.25, 292.4, 51.96, 2760.12, 6219.56, 138.11741940000002, 8.15, false, 19, -1.94, false], [19, \"A\", 203819, \"2012-08-24\", 66.66, 3.997, 9087.86, 237.03, 102.63, 5601.12, 6738.74, 138.2814516, 8.193, false, 47, -649.0, false], [19, \"A\", 203819, \"2012-08-24\", 66.66, 3.997, 9087.86, 237.03, 102.63, 5601.12, 6738.74, 138.2814516, 8.193, false, 54, -28.92, false], [19, \"A\", 203819, \"2012-10-26\", 56.49, 4.071000000000001, 5430.75, 90.07, 0.0, 904.34, 1665.77, 138.7281613, 7.992000000000001, false, 47, -18.0, false], [20, \"A\", 203742, \"2011-11-11\", 47.27, 3.53, 34348.14, 11652.84, 549.25, 9606.11, 5472.37, 210.9810201, 7.082000000000001, false, 19, -7.97, false], [20, \"A\", 203742, \"2011-11-25\", 46.38, 3.492, 335.66, 80.0, 101378.79, 64.46, 2251.98, 211.41207569999997, 7.082000000000001, true, 19, -22.03, false], [20, \"A\", 203742, \"2011-12-16\", 37.16, 3.4130000000000003, 5488.56, 217.03, 1776.71, 466.19, 4535.27, 212.0685039, 7.082000000000001, false, 19, -1.97, false], [20, \"A\", 203742, \"2011-12-23\", 40.19, 3.389, 1483.17, 80.15, 2145.46, 38.97, 4180.29, 212.2360401, 7.082000000000001, false, 96, -8.44, false], [20, \"A\", 203742, \"2011-12-30\", 36.35, 3.389, 6918.65, 97740.99, 270.38, 1648.03, 2852.19, 212.40357630000003, 7.082000000000001, true, 47, -798.0, false], [20, \"A\", 203742, \"2011-12-30\", 36.35, 3.389, 6918.65, 97740.99, 270.38, 1648.03, 2852.19, 212.40357630000003, 7.082000000000001, true, 54, -3.04, false], [20, \"A\", 203742, \"2012-03-16\", 53.73, 3.862, 6745.04, 310.32, 6.94, 3282.4, 2895.89, 214.01671319999997, 6.961, false, 19, -10.0, false], [20, \"A\", 203742, \"2012-03-30\", 51.52, 3.9530000000000003, 9569.49, 116.47, 7.75, 1285.42, 3908.61, 214.1647079, 6.961, false, 19, -6.47, false], [20, \"A\", 203742, \"2012-05-04\", 62.74, 3.951, 24594.6, 496.0, 38.52, 9381.13, 4648.85, 214.47710809999998, 7.138999999999999, false, 19, -69.56, false], [20, \"A\", 203742, \"2012-06-01\", 73.67, 3.742, 12240.61, 17.4, 82.98, 3560.21, 3373.36, 214.5513278, 7.138999999999999, false, 19, -11.88, false], [20, \"A\", 203742, \"2012-06-08\", 62.01, 3.6889999999999996, 8353.32, 516.6, 46.76, 2073.77, 7774.31, 214.55271319999997, 7.138999999999999, false, 47, -78.0, false], [20, \"A\", 203742, \"2012-06-22\", 76.51, 3.5639999999999996, 12173.74, 875.7, 2.36, 4195.01, 7516.62, 214.606, 7.138999999999999, false, 19, -0.97, false], [20, \"A\", 203742, \"2012-06-29\", 74.15, 3.5060000000000002, 6569.4, 605.7, 0.0, 561.31, 4567.03, 214.64667569999997, 7.138999999999999, false, 54, -34.92, false], [20, \"A\", 203742, \"2012-07-27\", 74.6, 3.647, 11481.26, 130.17, 7.09, 11794.45, 3238.04, 214.7382432, 7.28, false, 18, -0.98, false], [20, \"A\", 203742, \"2012-08-17\", 69.57, 3.807, 3008.99, 99.68, 1.12, 2535.66, 2831.84, 214.82557799999998, 7.28, false, 77, -175.0, false], [20, \"A\", 203742, \"2012-08-24\", 68.27, 3.8339999999999996, 6125.02, 53.4, 84.62, 9638.85, 8710.31, 214.95670440000004, 7.28, false, 47, -34.0, false], [20, \"A\", 203742, \"2012-08-31\", 72.66, 3.867, 19058.96, 32.04, 125.49, 9015.83, 4449.08, 215.0878309, 7.28, false, 19, -7.47, false], [20, \"A\", 203742, \"2012-09-07\", 76.36, 3.911, 11783.56, -0.99, 83.85, 1938.4, 3708.67, 215.21895730000003, 7.28, true, 96, -8.97, false], [20, \"A\", 203742, \"2012-09-14\", 64.84, 3.948, 10404.97, 0.0, 40.11, 1481.31, 8655.59, 215.35837569999998, 7.28, false, 47, -38.0, false], [20, \"A\", 203742, \"2012-09-28\", 58.65, 3.997, 6245.6, 52.64, 21.5, 3301.81, 7195.56, 215.7367162, 7.28, false, 19, -19.9, false], [20, \"A\", 203742, \"2012-09-28\", 58.65, 3.997, 6245.6, 52.64, 21.5, 3301.81, 7195.56, 215.7367162, 7.28, false, 96, -17.88, false], [20, \"A\", 203742, \"2012-10-12\", 47.2, 4.0, 2449.31, 0.0, 35.08, 1019.9, 9743.56, 216.1150568, 7.292999999999999, false, 19, -44.82, false], [20, \"A\", 203742, \"2012-10-26\", 60.04, 3.8819999999999997, 10813.19, 22.33, 102.91, 867.39, 1671.76, 216.1515902, 7.292999999999999, false, 19, -3.97, false], [21, \"B\", 140167, \"2012-01-06\", 48.1, 3.157, 2211.62, 28369.34, 7.74, 753.62, 3371.85, 219.355063, 7.057, false, 47, -16.0, false], [21, \"B\", 140167, \"2012-01-13\", 45.0, 3.261, 4873.12, 13367.98, 0.46, 396.66, 1861.16, 219.53281980000003, 7.057, false, 94, -6.88, false], [21, \"B\", 140167, \"2012-01-27\", 50.79, 3.29, 714.08, 602.88, 0.0, 18.42, 2562.85, 219.7188636, 7.057, false, 54, -24.88, false], [21, \"B\", 140167, \"2012-05-18\", 72.42, 3.63, 4088.63, 0.0, 28.62, 1397.46, 2772.05, 221.380331, 6.891, false, 18, -1.33, false], [21, \"B\", 140167, \"2012-06-08\", 79.47, 3.452, 7055.91, 10.8, 93.05, 751.89, 4570.78, 221.38774669999998, 6.891, false, 54, -3.12, false], [21, \"B\", 140167, \"2012-06-22\", 81.78, 3.346, 7545.68, 79.95, 0.51, 3498.46, 7223.83, 221.4411622, 6.891, false, 80, -0.64, false], [21, \"B\", 140167, \"2012-07-06\", 85.26, 3.227, 6607.09, 63.2, 37.39, 3667.62, 3438.32, 221.52150640000002, 6.565, false, 18, -1.0, false], [21, \"B\", 140167, \"2012-07-20\", 84.25, 3.3110000000000004, 4773.73, 57.8, 10.12, 3554.45, 4341.89, 221.5701123, 6.565, false, 47, -42.0, false], [21, \"B\", 140167, \"2012-09-07\", 88.4, 3.73, 10259.59, 20.0, 8.12, 2815.73, 2279.98, 222.0747635, 6.565, true, 18, -22.97, false], [22, \"B\", 119557, \"2012-01-06\", 34.61, 3.4389999999999996, 5803.25, 34453.8, 22.94, 1777.64, 8239.01, 140.64613590000002, 7.502999999999999, false, 47, -15.0, false], [22, \"B\", 119557, \"2012-01-13\", 39.0, 3.523, 2325.12, 19455.8, 6.06, 520.21, 5824.45, 140.70482140000001, 7.502999999999999, false, 6, -106.34, false], [22, \"B\", 119557, \"2012-01-13\", 39.0, 3.523, 2325.12, 19455.8, 6.06, 520.21, 5824.45, 140.70482140000001, 7.502999999999999, false, 49, -2.97, false], [22, \"B\", 119557, \"2012-01-27\", 35.68, 3.568, 1048.86, 4022.06, 0.0, 9.88, 2507.98, 140.9124021, 7.502999999999999, false, 49, -35.76, false], [22, \"B\", 119557, \"2012-05-11\", 56.72, 3.947, 16294.31, 0.0, 100.09, 3370.19, 3482.48, 142.0759262, 7.671, false, 18, -6.78, false], [22, \"B\", 119557, \"2012-05-25\", 62.39, 3.85, 9329.34, 0.0, 309.12, 1369.3, 2638.03, 142.10327759999998, 7.671, false, 47, -124.0, false], [22, \"B\", 119557, \"2012-05-25\", 62.39, 3.85, 9329.34, 0.0, 309.12, 1369.3, 2638.03, 142.10327759999998, 7.671, false, 48, -42.05, false], [22, \"B\", 119557, \"2012-06-15\", 66.56, 3.6830000000000003, 9564.7, 193.9, 9.06, 3070.27, 2588.53, 142.1292548, 7.671, false, 47, -38.88, false], [22, \"B\", 119557, \"2012-06-22\", 70.61, 3.6289999999999996, 8154.53, 387.4, 0.0, 2396.96, 3938.83, 142.16064640000002, 7.671, false, 54, -9.92, false], [22, \"B\", 119557, \"2012-08-24\", 70.42, 3.8739999999999997, 10456.16, 100.54, 104.14, 6657.04, 4648.25, 142.31059330000002, 7.752999999999999, false, 49, -58.0, false], [22, \"B\", 119557, \"2012-08-31\", 71.93, 3.884, 37707.43, 40.66, 119.53, 6761.03, 2307.61, 142.4054482, 7.752999999999999, false, 94, -3.56, false], [22, \"B\", 119557, \"2012-09-21\", 63.38, 4.056, 7150.28, 106.01, 19.0, 1217.3, 7556.34, 142.6798167, 7.752999999999999, false, 96, -0.56, false], [22, \"B\", 119557, \"2012-10-05\", 62.09, 4.027, 5294.37, 0.0, 4.25, 1447.19, 3652.84, 142.85168330000002, 7.542999999999999, false, 54, -24.04, false], [22, \"B\", 119557, \"2012-10-12\", 54.18, 4.029, 1558.08, 0.0, 10.35, 485.2, 4291.26, 142.93761669999998, 7.542999999999999, false, 47, -78.0, false], [23, \"B\", 114533, \"2011-12-16\", 32.99, 3.445, 6112.33, 19.18, 738.38, 591.22, 4241.95, 136.53351609999999, 4.42, false, 48, -44.91, false], [23, \"B\", 114533, \"2011-12-23\", 27.8, 3.4130000000000003, 1003.58, 14.2, 1683.17, 2.0, 570.74, 136.5883871, 4.42, false, 47, -119.0, false], [23, \"B\", 114533, \"2012-03-09\", 33.11, 3.8760000000000003, 8575.57, 1125.61, 5.08, 4365.63, 2742.87, 137.50668969999998, 4.261, false, 94, -6.98, false], [23, \"B\", 114533, \"2012-03-23\", 57.82, 3.889, 3502.06, 72.5, 6.97, 276.39, 1541.93, 137.65529030000002, 4.261, false, 47, -259.0, false], [23, \"B\", 114533, \"2012-05-04\", 45.88, 3.991, 9941.93, 0.0, 99.93, 4899.79, 2841.41, 138.0332, 4.125, false, 18, -13.78, false], [23, \"B\", 114533, \"2012-05-11\", 52.9, 3.947, 8839.9, 0.0, 58.82, 1419.42, 2237.57, 138.0882667, 4.125, false, 18, -6.72, false], [23, \"B\", 114533, \"2012-05-25\", 66.43, 3.85, 7101.14, 0.0, 246.45, 1017.09, 2752.95, 138.1101935, 4.125, false, 18, -30.0, false], [23, \"B\", 114533, \"2012-06-01\", 66.22, 3.798, 4238.85, 92.2, 61.64, 1401.23, 2312.38, 138.11380649999998, 4.125, false, 18, -1.97, false], [23, \"B\", 114533, \"2012-06-22\", 71.82, 3.6289999999999996, 5810.83, 658.1, 8.28, 2064.37, 5454.93, 138.1629, 4.125, false, 47, -1.5, false], [23, \"B\", 114533, \"2012-07-27\", 69.31, 3.701, 3050.22, 205.08, 7.05, 3797.44, 3275.95, 138.20338710000001, 4.156000000000001, false, 54, -9.0, false], [23, \"B\", 114533, \"2012-08-10\", 71.12, 3.772, 23983.92, 144.9, 106.86, 13110.54, 4860.8, 138.1437742, 4.156000000000001, false, 98, -0.93, false], [24, \"A\", 203819, \"2012-02-03\", 38.61, 3.7960000000000003, 65021.23, 4189.09, 254.01, 47452.43, 7146.25, 137.0632581, 8.658999999999999, false, 47, -109.0, false], [24, \"A\", 203819, \"2012-05-04\", 52.14, 4.124, 19129.69, 192.0, 195.04, 5860.88, 4953.15, 138.0332, 8.982999999999999, false, 18, -0.63, false], [24, \"A\", 203819, \"2012-05-11\", 58.7, 4.055, 6503.15, -192.0, 97.28, 1798.06, 1286.62, 138.0882667, 8.982999999999999, false, 18, -20.59, false], [24, \"A\", 203819, \"2012-05-11\", 58.7, 4.055, 6503.15, -192.0, 97.28, 1798.06, 1286.62, 138.0882667, 8.982999999999999, false, 54, -28.92, false], [24, \"A\", 203819, \"2012-07-06\", 77.18, 3.6460000000000004, 2920.43, 559.3, 181.49, 1218.55, 3889.14, 138.22963330000002, 8.953, false, 50, -5.0, false], [24, \"A\", 203819, \"2012-09-07\", 72.81, 4.0760000000000005, 15092.87, 60.92, 89.01, 2756.36, 4563.61, 138.4729355, 8.953, true, 54, -20.0, false], [25, \"B\", 128107, \"2011-11-18\", 46.41, 3.53, 6165.27, 168.82, 94.85, 267.01, 3687.92, 211.18472069999999, 7.082000000000001, false, 19, -7.5, false], [25, \"B\", 128107, \"2011-11-25\", 43.49, 3.492, 208.47, 65.0, 58539.77, 6.47, 926.72, 211.41207569999997, 7.082000000000001, true, 78, -12.88, false], [25, \"B\", 128107, \"2011-12-30\", 32.42, 3.389, 4624.26, 49913.53, 177.05, 407.17, 2515.09, 212.40357630000003, 7.082000000000001, true, 47, -28.92, false], [25, \"B\", 128107, \"2012-01-13\", 34.6, 3.513, 2459.51, 10718.26, 0.92, 506.45, 3277.12, 212.7386486, 6.961, false, 54, -55.0, false], [25, \"B\", 128107, \"2012-03-02\", 36.01, 3.8160000000000003, 14860.09, 3050.12, 21.38, 12085.01, 1327.97, 213.67181269999998, 6.961, false, 47, -10.0, false], [25, \"B\", 128107, \"2012-05-11\", 59.21, 3.889, 16186.46, 0.0, 23.05, 4625.4, 2037.11, 214.5319099, 7.138999999999999, false, 18, -4.91, false], [25, \"B\", 128107, \"2012-05-18\", 58.21, 3.8480000000000003, 7191.69, 0.0, 1.7, 640.51, 1793.42, 214.5485571, 7.138999999999999, false, 18, -2.47, false], [25, \"B\", 128107, \"2012-05-25\", 67.69, 3.798, 5154.82, 0.0, 391.45, 1581.91, 2164.96, 214.5499425, 7.138999999999999, false, 48, -92.37, false], [25, \"B\", 128107, \"2012-06-01\", 69.54, 3.742, 6667.97, 38.4, 40.85, 544.94, 2765.31, 214.5513278, 7.138999999999999, false, 54, -88.08, false], [25, \"B\", 128107, \"2012-08-03\", 72.08, 3.654, 14653.91, 1155.02, 13.07, 10978.83, 2021.96, 214.7433514, 7.28, false, 48, -99.87, false], [25, \"B\", 128107, \"2012-09-14\", 60.9, 3.948, 6748.95, 0.0, 3.15, 968.4, 6124.49, 215.35837569999998, 7.28, false, 96, -1.27, false], [26, \"A\", 152513, \"2011-11-18\", 37.78, 3.571, 5590.39, 226.18, 61.08, 345.45, 4332.53, 136.4666667, 7.598, false, 50, -79.0, false], [26, \"A\", 152513, \"2012-04-27\", 43.6, 4.023, 1946.7, 32.65, 21.62, 24.1, 2152.4, 137.9781333, 7.489, false, 18, -1.23, false], [26, \"A\", 152513, \"2012-09-21\", 52.68, 4.056, 6916.18, 3.82, 0.0, 228.31, 7025.39, 138.6534, 7.405, false, 54, -29.08, false], [27, \"A\", 204184, \"2011-12-16\", 40.68, 3.611, 7510.92, 28.09, 1049.3, 1160.14, 7853.48, 140.4700795, 7.906000000000001, false, 47, -279.0, false], [27, \"A\", 204184, \"2011-12-30\", 37.85, 3.5660000000000003, 3650.53, 50076.68, 271.89, 1009.78, 1773.53, 140.5874505, 7.906000000000001, true, 47, -59.0, false], [27, \"A\", 204184, \"2012-02-24\", 41.74, 3.917, 16993.22, 13384.32, 9.6, 8237.33, 9045.21, 141.30078569999998, 8.009, false, 77, -8.27, false], [27, \"A\", 204184, \"2012-03-30\", 49.4, 4.098, 12705.56, 180.11, 7.59, 2943.99, 3495.93, 141.6990864, 8.009, false, 47, -69.0, false], [27, \"A\", 204184, \"2012-04-06\", 48.73, 4.143, 10800.82, 0.0, 101.35, 3079.87, 5692.72, 141.7712396, 8.253, false, 78, -7.0, false], [27, \"A\", 204184, \"2012-05-11\", 58.97, 4.055, 10864.63, 0.0, 244.98, 2261.45, 2840.03, 142.0759262, 8.253, false, 18, -1.5, false], [27, \"A\", 204184, \"2012-05-11\", 58.97, 4.055, 10864.63, 0.0, 244.98, 2261.45, 2840.03, 142.0759262, 8.253, false, 54, -69.88, false], [27, \"A\", 204184, \"2012-08-17\", 76.51, 3.963, 4017.25, 33.65, 6.2, 1753.64, 6783.58, 142.21573850000001, 8.238999999999999, false, 58, -50.0, false], [27, \"A\", 204184, \"2012-10-05\", 64.5, 4.151, 16670.04, 0.0, 40.02, 5385.32, 6733.38, 142.85168330000002, 8.0, false, 47, -39.5, false], [28, \"A\", 206302, \"2012-01-27\", 50.43, 3.675, 1657.67, 887.0, 30.97, 222.42, 4291.52, 130.31445159999998, 12.187000000000001, false, 54, -23.92, false], [28, \"A\", 206302, \"2012-08-10\", 95.91, 3.8110000000000004, 8364.4, 69.48, 30.01, 4158.02, 3050.7, 130.7561613, 10.925999999999998, false, 56, -103.06, false], [29, \"B\", 93638, \"2011-12-16\", 39.11, 3.445, 1779.72, 0.0, 547.17, 1211.18, 6777.33, 136.53351609999999, 9.357000000000001, false, 80, -2.69, false], [29, \"B\", 93638, \"2012-01-27\", 35.68, 3.568, 961.63, 2011.62, 0.73, 117.38, 1504.22, 136.95983869999998, 8.988, false, 47, -15.0, false], [29, \"B\", 93638, \"2012-03-09\", 41.72, 3.8760000000000003, 5564.21, 396.61, 0.0, 531.23, 1542.59, 137.50668969999998, 8.988, false, 47, -33.0, false], [29, \"B\", 93638, \"2012-04-06\", 46.38, 3.957, 9650.62, 0.0, 10.77, 1831.88, 4732.84, 137.79709680000002, 9.14, false, 19, -7.97, false], [29, \"B\", 93638, \"2012-05-18\", 61.9, 3.8989999999999996, 3018.19, 0.0, 76.29, 661.56, 597.94, 138.10658059999997, 9.14, false, 18, -27.9, false], [29, \"B\", 93638, \"2012-06-15\", 66.56, 3.6830000000000003, 3861.04, 306.6, 7.02, 89.54, 1180.28, 138.12953330000002, 9.14, false, 54, -5.88, false], [29, \"B\", 93638, \"2012-07-20\", 76.57, 3.61, 1142.93, 212.35, 8.11, 368.45, 1625.35, 138.2331935, 9.419, false, 36, -117.0, false], [29, \"B\", 93638, \"2012-08-17\", 74.92, 3.84, 1727.05, 167.24, 0.3, 504.22, 1175.37, 138.1857097, 9.419, false, 49, -184.32, false], [29, \"B\", 93638, \"2012-08-24\", 70.42, 3.8739999999999997, 2436.31, 71.53, 1.98, 1546.95, 1061.4, 138.2814516, 9.419, false, 54, -28.92, false], [29, \"B\", 93638, \"2012-08-31\", 71.93, 3.884, 5937.04, 64.33, 26.74, 1875.2, 1385.34, 138.3771935, 9.419, false, 80, -12.94, false], [29, \"B\", 93638, \"2012-09-28\", 62.17, 4.018, 4039.87, 7.91, 1.98, 687.56, 3822.63, 138.7395, 9.419, false, 54, -40.0, false], [29, \"B\", 93638, \"2012-09-28\", 62.17, 4.018, 4039.87, 7.91, 1.98, 687.56, 3822.63, 138.7395, 9.419, false, 80, -11.68, false], [29, \"B\", 93638, \"2012-10-05\", 62.09, 4.027, 4727.88, 0.0, 9.12, 676.3, 1904.05, 138.8256, 9.151, false, 19, -14.0, false], [29, \"B\", 93638, \"2012-10-26\", 57.58, 3.917, 5581.8, 2.98, 0.0, 398.23, 396.11, 138.7281613, 9.151, false, 80, -178.15, false], [30, \"C\", 42988, \"2011-12-02\", 48.72, 3.1719999999999997, 23.47, 0.0, 4.7, 0.0, 1257.19, 218.35903190000002, 7.441, false, 99, -0.5, false], [30, \"C\", 42988, \"2011-12-30\", 45.16, 3.1289999999999996, 782.67, 2027.77, 0.0, 35.28, 239.99, 219.1773063, 7.441, true, 6, -19.0, false], [30, \"C\", 42988, \"2012-01-20\", 52.21, 3.2680000000000002, 1084.35, 3.47, 36.96, 0.0, 344.93, 219.6258417, 7.057, false, 6, -26.61, false], [30, \"C\", 42988, \"2012-01-20\", 52.21, 3.2680000000000002, 1084.35, 3.47, 36.96, 0.0, 344.93, 219.6258417, 7.057, false, 99, -6.72, false], [30, \"C\", 42988, \"2012-05-18\", 72.42, 3.63, 57.13, 0.0, 0.0, 0.0, 857.91, 221.380331, 6.891, false, 31, -9.62, false], [30, \"C\", 42988, \"2012-06-08\", 79.47, 3.452, 359.6, 0.0, 3.75, 0.0, 3721.71, 221.38774669999998, 6.891, false, 49, -5.97, false], [31, \"A\", 203750, \"2011-11-18\", 61.9, 3.3080000000000003, 6756.03, 591.76, 71.38, 462.18, 12533.58, 217.86702180000003, 7.441, false, 19, -2.91, false], [31, \"A\", 203750, \"2011-12-16\", 50.56, 3.159, 1263.97, 47.0, 477.99, 566.44, 5199.2, 218.82179280000003, 7.441, false, 47, -18.0, false], [31, \"A\", 203750, \"2011-12-23\", 46.54, 3.112, 2240.27, 18.26, 974.28, 86.0, 6207.39, 218.9995495, 7.441, false, 47, -59.0, false], [31, \"A\", 203750, \"2012-01-13\", 45.0, 3.261, 4371.53, 14136.14, 54.52, 719.85, 3942.03, 219.53281980000003, 7.057, false, 54, -28.92, false], [31, \"A\", 203750, \"2012-02-03\", 55.83, 3.36, 60394.73, 2578.65, 128.54, 33529.14, 7737.46, 219.81188540000002, 7.057, false, 77, -19.88, false], [31, \"A\", 203750, \"2012-03-16\", 63.39, 3.734, 6738.65, 801.74, 8.13, 2047.38, 7905.67, 220.84984680000002, 7.057, false, 47, -58.0, false], [31, \"A\", 203750, \"2012-04-06\", 69.02, 3.891, 12625.17, 399.0, 21.86, 3623.01, 16629.1, 221.07376380000002, 6.891, false, 19, -15.48, false], [31, \"A\", 203750, \"2012-06-01\", 79.24, 3.5010000000000003, 10969.38, 0.0, 378.31, 2706.46, 3236.46, 221.38527480000002, 6.891, false, 18, -31.97, false], [31, \"A\", 203750, \"2012-06-15\", 81.51, 3.3930000000000002, 7348.68, 0.0, 2.85, 2541.21, 5428.08, 221.4009901, 6.891, false, 18, -9.47, false], [31, \"A\", 203750, \"2012-06-15\", 81.51, 3.3930000000000002, 7348.68, 0.0, 2.85, 2541.21, 5428.08, 221.4009901, 6.891, false, 47, -224.0, false], [31, \"A\", 203750, \"2012-06-29\", 88.05, 3.286, 5659.29, 7.6, 0.0, 408.59, 6001.91, 221.48133430000004, 6.891, false, 18, -5.0, false], [31, \"A\", 203750, \"2012-07-27\", 88.09, 3.407, 6694.25, 35.94, 7.2, 8201.22, 11721.11, 221.5785461, 6.565, false, 18, -0.75, false], [31, \"A\", 203750, \"2012-08-10\", 89.57, 3.4939999999999998, 15098.61, 18.96, 57.04, 4709.17, 6169.55, 221.59541380000002, 6.565, false, 18, -9.88, false], [32, \"A\", 203007, \"2012-01-06\", 36.75, 3.095, 4323.27, 33209.84, 208.29, 1848.9, 6197.53, 196.5458309, 8.256, false, 54, -5.12, false], [32, \"A\", 203007, \"2012-03-09\", 39.9, 3.286, 16322.3, 1206.5, 4.97, 17697.9, 4305.36, 196.96315990000002, 8.256, false, 47, -88.0, false], [32, \"A\", 203007, \"2012-04-20\", 49.15, 3.9360000000000004, 7666.76, 2726.52, 30.46, 1330.36, 2578.3, 197.7227385, 8.09, false, 47, -224.0, false], [32, \"A\", 203007, \"2012-04-27\", 61.76, 3.927, 4162.67, 126.71, 45.62, 382.41, 2146.94, 197.664546, 8.09, false, 47, -24.0, false], [32, \"A\", 203007, \"2012-05-11\", 55.4, 3.87, 17977.87, 0.0, 26.79, 4338.3, 3488.39, 197.54816090000003, 8.09, false, 18, -1.37, false], [32, \"A\", 203007, \"2012-06-15\", 70.91, 3.7230000000000003, 4642.56, 414.3, 0.01, 989.08, 4381.8, 197.69229199999998, 8.09, false, 47, -18.0, false], [32, \"A\", 203007, \"2012-06-22\", 74.85, 3.735, 7803.3, 609.25, 3.05, 4800.5, 15323.92, 197.7389345, 8.09, false, 47, -34.92, false], [32, \"A\", 203007, \"2012-06-29\", 81.95, 3.693, 3333.19, 599.5, 0.0, 798.18, 2945.01, 197.785577, 8.09, false, 18, -5.32, false], [32, \"A\", 203007, \"2012-08-17\", 70.75, 3.545, 7157.73, 186.89, 3.84, 6006.91, 1590.2, 198.10010569999997, 7.872000000000001, false, 47, -18.0, false], [33, \"A\", 39690, \"2011-11-18\", 63.35, 3.6689999999999996, 86.59, 6.0, 0.0, 0.0, 3220.86, 129.82683329999998, 8.01, false, 9, -11.32, false], [33, \"A\", 39690, \"2011-12-30\", 51.6, 3.428, 384.37, 1919.79, 4.95, 25.2, 556.38, 130.07103229999998, 8.01, true, 23, -2.0, false], [34, \"A\", 158114, \"2011-11-11\", 41.04, 3.286, 10860.98, 6524.97, 65.95, 4082.99, 4814.43, 129.81670970000002, 10.148, false, 19, -29.76, false], [34, \"A\", 158114, \"2012-01-13\", 33.99, 3.263, 2514.23, 8431.82, 48.38, 186.59, 4699.39, 130.244, 9.652999999999999, false, 19, -9.97, false], [34, \"A\", 158114, \"2012-01-20\", 39.28, 3.273, 1358.95, 3015.89, 27.49, 255.88, 2402.57, 130.27922579999998, 9.652999999999999, false, 47, -118.0, false], [34, \"A\", 158114, \"2012-07-06\", 77.95, 3.187, 6438.2, 174.8, 103.13, 2529.03, 3839.19, 130.7196333, 9.285, false, 47, -168.0, false], [34, \"A\", 158114, \"2012-07-20\", 77.7, 3.263, 2732.08, 98.0, 5.98, 743.47, 2456.79, 130.70129029999998, 9.285, false, 47, -168.0, false], [34, \"A\", 158114, \"2012-09-28\", 67.06, 3.6660000000000004, 2282.47, 3.82, 0.22, 198.21, 2618.07, 131.043, 9.285, false, 47, -168.0, false], [35, \"B\", 103681, \"2011-11-11\", 49.69, 3.53, 22242.79, 13392.67, 1134.49, 2951.74, 5421.27, 140.4111613, 8.745, false, 77, -10.04, false], [35, \"B\", 103681, \"2011-11-11\", 49.69, 3.53, 22242.79, 13392.67, 1134.49, 2951.74, 5421.27, 140.4111613, 8.745, false, 94, -2.51, false], [35, \"B\", 103681, \"2011-12-09\", 46.28, 3.415, 1386.01, 0.0, 529.1, 955.48, 9427.75, 140.4397857, 8.745, false, 49, -3.15, false], [35, \"B\", 103681, \"2011-12-09\", 46.28, 3.415, 1386.01, 0.0, 529.1, 955.48, 9427.75, 140.4397857, 8.745, false, 54, -61.04, false], [35, \"B\", 103681, \"2011-12-16\", 40.68, 3.4130000000000003, 5115.93, 0.27, 10748.31, 601.89, 14608.23, 140.4700795, 8.745, false, 19, -4.18, false], [35, \"B\", 103681, \"2011-12-23\", 41.59, 3.389, 318.61, 22.4, 1429.48, 20.98, 4140.36, 140.528765, 8.745, false, 47, -115.0, false], [35, \"B\", 103681, \"2011-12-30\", 37.85, 3.389, 6742.63, 34766.99, 163.27, 961.0, 2074.13, 140.5874505, 8.745, true, 47, -28.5, false], [35, \"B\", 103681, \"2011-12-30\", 37.85, 3.389, 6742.63, 34766.99, 163.27, 961.0, 2074.13, 140.5874505, 8.745, true, 96, -4.2, false], [35, \"B\", 103681, \"2012-01-20\", 30.35, 3.533, 2498.37, 4413.52, 5.46, 618.55, 2393.77, 140.8086118, 8.744, false, 19, -15.94, false], [35, \"B\", 103681, \"2012-01-20\", 30.35, 3.533, 2498.37, 4413.52, 5.46, 618.55, 2393.77, 140.8086118, 8.744, false, 49, -326.61, false], [35, \"B\", 103681, \"2012-01-27\", 36.96, 3.5669999999999997, 2798.44, 2928.52, 1.46, 446.0, 9008.25, 140.9124021, 8.744, false, 54, -29.0, false], [35, \"B\", 103681, \"2012-01-27\", 36.96, 3.5669999999999997, 2798.44, 2928.52, 1.46, 446.0, 9008.25, 140.9124021, 8.744, false, 94, -4.48, false], [35, \"B\", 103681, \"2012-02-03\", 42.52, 3.617, 62567.6, 3718.52, 41.68, 40201.38, 4130.12, 141.01619240000002, 8.744, false, 94, -0.96, false], [35, \"B\", 103681, \"2012-02-17\", 37.24, 3.695, 20207.59, 7982.96, 2.64, 9522.98, 10733.96, 141.21403569999998, 8.744, false, 19, -2.97, false], [35, \"B\", 103681, \"2012-02-17\", 37.24, 3.695, 20207.59, 7982.96, 2.64, 9522.98, 10733.96, 141.21403569999998, 8.744, false, 47, -48.5, false], [35, \"B\", 103681, \"2012-02-17\", 37.24, 3.695, 20207.59, 7982.96, 2.64, 9522.98, 10733.96, 141.21403569999998, 8.744, false, 77, -2.34, false], [35, \"B\", 103681, \"2012-02-17\", 37.24, 3.695, 20207.59, 7982.96, 2.64, 9522.98, 10733.96, 141.21403569999998, 8.744, false, 96, -1.35, false], [35, \"B\", 103681, \"2012-03-09\", 44.32, 3.8480000000000003, 16514.65, 344.55, 68.3, 2596.73, 2245.26, 141.4742857, 8.744, false, 59, -11.26, false], [35, \"B\", 103681, \"2012-03-16\", 49.6, 3.862, 6972.24, 222.12, 1.2, 1587.92, 2214.43, 141.55478, 8.744, false, 54, -20.92, false], [35, \"B\", 103681, \"2012-03-16\", 49.6, 3.862, 6972.24, 222.12, 1.2, 1587.92, 2214.43, 141.55478, 8.744, false, 80, -33.43, false], [35, \"B\", 103681, \"2012-04-06\", 48.73, 3.9960000000000004, 9093.04, 0.0, 10.27, 2383.68, 4858.77, 141.7712396, 8.876, false, 80, -63.32, false], [35, \"B\", 103681, \"2012-04-13\", 52.22, 4.044, 4697.48, 4222.33, 10.5, 1903.35, 1156.1, 141.8433929, 8.876, false, 54, -54.92, false], [35, \"B\", 103681, \"2012-04-13\", 52.22, 4.044, 4697.48, 4222.33, 10.5, 1903.35, 1156.1, 141.8433929, 8.876, false, 80, -44.3, false], [35, \"B\", 103681, \"2012-04-20\", 62.62, 4.027, 2095.31, 4447.75, 6.05, 149.91, 2504.7, 141.90152619999998, 8.876, false, 47, -17.95, false], [35, \"B\", 103681, \"2012-04-20\", 62.62, 4.027, 2095.31, 4447.75, 6.05, 149.91, 2504.7, 141.90152619999998, 8.876, false, 59, -12.97, false], [35, \"B\", 103681, \"2012-04-27\", 52.33, 4.004, 6477.02, 1050.49, 7.43, 1123.9, 1681.46, 141.9596595, 8.876, false, 47, -21.2, false], [35, \"B\", 103681, \"2012-04-27\", 52.33, 4.004, 6477.02, 1050.49, 7.43, 1123.9, 1681.46, 141.9596595, 8.876, false, 80, -173.42, false], [35, \"B\", 103681, \"2012-04-27\", 52.33, 4.004, 6477.02, 1050.49, 7.43, 1123.9, 1681.46, 141.9596595, 8.876, false, 94, -10.47, false], [35, \"B\", 103681, \"2012-05-04\", 53.68, 3.951, 13647.64, 0.0, 9.87, 6114.76, 4853.52, 142.0177929, 8.876, false, 18, -22.22, false], [35, \"B\", 103681, \"2012-05-04\", 53.68, 3.951, 13647.64, 0.0, 9.87, 6114.76, 4853.52, 142.0177929, 8.876, false, 59, -15.0, false], [35, \"B\", 103681, \"2012-05-04\", 53.68, 3.951, 13647.64, 0.0, 9.87, 6114.76, 4853.52, 142.0177929, 8.876, false, 80, -43.95, false], [35, \"B\", 103681, \"2012-05-11\", 58.97, 3.889, 12297.04, 0.0, 10.76, 1040.0, 2355.67, 142.0759262, 8.876, false, 18, -5.94, false], [35, \"B\", 103681, \"2012-05-11\", 58.97, 3.889, 12297.04, 0.0, 10.76, 1040.0, 2355.67, 142.0759262, 8.876, false, 80, -15.08, false], [35, \"B\", 103681, \"2012-05-18\", 65.15, 3.8480000000000003, 8475.44, 0.0, 2.87, 2133.81, 2904.46, 142.0970115, 8.876, false, 80, -173.0, false], [35, \"B\", 103681, \"2012-05-25\", 64.77, 3.798, 8708.2, 0.0, 296.24, 1676.8, 2399.15, 142.10327759999998, 8.876, false, 18, -7.83, false], [35, \"B\", 103681, \"2012-05-25\", 64.77, 3.798, 8708.2, 0.0, 296.24, 1676.8, 2399.15, 142.10327759999998, 8.876, false, 47, -68.0, false], [35, \"B\", 103681, \"2012-05-25\", 64.77, 3.798, 8708.2, 0.0, 296.24, 1676.8, 2399.15, 142.10327759999998, 8.876, false, 49, -12.03, false], [35, \"B\", 103681, \"2012-05-25\", 64.77, 3.798, 8708.2, 0.0, 296.24, 1676.8, 2399.15, 142.10327759999998, 8.876, false, 59, -2.5, false], [35, \"B\", 103681, \"2012-06-01\", 73.4, 3.742, 12469.08, 0.0, 9.66, 3040.28, 5859.48, 142.1095438, 8.876, false, 47, -25.0, false], [35, \"B\", 103681, \"2012-06-08\", 64.05, 3.6889999999999996, 6984.56, 44.0, 287.97, 851.39, 5482.29, 142.11580990000002, 8.876, false, 18, -1.94, false], [35, \"B\", 103681, \"2012-06-08\", 64.05, 3.6889999999999996, 6984.56, 44.0, 287.97, 851.39, 5482.29, 142.11580990000002, 8.876, false, 49, -2.91, false], [35, \"B\", 103681, \"2012-06-15\", 69.52, 3.62, 4983.83, 6.8, 1.04, 2545.67, 1991.41, 142.1292548, 8.876, false, 18, -25.03, false], [35, \"B\", 103681, \"2012-06-15\", 69.52, 3.62, 4983.83, 6.8, 1.04, 2545.67, 1991.41, 142.1292548, 8.876, false, 49, -3.47, false], [35, \"B\", 103681, \"2012-06-15\", 69.52, 3.62, 4983.83, 6.8, 1.04, 2545.67, 1991.41, 142.1292548, 8.876, false, 59, -2.66, false], [35, \"B\", 103681, \"2012-06-22\", 73.23, 3.5639999999999996, 5984.0, 32.8, 0.57, 528.54, 2636.77, 142.16064640000002, 8.876, false, 47, -29.0, false], [35, \"B\", 103681, \"2012-06-22\", 73.23, 3.5639999999999996, 5984.0, 32.8, 0.57, 528.54, 2636.77, 142.16064640000002, 8.876, false, 59, -6.0, false], [35, \"B\", 103681, \"2012-06-29\", 73.94, 3.5060000000000002, 11690.61, -7.6, 0.0, 3457.25, 5129.74, 142.19203810000002, 8.876, false, 49, -24.0, false], [35, \"B\", 103681, \"2012-06-29\", 73.94, 3.5060000000000002, 11690.61, -7.6, 0.0, 3457.25, 5129.74, 142.19203810000002, 8.876, false, 80, -71.74, false], [35, \"B\", 103681, \"2012-07-06\", 82.08, 3.475, 7808.9, 7.0, 47.5, 6948.28, 6443.45, 142.22342980000002, 8.839, false, 47, -118.0, false], [35, \"B\", 103681, \"2012-07-06\", 82.08, 3.475, 7808.9, 7.0, 47.5, 6948.28, 6443.45, 142.22342980000002, 8.839, false, 49, -23.88, false], [35, \"B\", 103681, \"2012-07-06\", 82.08, 3.475, 7808.9, 7.0, 47.5, 6948.28, 6443.45, 142.22342980000002, 8.839, false, 80, -182.26, false], [35, \"B\", 103681, \"2012-07-13\", 78.95, 3.523, 3516.15, 0.0, 0.15, 1749.8, 1430.23, 142.25482140000003, 8.839, false, 80, -454.42, false], [35, \"B\", 103681, \"2012-07-20\", 78.64, 3.5669999999999997, 3934.52, 0.0, 25.9, 934.49, 3512.52, 142.2337569, 8.839, false, 80, -5.1, false], [35, \"B\", 103681, \"2012-07-27\", 76.01, 3.647, 5446.22, 0.0, 10.88, 6221.18, 2764.62, 142.2126924, 8.839, false, 80, -107.72, false], [35, \"B\", 103681, \"2012-08-24\", 72.93, 3.8339999999999996, 5726.77, 0.0, 57.08, 5332.71, 4133.91, 142.31059330000002, 8.839, false, 16, -771.9, false], [35, \"B\", 103681, \"2012-08-31\", 75.0, 3.867, 17617.15, 0.0, 94.08, 6324.67, 3173.73, 142.4054482, 8.839, false, 80, -57.76, false], [35, \"B\", 103681, \"2012-08-31\", 75.0, 3.867, 17617.15, 0.0, 94.08, 6324.67, 3173.73, 142.4054482, 8.839, false, 94, -0.63, false], [35, \"B\", 103681, \"2012-09-07\", 76.0, 3.911, 11678.32, 0.0, 53.35, 1976.76, 8415.89, 142.500303, 8.839, true, 49, -9.44, false], [35, \"B\", 103681, \"2012-09-14\", 68.72, 3.948, 8915.4, 0.0, 16.27, 1564.94, 7400.92, 142.59388330000002, 8.839, false, 80, -162.44, false], [35, \"B\", 103681, \"2012-09-21\", 66.1, 4.038, 6982.1, 87.37, 6.0, 2085.94, 9129.21, 142.6798167, 8.839, false, 16, -244.17, false], [35, \"B\", 103681, \"2012-09-21\", 66.1, 4.038, 6982.1, 87.37, 6.0, 2085.94, 9129.21, 142.6798167, 8.839, false, 80, -43.96, false], [35, \"B\", 103681, \"2012-10-05\", 64.5, 3.985, 6855.08, 0.0, 3.66, 2468.47, 2737.33, 142.85168330000002, 8.665, false, 16, -3.82, false], [35, \"B\", 103681, \"2012-10-05\", 64.5, 3.985, 6855.08, 0.0, 3.66, 2468.47, 2737.33, 142.85168330000002, 8.665, false, 47, -289.0, false], [35, \"B\", 103681, \"2012-10-12\", 55.4, 4.0, 1524.37, 0.0, 5.33, 558.26, 6097.45, 142.93761669999998, 8.665, false, 19, -15.44, false], [35, \"B\", 103681, \"2012-10-12\", 55.4, 4.0, 1524.37, 0.0, 5.33, 558.26, 6097.45, 142.93761669999998, 8.665, false, 59, -0.79, false], [35, \"B\", 103681, \"2012-10-12\", 55.4, 4.0, 1524.37, 0.0, 5.33, 558.26, 6097.45, 142.93761669999998, 8.665, false, 80, -20.38, false], [35, \"B\", 103681, \"2012-10-26\", 58.99, 3.8819999999999997, 6221.06, 42.48, 103.0, 273.9, 996.79, 142.76241130000002, 8.665, false, 80, -16.51, false], [36, \"A\", 39910, \"2011-11-18\", 66.28, 3.26, 5.64, 19.82, 0.0, 0.0, 578.02, 216.9395861, 7.716, false, 9, -49.88, false], [36, \"A\", 39910, \"2012-03-09\", 63.19, 3.647, 258.89, 1.5, 0.99, 0.0, 1835.63, 219.74373140000003, 7.244, false, 34, -5.88, false], [36, \"A\", 39910, \"2012-04-06\", 73.95, 3.9339999999999997, 375.2, 0.0, 0.0, 12.41, 1398.67, 220.1204125, 6.989, false, 33, -4.5, false], [36, \"A\", 39910, \"2012-04-13\", 72.54, 3.9189999999999996, 85.47, 651.77, 0.0, 0.0, 487.07, 220.1953389, 6.989, false, 72, -199.95, false], [36, \"A\", 39910, \"2012-04-27\", 70.06, 3.888, 252.98, 36.03, 0.0, 0.0, 6621.24, 220.3014485, 6.989, false, 72, -19.96, false], [36, \"A\", 39910, \"2012-05-11\", 76.55, 3.764, 475.61, 0.0, 0.0, 0.0, 818.06, 220.4075581, 6.989, false, 22, -74.88, false], [36, \"A\", 39910, \"2012-05-11\", 76.55, 3.764, 475.61, 0.0, 0.0, 0.0, 818.06, 220.4075581, 6.989, false, 33, -11.97, false], [36, \"A\", 39910, \"2012-05-11\", 76.55, 3.764, 475.61, 0.0, 0.0, 0.0, 818.06, 220.4075581, 6.989, false, 36, -30.0, false], [36, \"A\", 39910, \"2012-05-11\", 76.55, 3.764, 475.61, 0.0, 0.0, 0.0, 818.06, 220.4075581, 6.989, false, 72, -40.0, false], [36, \"A\", 39910, \"2012-05-25\", 78.94, 3.636, 517.28, 0.0, 0.0, 0.92, 1767.58, 220.4287124, 6.989, false, 23, -23.92, false], [36, \"A\", 39910, \"2012-06-08\", 81.5, 3.513, 226.87, 0.0, 0.0, 5.0, 597.68, 220.43570730000002, 6.989, false, 72, -19.88, false], [36, \"A\", 39910, \"2012-07-06\", 81.52, 3.2319999999999998, 249.73, 0.0, 0.04, 0.0, 659.16, 220.567112, 6.622999999999999, false, 72, -24.0, false], [36, \"A\", 39910, \"2012-07-13\", 78.15, 3.245, 769.5, 0.0, 0.01, 0.0, 1530.69, 220.6063444, 6.622999999999999, false, 44, -19.42, false], [36, \"A\", 39910, \"2012-08-10\", 84.41, 3.49, 25.14, 0.0, 0.0, 1.98, 1638.93, 220.6404663, 6.622999999999999, false, 44, -4.77, false], [36, \"A\", 39910, \"2012-08-17\", 85.89, 3.571, 442.05, 0.0, 0.0, 0.0, 1381.39, 220.71996090000002, 6.622999999999999, false, 22, -419.28, false], [36, \"A\", 39910, \"2012-08-17\", 85.89, 3.571, 442.05, 0.0, 0.0, 0.0, 1381.39, 220.71996090000002, 6.622999999999999, false, 71, -29.0, false], [36, \"A\", 39910, \"2012-08-24\", 81.26, 3.574, 196.4, 0.0, 0.0, 0.0, 1012.91, 220.8526787, 6.622999999999999, false, 22, -54.97, false], [36, \"A\", 39910, \"2012-10-05\", 73.57, 3.611, 211.09, 0.0, 0.0, 0.0, 1007.44, 221.85333959999997, 6.228, false, 24, -8.97, false], [36, \"A\", 39910, \"2012-10-05\", 73.57, 3.611, 211.09, 0.0, 0.0, 0.0, 1007.44, 221.85333959999997, 6.228, false, 44, -5.0, false], [36, \"A\", 39910, \"2012-10-05\", 73.57, 3.611, 211.09, 0.0, 0.0, 0.0, 1007.44, 221.85333959999997, 6.228, false, 72, -16.88, false], [36, \"A\", 39910, \"2012-10-12\", 71.28, 3.576, 32.28, 0.0, 0.0, 0.0, 1312.73, 222.0510793, 6.228, false, 72, -10.96, false], [37, \"C\", 39910, \"2012-02-17\", 54.38, 3.51, 1173.99, 593.1, 2.86, 0.0, 1372.2, 219.11482969999997, 7.244, false, 55, -11.88, false], [37, \"C\", 39910, \"2012-04-13\", 72.54, 3.891, 303.63, 621.72, 1.9, 0.0, 2429.1, 220.1953389, 6.989, false, 24, -6.97, false], [37, \"C\", 39910, \"2012-04-27\", 70.06, 3.8139999999999996, 259.23, 0.0, 7.58, 0.0, 861.14, 220.3014485, 6.989, false, 6, -9.88, false], [37, \"C\", 39910, \"2012-07-27\", 84.0, 3.407, 22.21, 0.0, 0.93, 0.0, 705.33, 220.6234054, 6.622999999999999, false, 44, -6.94, false], [38, \"C\", 39690, \"2012-06-22\", 91.61, 4.013999999999999, 576.0, 0.0, 0.0, 0.0, 2241.95, 130.7929, 11.627, false, 24, -10.47, false], [38, \"C\", 39690, \"2012-08-10\", 95.91, 3.8110000000000004, 193.46, 0.0, 4.78, 45.18, 1781.51, 130.7561613, 10.925999999999998, false, 33, -5.97, false], [38, \"C\", 39690, \"2012-09-28\", 81.22, 3.966, 201.62, 0.0, 0.0, 29.21, 802.5, 131.043, 10.925999999999998, false, 44, -1.5, false], [39, \"A\", 184109, \"2011-11-18\", 66.09, 3.3080000000000003, 3378.96, 215.22, 162.51, 486.32, 6941.94, 216.9395861, 7.716, false, 19, -12.97, false], [39, \"A\", 184109, \"2011-12-09\", 49.36, 3.158, 4462.95, 0.0, 292.36, 1354.79, 22649.7, 217.6645878, 7.716, false, 47, -14.4, false], [39, \"A\", 184109, \"2011-12-09\", 49.36, 3.158, 4462.95, 0.0, 292.36, 1354.79, 22649.7, 217.6645878, 7.716, false, 77, -159.0, false], [39, \"A\", 184109, \"2012-01-20\", 58.04, 3.2680000000000002, 919.82, 4005.7, 90.56, 525.75, 1798.51, 218.6755292, 7.244, false, 47, -19.0, false], [39, \"A\", 184109, \"2012-02-10\", 52.89, 3.409, 6997.37, 1891.53, 115.26, 7093.82, 9198.59, 218.95510019999998, 7.244, true, 54, -14.88, false], [39, \"A\", 184109, \"2012-03-09\", 61.64, 3.6689999999999996, 5772.82, 286.18, 3.57, 735.05, 28766.27, 219.74373140000003, 7.244, false, 19, -59.76, false], [39, \"A\", 184109, \"2012-04-13\", 71.59, 3.891, 5032.34, 3521.71, 15.9, 1241.57, 10538.44, 220.1953389, 6.989, false, 19, -22.41, false], [39, \"A\", 184109, \"2012-04-27\", 69.11, 3.8139999999999996, 5821.79, 0.0, -0.2, 164.58, 8663.37, 220.3014485, 6.989, false, 19, -4.97, false], [39, \"A\", 184109, \"2012-06-08\", 81.12, 3.452, 9356.4, 351.8, 0.24, 1857.12, 11870.68, 220.43570730000002, 6.989, false, 18, -3.6, false], [39, \"A\", 184109, \"2012-07-06\", 81.05, 3.227, 11507.92, 254.4, 90.79, 5163.63, 108519.28, 220.567112, 6.622999999999999, false, 19, -8.44, false], [39, \"A\", 184109, \"2012-07-20\", 80.32, 3.3110000000000004, 6182.24, 246.4, 31.54, 5087.21, 63005.58, 220.6148749, 6.622999999999999, false, 18, -0.72, false], [39, \"A\", 184109, \"2012-08-10\", 83.47, 3.4939999999999998, 13884.35, 122.0, 112.9, 4259.15, 10223.2, 220.6404663, 6.622999999999999, false, 54, -5.88, false], [39, \"A\", 184109, \"2012-10-12\", 69.88, 3.6010000000000004, 2360.14, 0.0, 22.59, 579.21, 15387.94, 222.0510793, 6.228, false, 19, -14.38, false], [40, \"A\", 155083, \"2011-12-16\", 29.53, 3.445, 3067.81, 0.0, 383.98, 409.64, 2938.11, 136.53351609999999, 4.42, false, 54, -8.92, false], [40, \"A\", 155083, \"2012-04-06\", 36.54, 3.957, 9295.46, 0.0, 43.35, 1876.1, 6042.42, 137.79709680000002, 4.125, false, 54, -28.92, false], [40, \"A\", 155083, \"2012-05-11\", 52.06, 3.947, 7071.55, 0.0, 408.25, 1175.76, 4204.96, 138.0882667, 4.125, false, 18, -0.4, false], [40, \"A\", 155083, \"2012-09-21\", 54.12, 4.056, 3688.63, 7.64, 0.0, 693.23, 4870.36, 138.6534, 4.156000000000001, false, 47, -34.98, false], [41, \"A\", 196321, \"2012-01-06\", 37.21, 3.095, 6453.63, 22866.83, 126.87, 2582.41, 4266.94, 196.5458309, 6.5889999999999995, false, 47, -28.92, false], [41, \"A\", 196321, \"2012-01-13\", 27.49, 3.077, 1934.8, 14627.46, 112.2, 542.89, 4044.44, 196.7330517, 6.5889999999999995, false, 47, -68.0, false], [41, \"A\", 196321, \"2012-01-27\", 33.15, 3.0380000000000003, 2464.6, 2126.51, 112.01, 129.54, 817.31, 196.8262786, 6.5889999999999995, false, 77, -8.44, false], [41, \"A\", 196321, \"2012-05-04\", 52.86, 3.903, 10188.76, 0.0, 308.08, 5903.45, 2996.97, 197.6063534, 6.547000000000001, false, 18, -2.26, false], [41, \"A\", 196321, \"2012-05-18\", 55.24, 3.8369999999999997, 6415.86, 0.0, 179.28, 998.25, 2976.99, 197.5553137, 6.547000000000001, false, 47, -279.0, false], [41, \"A\", 196321, \"2012-06-08\", 65.11, 3.741, 10245.25, 527.4, 78.07, 749.73, 5117.87, 197.65518630000003, 6.547000000000001, false, 18, -2.97, false], [41, \"A\", 196321, \"2012-09-07\", 67.41, 3.596, 10220.45, 22.8, 145.19, 4361.36, 3187.05, 198.09504840000002, 6.432, true, 51, -176.4, false], [42, \"C\", 39690, \"2011-11-25\", 60.68, 3.76, 25.8, 0.0, 4.7, 0.0, 1932.72, 129.8364, 7.874, true, 72, -169.98, false], [42, \"C\", 39690, \"2011-12-30\", 48.92, 3.428, 242.41, 1447.26, 3.64, 183.96, 459.06, 130.07103229999998, 7.874, true, 72, -19.99, false], [42, \"C\", 39690, \"2012-01-13\", 51.0, 3.477, 1251.87, 2536.15, 21.1, 0.0, 515.26, 130.244, 7.545, false, 55, -9.0, false], [42, \"C\", 39690, \"2012-02-24\", 56.02, 3.95, 353.39, 232.44, 0.0, 0.0, 1644.66, 130.5502069, 7.545, false, 72, -149.88, false], [42, \"C\", 39690, \"2012-03-09\", 57.65, 3.963, 392.63, 1.0, 3.43, 2.8, 798.38, 130.7413793, 7.545, false, 72, -299.0, false], [42, \"C\", 39690, \"2012-03-23\", 56.54, 4.288, 2.43, 0.0, 0.68, 0.0, 796.25, 130.8966452, 7.545, false, 72, -10.0, false], [42, \"C\", 39690, \"2012-04-06\", 65.99, 4.282, 2.12, 0.0, 34.23, 0.0, 250.62, 131.03754840000002, 7.382000000000001, false, 22, -17.88, false], [42, \"C\", 39690, \"2012-04-13\", 70.28, 4.254, 146.91, 848.67, 14.51, 0.0, 1191.9, 131.108, 7.382000000000001, false, 52, -1.84, false], [42, \"C\", 39690, \"2012-05-11\", 76.03, 4.186, 312.29, 0.0, 4.0, 0.0, 1445.4, 131.14533329999998, 7.382000000000001, false, 72, -79.98, false], [42, \"C\", 39690, \"2012-05-18\", 85.19, 4.308, 354.41, 0.0, 0.0, 0.0, 1393.17, 131.0983226, 7.382000000000001, false, 71, -20.0, false], [42, \"C\", 39690, \"2012-05-18\", 85.19, 4.308, 354.41, 0.0, 0.0, 0.0, 1393.17, 131.0983226, 7.382000000000001, false, 72, -379.0, false], [42, \"C\", 39690, \"2012-06-01\", 80.06, 4.277, 609.75, 0.0, 1.1, 43.67, 726.34, 130.95922579999998, 7.382000000000001, false, 72, -37.98, false], [42, \"C\", 39690, \"2012-07-13\", 89.8, 3.7230000000000003, 769.08, 0.0, 2.36, 0.0, 2678.63, 130.683, 7.17, false, 31, -3.5, false], [42, \"C\", 39690, \"2012-08-03\", 84.76, 3.595, 0.0, 0.0, 5.97, 0.0, 628.99, 130.73787099999998, 7.17, false, 44, -7.37, false], [42, \"C\", 39690, \"2012-08-17\", 88.83, 4.002, 246.98, 0.0, 24.22, 13.23, 3098.22, 130.7909677, 7.17, false, 44, -0.6, false], [42, \"C\", 39690, \"2012-08-24\", 82.5, 4.055, 548.62, 0.0, 54.43, 57.18, 2628.1, 130.8381613, 7.17, false, 26, -6.24, false], [42, \"C\", 39690, \"2012-09-21\", 81.93, 4.125, 0.0, 0.0, 0.0, 0.0, 164.08, 131.01033329999999, 7.17, false, 72, -24.98, false], [42, \"C\", 39690, \"2012-10-12\", 76.03, 4.468, 49.38, 0.0, 10.87, 0.0, 970.72, 131.1083333, 6.943, false, 71, -199.0, false], [42, \"C\", 39690, \"2012-10-26\", 70.5, 4.301, 0.0, 0.75, 2.0, 0.0, 1034.55, 131.19309679999998, 6.943, false, 44, -2.47, false], [43, \"C\", 41062, \"2011-12-16\", 43.78, 3.159, 4.86, 0.0, 2.5, 0.0, 1070.83, 210.7365392, 10.148, false, 28, -5.5, false], [43, \"C\", 41062, \"2012-05-18\", 72.06, 3.63, 939.16, 0.0, 0.0, 0.0, 1477.98, 213.17536180000002, 9.575, false, 52, -1.23, false], [43, \"C\", 41062, \"2012-06-15\", 87.75, 3.3930000000000002, 402.48, 0.0, 0.65, 0.0, 1315.66, 213.1786952, 9.575, false, 59, -3.06, false], [44, \"C\", 39910, \"2011-12-16\", 27.85, 3.282, 29.4, 0.0, 6.75, 0.0, 1041.62, 129.8980645, 6.077999999999999, false, 9, -132.46, false], [44, \"C\", 39910, \"2012-01-20\", 32.71, 3.0469999999999997, 378.2, 22.42, 66.0, 0.0, 481.09, 130.27922579999998, 5.774, false, 6, -9.88, false], [44, \"C\", 39910, \"2012-03-30\", 53.2, 3.734, 87.86, 0.0, 0.0, 2.36, 1215.48, 130.96709679999998, 5.774, false, 33, -8.47, false], [44, \"C\", 39910, \"2012-04-06\", 48.85, 3.793, 253.38, 0.0, 11.76, 0.0, 512.25, 131.03754840000002, 5.621, false, 32, -10.0, false], [44, \"C\", 39910, \"2012-05-04\", 54.41, 3.8310000000000004, 513.1, 0.0, 8.62, 0.0, 529.55, 131.136, 5.621, false, 12, -5.59, false], [44, \"C\", 39910, \"2012-06-08\", 68.4, 3.7760000000000002, 276.3, 0.0, 31.29, 0.0, 1225.27, 130.8896774, 5.621, false, 71, -24.97, false], [44, \"C\", 39910, \"2012-07-27\", 80.42, 3.537, 30.51, 0.0, 0.0, 0.41, 1736.91, 130.7195806, 5.407, false, 55, -11.88, false], [44, \"C\", 39910, \"2012-08-03\", 81.99, 3.512, 619.96, 0.0, 1.54, 77.58, 1429.81, 130.73787099999998, 5.407, false, 55, -10.0, false], [44, \"C\", 39910, \"2012-08-03\", 81.99, 3.512, 619.96, 0.0, 1.54, 77.58, 1429.81, 130.73787099999998, 5.407, false, 71, -38.88, false], [44, \"C\", 39910, \"2012-08-10\", 81.69, 3.509, 84.25, 0.0, 6.99, 4.41, 831.23, 130.7561613, 5.407, false, 33, -2.5, false], [44, \"C\", 39910, \"2012-08-24\", 77.37, 3.582, 73.93, 0.0, 87.77, 89.76, 624.58, 130.8381613, 5.407, false, 59, -2.94, false], [44, \"C\", 39910, \"2012-09-21\", 67.96, 3.821, 57.17, 0.0, 0.0, 0.0, 854.46, 131.01033329999999, 5.407, false, 6, -12.24, false], [44, \"C\", 39910, \"2012-09-28\", 64.8, 3.821, 380.96, 0.0, 0.0, 0.0, 2022.03, 131.043, 5.407, false, 72, -55.33, false], [45, \"B\", 118221, \"2011-11-18\", 51.34, 3.53, 4240.34, 132.96, 111.71, 270.14, 7073.0, 188.1983654, 8.523, false, 47, -24.0, false], [45, \"B\", 118221, \"2011-12-02\", 50.19, 3.452, 6835.61, 120.76, 802.79, 2490.15, 17861.5, 188.5024346, 8.523, false, 54, -0.76, false], [45, \"B\", 118221, \"2011-12-16\", 39.93, 3.4130000000000003, 4631.26, 8.92, 801.34, 848.33, 2757.82, 188.79793490000003, 8.523, false, 54, -10.64, false], [45, \"B\", 118221, \"2012-02-03\", 42.96, 3.617, 35348.47, 4373.64, 21.05, 38157.91, 5908.5, 189.61222769999998, 8.424, false, 77, -23.0, false], [45, \"B\", 118221, \"2012-05-18\", 66.3, 3.8480000000000003, 6813.74, 0.0, 13.86, 936.49, 2941.55, 190.9964479, 8.567, false, 49, -3.97, false], [45, \"B\", 118221, \"2012-05-25\", 67.21, 3.798, 5370.39, 0.0, 361.22, 1287.62, 2461.81, 191.00280959999998, 8.567, false, 49, -4.97, false], [45, \"B\", 118221, \"2012-06-29\", 75.22, 3.5060000000000002, 3291.36, 425.6, 0.0, 314.88, 2255.34, 191.09924619999998, 8.567, false, 49, -34.0, false], [45, \"B\", 118221, \"2012-08-03\", 76.58, 3.654, 24853.05, 39.56, 17.96, 11142.69, 2768.32, 191.16409, 8.684, false, 49, -1.91, false], [45, \"B\", 118221, \"2012-09-14\", 67.87, 3.948, 11407.95, 0.0, 4.3, 3421.72, 5268.92, 191.69985, 8.684, false, 49, -6.83, false]], \"hoverlabel\": {\"namelength\": 0}, \"hovertemplate\": \"No_MarkDown=%{customdata[16]}<br>Weekly_Sales=%{customdata[15]}<br>Store=%{customdata[0]}<br>Type=%{customdata[1]}<br>Size=%{customdata[2]}<br>Date=%{customdata[3]}<br>Temperature=%{customdata[4]}<br>Fuel_Price=%{customdata[5]}<br>MarkDown1=%{customdata[6]}<br>MarkDown2=%{customdata[7]}<br>MarkDown3=%{customdata[8]}<br>MarkDown4=%{customdata[9]}<br>MarkDown5=%{customdata[10]}<br>CPI=%{customdata[11]}<br>Unemployment=%{customdata[12]}<br>IsHoliday=%{customdata[13]}<br>Dept=%{customdata[14]}\", \"legendgroup\": \"No_MarkDown=False\", \"marker\": {\"color\": \"#EF553B\"}, \"name\": \"No_MarkDown=False\", \"offsetgroup\": \"No_MarkDown=False\", \"orientation\": \"v\", \"points\": \"all\", \"scalegroup\": \"True\", \"showlegend\": true, \"type\": \"violin\", \"x\": [false, false, false, false, false, false, false, false, false, false, false, false, false, false, false, false, false, false, false, false, false, false, false, false, false, false, false, false, false, false, false, false, false, false, false, false, false, false, false, false, false, false, false, false, false, false, false, false, false, false, false, false, false, false, false, false, false, false, false, false, false, false, false, false, false, false, false, false, false, false, false, false, false, false, false, false, false, false, false, false, false, false, false, false, false, false, false, false, false, false, false, false, false, false, false, false, false, false, false, false, false, false, false, false, false, false, false, false, false, false, false, false, false, false, false, false, false, false, false, false, false, false, false, false, false, false, false, false, false, false, false, false, false, false, false, false, false, false, false, false, false, false, false, false, false, false, false, false, false, false, false, false, false, false, false, false, false, false, false, false, false, false, false, false, false, false, false, false, false, false, false, false, false, false, false, false, false, false, false, false, false, false, false, false, false, false, false, false, false, false, false, false, false, false, false, false, false, false, false, false, false, false, false, false, false, false, false, false, false, false, false, false, false, false, false, false, false, false, false, false, false, false, false, false, false, false, false, false, false, false, false, false, false, false, false, false, false, false, false, false, false, false, false, false, false, false, false, false, false, false, false, false, false, false, false, false, false, false, false, false, false, false, false, false, false, false, false, false, false, false, false, false, false, false, false, false, false, false, false, false, false, false, false, false, false, false, false, false, false, false, false, false, false, false, false, false, false, false, false, false, false, false, false, false, false, false, false, false, false, false, false, false, false, false, false, false, false, false, false, false, false, false, false, false, false, false, false, false, false, false, false, false, false, false, false, false, false, false, false, false, false, false, false, false, false, false, false, false, false, false, false, false, false, false, false, false, false, false, false, false, false, false, false, false, false, false, false, false, false, false, false, false, false, false, false, false, false, false, false, false, false, false, false, false, false, false, false, false, false, false, false, false, false, false, false, false, false, false, false, false, false, false, false, false, false, false, false, false, false, false, false, false, false, false, false, false, false, false, false, false, false, false, false, false, false, false, false, false, false, false, false, false, false, false, false, false, false, false, false, false, false, false, false, false, false, false, false, false, false, false, false, false, false, false, false, false, false, false, false, false, false, false, false, false, false, false, false, false, false, false, false, false, false, false, false, false, false, false, false, false, false, false, false, false], \"x0\": \" \", \"xaxis\": \"x\", \"y\": [-498.0, -198.0, -21.0, -199.0, -223.0, -1.27, -139.65, -22.5, -88.0, -4.0, -32.0, -1.97, -29.88, -28.0, -3.03, -36.0, -3.5, -12.97, -7.48, -88.0, -298.0, -0.92, -101.26, -23.85, -3.14, -5.96, -7.97, -10.68, -7.64, -197.0, -33.42, -119.0, -149.0, -1.03, -233.0, -21.63, -25.04, -0.66, -6.94, -459.0, -28.92, -12.47, -3.24, -11.48, -17.47, -389.0, -26.0, -60.0, -12.88, -1.0, -3.75, -4.98, -199.0, -8.96, -0.97, -1.21, -29.0, -4.99, -4.37, -39.24, -5.27, -39.8, -55.46, -4.94, -370.12, -1.91, -498.0, -224.0, -78.56, -12.98, -1.97, -48.0, -12.0, -11.98, -448.0, -98.0, -38.0, -23.92, -88.0, -59.5, -3.0, -158.0, -11.88, -498.0, -88.0, -4.0, -3.48, -48.0, -5.47, -548.0, -139.0, -39.97, -40.46, -0.26, -5.97, -22.92, -1.77, -1.72, -1.59, -10.0, -98.0, -59.0, -59.0, -109.0, -19.02, -109.0, -65.0, -4.99, -5.12, -2.0, -2.92, -12.0, -2.16, -18.0, -5.04, -2.5, -99.0, -45.25, -12.88, -8.0, -5.88, -7.71, -28.0, -2.96, -45.0, -2.98, -12.5, -8.0, -1699.0, -75.0, -13.92, -9.12, -58.0, -9.63, -2.5, -30.92, -400.0, -4.03, -1.18, -9.97, -19.76, -36.0, -14.0, -33.94, -259.0, -8.0, -68.0, -33.18, -1.5, -5.36, -36.16, -11.0, -9.0, -11.95, -24.82, -12.88, -63.8, -259.0, -224.0, -6.43, -1.53, -8.01, -3.0, -5.79, -2.94, -48.0, -29.4, -12.87, -0.95, -2.99, -11.51, -24.04, -649.0, -3.28, -17.0, -49.0, -12.88, -6.94, -3.02, -1.94, -649.0, -28.92, -18.0, -7.97, -22.03, -1.97, -8.44, -798.0, -3.04, -10.0, -6.47, -69.56, -11.88, -78.0, -0.97, -34.92, -0.98, -175.0, -34.0, -7.47, -8.97, -38.0, -19.9, -17.88, -44.82, -3.97, -16.0, -6.88, -24.88, -1.33, -3.12, -0.64, -1.0, -42.0, -22.97, -15.0, -106.34, -2.97, -35.76, -6.78, -124.0, -42.05, -38.88, -9.92, -58.0, -3.56, -0.56, -24.04, -78.0, -44.91, -119.0, -6.98, -259.0, -13.78, -6.72, -30.0, -1.97, -1.5, -9.0, -0.93, -109.0, -0.63, -20.59, -28.92, -5.0, -20.0, -7.5, -12.88, -28.92, -55.0, -10.0, -4.91, -2.47, -92.37, -88.08, -99.87, -1.27, -79.0, -1.23, -29.08, -279.0, -59.0, -8.27, -69.0, -7.0, -1.5, -69.88, -50.0, -39.5, -23.92, -103.06, -2.69, -15.0, -33.0, -7.97, -27.9, -5.88, -117.0, -184.32, -28.92, -12.94, -40.0, -11.68, -14.0, -178.15, -0.5, -19.0, -26.61, -6.72, -9.62, -5.97, -2.91, -18.0, -59.0, -28.92, -19.88, -58.0, -15.48, -31.97, -9.47, -224.0, -5.0, -0.75, -9.88, -5.12, -88.0, -224.0, -24.0, -1.37, -18.0, -34.92, -5.32, -18.0, -11.32, -2.0, -29.76, -9.97, -118.0, -168.0, -168.0, -168.0, -10.04, -2.51, -3.15, -61.04, -4.18, -115.0, -28.5, -4.2, -15.94, -326.61, -29.0, -4.48, -0.96, -2.97, -48.5, -2.34, -1.35, -11.26, -20.92, -33.43, -63.32, -54.92, -44.3, -17.95, -12.97, -21.2, -173.42, -10.47, -22.22, -15.0, -43.95, -5.94, -15.08, -173.0, -7.83, -68.0, -12.03, -2.5, -25.0, -1.94, -2.91, -25.03, -3.47, -2.66, -29.0, -6.0, -24.0, -71.74, -118.0, -23.88, -182.26, -454.42, -5.1, -107.72, -771.9, -57.76, -0.63, -9.44, -162.44, -244.17, -43.96, -3.82, -289.0, -15.44, -0.79, -20.38, -16.51, -49.88, -5.88, -4.5, -199.95, -19.96, -74.88, -11.97, -30.0, -40.0, -23.92, -19.88, -24.0, -19.42, -4.77, -419.28, -29.0, -54.97, -8.97, -5.0, -16.88, -10.96, -11.88, -6.97, -9.88, -6.94, -10.47, -5.97, -1.5, -12.97, -14.4, -159.0, -19.0, -14.88, -59.76, -22.41, -4.97, -3.6, -8.44, -0.72, -5.88, -14.38, -8.92, -28.92, -0.4, -34.98, -28.92, -68.0, -8.44, -2.26, -279.0, -2.97, -176.4, -169.98, -19.99, -9.0, -149.88, -299.0, -10.0, -17.88, -1.84, -79.98, -20.0, -379.0, -37.98, -3.5, -7.37, -0.6, -6.24, -24.98, -199.0, -2.47, -5.5, -1.23, -3.06, -132.46, -9.88, -8.47, -10.0, -5.59, -24.97, -11.88, -10.0, -38.88, -2.5, -2.94, -12.24, -55.33, -24.0, -0.76, -10.64, -23.0, -3.97, -4.97, -34.0, -1.91, -6.83], \"y0\": \" \", \"yaxis\": \"y\"}],\n",
              "                        {\"legend\": {\"tracegroupgap\": 0}, \"margin\": {\"t\": 60}, \"template\": {\"data\": {\"bar\": [{\"error_x\": {\"color\": \"#2a3f5f\"}, \"error_y\": {\"color\": \"#2a3f5f\"}, \"marker\": {\"line\": {\"color\": \"#E5ECF6\", \"width\": 0.5}}, \"type\": \"bar\"}], \"barpolar\": [{\"marker\": {\"line\": {\"color\": \"#E5ECF6\", \"width\": 0.5}}, \"type\": \"barpolar\"}], \"carpet\": [{\"aaxis\": {\"endlinecolor\": \"#2a3f5f\", \"gridcolor\": \"white\", \"linecolor\": \"white\", \"minorgridcolor\": \"white\", \"startlinecolor\": \"#2a3f5f\"}, \"baxis\": {\"endlinecolor\": \"#2a3f5f\", \"gridcolor\": \"white\", \"linecolor\": \"white\", \"minorgridcolor\": \"white\", \"startlinecolor\": \"#2a3f5f\"}, \"type\": \"carpet\"}], \"choropleth\": [{\"colorbar\": {\"outlinewidth\": 0, \"ticks\": \"\"}, \"type\": \"choropleth\"}], \"contour\": [{\"colorbar\": {\"outlinewidth\": 0, \"ticks\": \"\"}, \"colorscale\": [[0.0, \"#0d0887\"], [0.1111111111111111, \"#46039f\"], [0.2222222222222222, \"#7201a8\"], [0.3333333333333333, \"#9c179e\"], [0.4444444444444444, \"#bd3786\"], [0.5555555555555556, \"#d8576b\"], [0.6666666666666666, \"#ed7953\"], [0.7777777777777778, \"#fb9f3a\"], [0.8888888888888888, \"#fdca26\"], [1.0, \"#f0f921\"]], \"type\": \"contour\"}], \"contourcarpet\": [{\"colorbar\": {\"outlinewidth\": 0, \"ticks\": \"\"}, \"type\": \"contourcarpet\"}], \"heatmap\": [{\"colorbar\": {\"outlinewidth\": 0, \"ticks\": \"\"}, \"colorscale\": [[0.0, \"#0d0887\"], [0.1111111111111111, \"#46039f\"], [0.2222222222222222, \"#7201a8\"], [0.3333333333333333, \"#9c179e\"], [0.4444444444444444, \"#bd3786\"], [0.5555555555555556, \"#d8576b\"], [0.6666666666666666, \"#ed7953\"], [0.7777777777777778, \"#fb9f3a\"], [0.8888888888888888, \"#fdca26\"], [1.0, \"#f0f921\"]], \"type\": \"heatmap\"}], \"heatmapgl\": [{\"colorbar\": {\"outlinewidth\": 0, \"ticks\": \"\"}, \"colorscale\": [[0.0, \"#0d0887\"], [0.1111111111111111, \"#46039f\"], [0.2222222222222222, \"#7201a8\"], [0.3333333333333333, \"#9c179e\"], [0.4444444444444444, \"#bd3786\"], [0.5555555555555556, \"#d8576b\"], [0.6666666666666666, \"#ed7953\"], [0.7777777777777778, \"#fb9f3a\"], [0.8888888888888888, \"#fdca26\"], [1.0, \"#f0f921\"]], \"type\": \"heatmapgl\"}], \"histogram\": [{\"marker\": {\"colorbar\": {\"outlinewidth\": 0, \"ticks\": \"\"}}, \"type\": \"histogram\"}], \"histogram2d\": [{\"colorbar\": {\"outlinewidth\": 0, \"ticks\": \"\"}, \"colorscale\": [[0.0, \"#0d0887\"], [0.1111111111111111, \"#46039f\"], [0.2222222222222222, \"#7201a8\"], [0.3333333333333333, \"#9c179e\"], [0.4444444444444444, \"#bd3786\"], [0.5555555555555556, \"#d8576b\"], [0.6666666666666666, \"#ed7953\"], [0.7777777777777778, \"#fb9f3a\"], [0.8888888888888888, \"#fdca26\"], [1.0, \"#f0f921\"]], \"type\": \"histogram2d\"}], \"histogram2dcontour\": [{\"colorbar\": {\"outlinewidth\": 0, \"ticks\": \"\"}, \"colorscale\": [[0.0, \"#0d0887\"], [0.1111111111111111, \"#46039f\"], [0.2222222222222222, \"#7201a8\"], [0.3333333333333333, \"#9c179e\"], [0.4444444444444444, \"#bd3786\"], [0.5555555555555556, \"#d8576b\"], [0.6666666666666666, \"#ed7953\"], [0.7777777777777778, \"#fb9f3a\"], [0.8888888888888888, \"#fdca26\"], [1.0, \"#f0f921\"]], \"type\": \"histogram2dcontour\"}], \"mesh3d\": [{\"colorbar\": {\"outlinewidth\": 0, \"ticks\": \"\"}, \"type\": \"mesh3d\"}], \"parcoords\": [{\"line\": {\"colorbar\": {\"outlinewidth\": 0, \"ticks\": \"\"}}, \"type\": \"parcoords\"}], \"pie\": [{\"automargin\": true, \"type\": \"pie\"}], \"scatter\": [{\"marker\": {\"colorbar\": {\"outlinewidth\": 0, \"ticks\": \"\"}}, \"type\": \"scatter\"}], \"scatter3d\": [{\"line\": {\"colorbar\": {\"outlinewidth\": 0, \"ticks\": \"\"}}, \"marker\": {\"colorbar\": {\"outlinewidth\": 0, \"ticks\": \"\"}}, \"type\": \"scatter3d\"}], \"scattercarpet\": [{\"marker\": {\"colorbar\": {\"outlinewidth\": 0, \"ticks\": \"\"}}, \"type\": \"scattercarpet\"}], \"scattergeo\": [{\"marker\": {\"colorbar\": {\"outlinewidth\": 0, \"ticks\": \"\"}}, \"type\": \"scattergeo\"}], \"scattergl\": [{\"marker\": {\"colorbar\": {\"outlinewidth\": 0, \"ticks\": \"\"}}, \"type\": \"scattergl\"}], \"scattermapbox\": [{\"marker\": {\"colorbar\": {\"outlinewidth\": 0, \"ticks\": \"\"}}, \"type\": \"scattermapbox\"}], \"scatterpolar\": [{\"marker\": {\"colorbar\": {\"outlinewidth\": 0, \"ticks\": \"\"}}, \"type\": \"scatterpolar\"}], \"scatterpolargl\": [{\"marker\": {\"colorbar\": {\"outlinewidth\": 0, \"ticks\": \"\"}}, \"type\": \"scatterpolargl\"}], \"scatterternary\": [{\"marker\": {\"colorbar\": {\"outlinewidth\": 0, \"ticks\": \"\"}}, \"type\": \"scatterternary\"}], \"surface\": [{\"colorbar\": {\"outlinewidth\": 0, \"ticks\": \"\"}, \"colorscale\": [[0.0, \"#0d0887\"], [0.1111111111111111, \"#46039f\"], [0.2222222222222222, \"#7201a8\"], [0.3333333333333333, \"#9c179e\"], [0.4444444444444444, \"#bd3786\"], [0.5555555555555556, \"#d8576b\"], [0.6666666666666666, \"#ed7953\"], [0.7777777777777778, \"#fb9f3a\"], [0.8888888888888888, \"#fdca26\"], [1.0, \"#f0f921\"]], \"type\": \"surface\"}], \"table\": [{\"cells\": {\"fill\": {\"color\": \"#EBF0F8\"}, \"line\": {\"color\": \"white\"}}, \"header\": {\"fill\": {\"color\": \"#C8D4E3\"}, \"line\": {\"color\": \"white\"}}, \"type\": \"table\"}]}, \"layout\": {\"annotationdefaults\": {\"arrowcolor\": \"#2a3f5f\", \"arrowhead\": 0, \"arrowwidth\": 1}, \"coloraxis\": {\"colorbar\": {\"outlinewidth\": 0, \"ticks\": \"\"}}, \"colorscale\": {\"diverging\": [[0, \"#8e0152\"], [0.1, \"#c51b7d\"], [0.2, \"#de77ae\"], [0.3, \"#f1b6da\"], [0.4, \"#fde0ef\"], [0.5, \"#f7f7f7\"], [0.6, \"#e6f5d0\"], [0.7, \"#b8e186\"], [0.8, \"#7fbc41\"], [0.9, \"#4d9221\"], [1, \"#276419\"]], \"sequential\": [[0.0, \"#0d0887\"], [0.1111111111111111, \"#46039f\"], [0.2222222222222222, \"#7201a8\"], [0.3333333333333333, \"#9c179e\"], [0.4444444444444444, \"#bd3786\"], [0.5555555555555556, \"#d8576b\"], [0.6666666666666666, \"#ed7953\"], [0.7777777777777778, \"#fb9f3a\"], [0.8888888888888888, \"#fdca26\"], [1.0, \"#f0f921\"]], \"sequentialminus\": [[0.0, \"#0d0887\"], [0.1111111111111111, \"#46039f\"], [0.2222222222222222, \"#7201a8\"], [0.3333333333333333, \"#9c179e\"], [0.4444444444444444, \"#bd3786\"], [0.5555555555555556, \"#d8576b\"], [0.6666666666666666, \"#ed7953\"], [0.7777777777777778, \"#fb9f3a\"], [0.8888888888888888, \"#fdca26\"], [1.0, \"#f0f921\"]]}, \"colorway\": [\"#636efa\", \"#EF553B\", \"#00cc96\", \"#ab63fa\", \"#FFA15A\", \"#19d3f3\", \"#FF6692\", \"#B6E880\", \"#FF97FF\", \"#FECB52\"], \"font\": {\"color\": \"#2a3f5f\"}, \"geo\": {\"bgcolor\": \"white\", \"lakecolor\": \"white\", \"landcolor\": \"#E5ECF6\", \"showlakes\": true, \"showland\": true, \"subunitcolor\": \"white\"}, \"hoverlabel\": {\"align\": \"left\"}, \"hovermode\": \"closest\", \"mapbox\": {\"style\": \"light\"}, \"paper_bgcolor\": \"white\", \"plot_bgcolor\": \"#E5ECF6\", \"polar\": {\"angularaxis\": {\"gridcolor\": \"white\", \"linecolor\": \"white\", \"ticks\": \"\"}, \"bgcolor\": \"#E5ECF6\", \"radialaxis\": {\"gridcolor\": \"white\", \"linecolor\": \"white\", \"ticks\": \"\"}}, \"scene\": {\"xaxis\": {\"backgroundcolor\": \"#E5ECF6\", \"gridcolor\": \"white\", \"gridwidth\": 2, \"linecolor\": \"white\", \"showbackground\": true, \"ticks\": \"\", \"zerolinecolor\": \"white\"}, \"yaxis\": {\"backgroundcolor\": \"#E5ECF6\", \"gridcolor\": \"white\", \"gridwidth\": 2, \"linecolor\": \"white\", \"showbackground\": true, \"ticks\": \"\", \"zerolinecolor\": \"white\"}, \"zaxis\": {\"backgroundcolor\": \"#E5ECF6\", \"gridcolor\": \"white\", \"gridwidth\": 2, \"linecolor\": \"white\", \"showbackground\": true, \"ticks\": \"\", \"zerolinecolor\": \"white\"}}, \"shapedefaults\": {\"line\": {\"color\": \"#2a3f5f\"}}, \"ternary\": {\"aaxis\": {\"gridcolor\": \"white\", \"linecolor\": \"white\", \"ticks\": \"\"}, \"baxis\": {\"gridcolor\": \"white\", \"linecolor\": \"white\", \"ticks\": \"\"}, \"bgcolor\": \"#E5ECF6\", \"caxis\": {\"gridcolor\": \"white\", \"linecolor\": \"white\", \"ticks\": \"\"}}, \"title\": {\"x\": 0.05}, \"xaxis\": {\"automargin\": true, \"gridcolor\": \"white\", \"linecolor\": \"white\", \"ticks\": \"\", \"title\": {\"standoff\": 15}, \"zerolinecolor\": \"white\", \"zerolinewidth\": 2}, \"yaxis\": {\"automargin\": true, \"gridcolor\": \"white\", \"linecolor\": \"white\", \"ticks\": \"\", \"title\": {\"standoff\": 15}, \"zerolinecolor\": \"white\", \"zerolinewidth\": 2}}}, \"violinmode\": \"group\", \"xaxis\": {\"anchor\": \"y\", \"categoryarray\": [true, false], \"categoryorder\": \"array\", \"domain\": [0.0, 1.0], \"title\": {\"text\": \"No_MarkDown\"}}, \"yaxis\": {\"anchor\": \"x\", \"domain\": [0.0, 1.0], \"title\": {\"text\": \"Weekly_Sales\"}}},\n",
              "                        {\"responsive\": true}\n",
              "                    ).then(function(){\n",
              "                            \n",
              "var gd = document.getElementById('730edf6a-a264-4a1a-88ee-033db926314d');\n",
              "var x = new MutationObserver(function (mutations, observer) {{\n",
              "        var display = window.getComputedStyle(gd).display;\n",
              "        if (!display || display === 'none') {{\n",
              "            console.log([gd, 'removed!']);\n",
              "            Plotly.purge(gd);\n",
              "            observer.disconnect();\n",
              "        }}\n",
              "}});\n",
              "\n",
              "// Listen for the removal of the full notebook cells\n",
              "var notebookContainer = gd.closest('#notebook-container');\n",
              "if (notebookContainer) {{\n",
              "    x.observe(notebookContainer, {childList: true});\n",
              "}}\n",
              "\n",
              "// Listen for the clearing of the current output cell\n",
              "var outputEl = gd.closest('.output');\n",
              "if (outputEl) {{\n",
              "    x.observe(outputEl, {childList: true});\n",
              "}}\n",
              "\n",
              "                        })\n",
              "                };\n",
              "                \n",
              "            </script>\n",
              "        </div>\n",
              "</body>\n",
              "</html>"
            ]
          },
          "metadata": {
            "tags": []
          }
        }
      ]
    },
    {
      "cell_type": "markdown",
      "metadata": {
        "id": "7ySnZQZG18bJ"
      },
      "source": [
        "In the diagram above, large negative sales can be seen even when there was no markdown. With that, we should treat negative sales as outliers to be removed from prediction."
      ]
    },
    {
      "cell_type": "markdown",
      "metadata": {
        "id": "raOCyPIw2yRZ"
      },
      "source": [
        "## 1.5. Removing outliners"
      ]
    },
    {
      "cell_type": "markdown",
      "metadata": {
        "id": "jSfetLeo3Cpc"
      },
      "source": [
        "As explained in the EDA, we should remove records with negative sales from our dataset:"
      ]
    },
    {
      "cell_type": "code",
      "metadata": {
        "id": "hzY1unBm3YQg"
      },
      "source": [
        "df_cleaned = df_filled[df_filled['Weekly_Sales'] > 0]"
      ],
      "execution_count": null,
      "outputs": []
    },
    {
      "cell_type": "markdown",
      "metadata": {
        "id": "EjeAuNa34iBU"
      },
      "source": [
        "## 1.6. Handling non-numerical columns"
      ]
    },
    {
      "cell_type": "markdown",
      "metadata": {
        "id": "LH4YVmYRU14W"
      },
      "source": [
        "There are some columns that we need to convert into numbers before we can use them as prediction input. These columns are *Type* (store type), *IsHoliday*, and *Date*:"
      ]
    },
    {
      "cell_type": "code",
      "metadata": {
        "colab": {
          "base_uri": "https://localhost:8080/",
          "height": 224
        },
        "id": "719uk3PFcsNS",
        "outputId": "476d6c97-04de-4115-b58c-77d57b650603"
      },
      "source": [
        "# convert \"object\" to \"datetime\"\n",
        "serie_date = pd.to_datetime(df_cleaned['Date'])\n",
        "\n",
        "# transform non-numerical columns\n",
        "df_processed = pd.DataFrame({\n",
        "  # A > B > C in size (see EDA section 1.4.2)\n",
        "  'Type': df_cleaned['Type'].map({ 'A': 3, 'B': 2, 'C': 1 }),\n",
        "  'IsHoliday': df_cleaned['IsHoliday'].map({ False: 0, True: 1 }),\n",
        "  'Year': serie_date.dt.year,\n",
        "  'Month': serie_date.dt.month,\n",
        "  'Day': serie_date.dt.day\n",
        "})\n",
        "\n",
        "# merge with the other columns\n",
        "df_processed = pd.concat([df_processed, df_cleaned.drop(columns=['Type', 'IsHoliday', 'Date'])], axis=1)\n",
        "\n",
        "df_processed.head()"
      ],
      "execution_count": null,
      "outputs": [
        {
          "output_type": "execute_result",
          "data": {
            "text/html": [
              "<div>\n",
              "<style scoped>\n",
              "    .dataframe tbody tr th:only-of-type {\n",
              "        vertical-align: middle;\n",
              "    }\n",
              "\n",
              "    .dataframe tbody tr th {\n",
              "        vertical-align: top;\n",
              "    }\n",
              "\n",
              "    .dataframe thead th {\n",
              "        text-align: right;\n",
              "    }\n",
              "</style>\n",
              "<table border=\"1\" class=\"dataframe\">\n",
              "  <thead>\n",
              "    <tr style=\"text-align: right;\">\n",
              "      <th></th>\n",
              "      <th>Type</th>\n",
              "      <th>IsHoliday</th>\n",
              "      <th>Year</th>\n",
              "      <th>Month</th>\n",
              "      <th>Day</th>\n",
              "      <th>Store</th>\n",
              "      <th>Size</th>\n",
              "      <th>Temperature</th>\n",
              "      <th>Fuel_Price</th>\n",
              "      <th>MarkDown1</th>\n",
              "      <th>MarkDown2</th>\n",
              "      <th>MarkDown3</th>\n",
              "      <th>MarkDown4</th>\n",
              "      <th>MarkDown5</th>\n",
              "      <th>CPI</th>\n",
              "      <th>Unemployment</th>\n",
              "      <th>Dept</th>\n",
              "      <th>Weekly_Sales</th>\n",
              "    </tr>\n",
              "  </thead>\n",
              "  <tbody>\n",
              "    <tr>\n",
              "      <th>0</th>\n",
              "      <td>3</td>\n",
              "      <td>0</td>\n",
              "      <td>2010</td>\n",
              "      <td>2</td>\n",
              "      <td>5</td>\n",
              "      <td>1</td>\n",
              "      <td>151315</td>\n",
              "      <td>42.31</td>\n",
              "      <td>2.572</td>\n",
              "      <td>0.0</td>\n",
              "      <td>0.0</td>\n",
              "      <td>0.0</td>\n",
              "      <td>0.0</td>\n",
              "      <td>0.0</td>\n",
              "      <td>211.096358</td>\n",
              "      <td>8.106</td>\n",
              "      <td>1</td>\n",
              "      <td>24924.50</td>\n",
              "    </tr>\n",
              "    <tr>\n",
              "      <th>1</th>\n",
              "      <td>3</td>\n",
              "      <td>0</td>\n",
              "      <td>2010</td>\n",
              "      <td>2</td>\n",
              "      <td>5</td>\n",
              "      <td>1</td>\n",
              "      <td>151315</td>\n",
              "      <td>42.31</td>\n",
              "      <td>2.572</td>\n",
              "      <td>0.0</td>\n",
              "      <td>0.0</td>\n",
              "      <td>0.0</td>\n",
              "      <td>0.0</td>\n",
              "      <td>0.0</td>\n",
              "      <td>211.096358</td>\n",
              "      <td>8.106</td>\n",
              "      <td>2</td>\n",
              "      <td>50605.27</td>\n",
              "    </tr>\n",
              "    <tr>\n",
              "      <th>2</th>\n",
              "      <td>3</td>\n",
              "      <td>0</td>\n",
              "      <td>2010</td>\n",
              "      <td>2</td>\n",
              "      <td>5</td>\n",
              "      <td>1</td>\n",
              "      <td>151315</td>\n",
              "      <td>42.31</td>\n",
              "      <td>2.572</td>\n",
              "      <td>0.0</td>\n",
              "      <td>0.0</td>\n",
              "      <td>0.0</td>\n",
              "      <td>0.0</td>\n",
              "      <td>0.0</td>\n",
              "      <td>211.096358</td>\n",
              "      <td>8.106</td>\n",
              "      <td>3</td>\n",
              "      <td>13740.12</td>\n",
              "    </tr>\n",
              "    <tr>\n",
              "      <th>3</th>\n",
              "      <td>3</td>\n",
              "      <td>0</td>\n",
              "      <td>2010</td>\n",
              "      <td>2</td>\n",
              "      <td>5</td>\n",
              "      <td>1</td>\n",
              "      <td>151315</td>\n",
              "      <td>42.31</td>\n",
              "      <td>2.572</td>\n",
              "      <td>0.0</td>\n",
              "      <td>0.0</td>\n",
              "      <td>0.0</td>\n",
              "      <td>0.0</td>\n",
              "      <td>0.0</td>\n",
              "      <td>211.096358</td>\n",
              "      <td>8.106</td>\n",
              "      <td>4</td>\n",
              "      <td>39954.04</td>\n",
              "    </tr>\n",
              "    <tr>\n",
              "      <th>4</th>\n",
              "      <td>3</td>\n",
              "      <td>0</td>\n",
              "      <td>2010</td>\n",
              "      <td>2</td>\n",
              "      <td>5</td>\n",
              "      <td>1</td>\n",
              "      <td>151315</td>\n",
              "      <td>42.31</td>\n",
              "      <td>2.572</td>\n",
              "      <td>0.0</td>\n",
              "      <td>0.0</td>\n",
              "      <td>0.0</td>\n",
              "      <td>0.0</td>\n",
              "      <td>0.0</td>\n",
              "      <td>211.096358</td>\n",
              "      <td>8.106</td>\n",
              "      <td>5</td>\n",
              "      <td>32229.38</td>\n",
              "    </tr>\n",
              "  </tbody>\n",
              "</table>\n",
              "</div>"
            ],
            "text/plain": [
              "   Type  IsHoliday  Year  Month  ...         CPI  Unemployment  Dept  Weekly_Sales\n",
              "0     3          0  2010      2  ...  211.096358         8.106     1      24924.50\n",
              "1     3          0  2010      2  ...  211.096358         8.106     2      50605.27\n",
              "2     3          0  2010      2  ...  211.096358         8.106     3      13740.12\n",
              "3     3          0  2010      2  ...  211.096358         8.106     4      39954.04\n",
              "4     3          0  2010      2  ...  211.096358         8.106     5      32229.38\n",
              "\n",
              "[5 rows x 18 columns]"
            ]
          },
          "metadata": {
            "tags": []
          },
          "execution_count": 16
        }
      ]
    },
    {
      "cell_type": "markdown",
      "metadata": {
        "id": "qp1lxtAsnU_O"
      },
      "source": [
        "## 1.7. Splitting train and test data"
      ]
    },
    {
      "cell_type": "markdown",
      "metadata": {
        "id": "FWK9ZREkncAA"
      },
      "source": [
        "We put aside 20% of the data for validating and comparing the performance of the models that we will develop later:"
      ]
    },
    {
      "cell_type": "code",
      "metadata": {
        "id": "8BSyNe3PnRmD"
      },
      "source": [
        "from sklearn.model_selection import train_test_split\n",
        "\n",
        "X = df_processed.drop(columns='Weekly_Sales')\n",
        "y = df_processed['Weekly_Sales']\n",
        "X_train, X_test, y_train, y_test = train_test_split(X, y, test_size=0.2)"
      ],
      "execution_count": null,
      "outputs": []
    },
    {
      "cell_type": "markdown",
      "metadata": {
        "id": "XsBRlP-0flKY"
      },
      "source": [
        "Let's save the training and testing datasets into files so we have the freedom to train/re-train different models at any time while using the same datasets for all:"
      ]
    },
    {
      "cell_type": "code",
      "metadata": {
        "id": "SLBvo0GugDU5"
      },
      "source": [
        "wsf_save_train_dataset(X_train, y_train)\n",
        "wsf_save_test_dataset(X_test, y_test)"
      ],
      "execution_count": null,
      "outputs": []
    },
    {
      "cell_type": "markdown",
      "metadata": {
        "id": "UrIc1922o5OP"
      },
      "source": [
        "# 2. Linear Regression Models"
      ]
    },
    {
      "cell_type": "markdown",
      "metadata": {
        "id": "Axzkj8Ya_iiD"
      },
      "source": [
        "## 2.1. Lasso"
      ]
    },
    {
      "cell_type": "markdown",
      "metadata": {
        "id": "Zn2adN9OqJTW"
      },
      "source": [
        "Below we use Scikit-learn's *RandomizedSearchCV* to build several models using random combinations of parameters, then train and evaluate these models to identify the best one. "
      ]
    },
    {
      "cell_type": "code",
      "metadata": {
        "colab": {
          "base_uri": "https://localhost:8080/",
          "height": 309
        },
        "id": "bfPPJvXnqilK",
        "outputId": "3bf63c9f-e4fd-4a73-b29d-0b715bf8fc88"
      },
      "source": [
        "from sklearn.linear_model import Lasso\n",
        "\n",
        "X_train, y_train = wsf_load_train_dataset()\n",
        "\n",
        "lasso_params = {\n",
        "  # constant that multiplies the L1 term\n",
        "  'alpha': [np.float_power(10, x) for x in np.arange(-5, 5)]\n",
        "}\n",
        "\n",
        "df_lasso_train_results, lasso_best_model = wsf_find_best_model_cv(\n",
        "  Lasso(), \n",
        "  lasso_params,\n",
        "  X_train,\n",
        "  y_train\n",
        ")\n",
        "\n",
        "df_lasso_train_results"
      ],
      "execution_count": null,
      "outputs": [
        {
          "output_type": "execute_result",
          "data": {
            "text/html": [
              "<div>\n",
              "<style scoped>\n",
              "    .dataframe tbody tr th:only-of-type {\n",
              "        vertical-align: middle;\n",
              "    }\n",
              "\n",
              "    .dataframe tbody tr th {\n",
              "        vertical-align: top;\n",
              "    }\n",
              "\n",
              "    .dataframe thead th {\n",
              "        text-align: right;\n",
              "    }\n",
              "</style>\n",
              "<table border=\"1\" class=\"dataframe\">\n",
              "  <thead>\n",
              "    <tr style=\"text-align: right;\">\n",
              "      <th></th>\n",
              "      <th>mean_fit_time</th>\n",
              "      <th>std_fit_time</th>\n",
              "      <th>mean_score_time</th>\n",
              "      <th>std_score_time</th>\n",
              "      <th>param_alpha</th>\n",
              "      <th>params</th>\n",
              "      <th>split0_test_score</th>\n",
              "      <th>split1_test_score</th>\n",
              "      <th>split2_test_score</th>\n",
              "      <th>mean_test_score</th>\n",
              "      <th>std_test_score</th>\n",
              "      <th>rank_test_score</th>\n",
              "    </tr>\n",
              "  </thead>\n",
              "  <tbody>\n",
              "    <tr>\n",
              "      <th>0</th>\n",
              "      <td>2.092897</td>\n",
              "      <td>0.060845</td>\n",
              "      <td>0.019207</td>\n",
              "      <td>0.003418</td>\n",
              "      <td>0.001</td>\n",
              "      <td>{'alpha': 0.001}</td>\n",
              "      <td>0.088437</td>\n",
              "      <td>0.086796</td>\n",
              "      <td>0.087704</td>\n",
              "      <td>0.087646</td>\n",
              "      <td>0.000671</td>\n",
              "      <td>2</td>\n",
              "    </tr>\n",
              "    <tr>\n",
              "      <th>1</th>\n",
              "      <td>0.665133</td>\n",
              "      <td>0.018157</td>\n",
              "      <td>0.019421</td>\n",
              "      <td>0.004175</td>\n",
              "      <td>1000</td>\n",
              "      <td>{'alpha': 1000.0}</td>\n",
              "      <td>0.086720</td>\n",
              "      <td>0.085518</td>\n",
              "      <td>0.086158</td>\n",
              "      <td>0.086132</td>\n",
              "      <td>0.000491</td>\n",
              "      <td>4</td>\n",
              "    </tr>\n",
              "    <tr>\n",
              "      <th>2</th>\n",
              "      <td>1.666984</td>\n",
              "      <td>0.088325</td>\n",
              "      <td>0.017287</td>\n",
              "      <td>0.000597</td>\n",
              "      <td>0.1</td>\n",
              "      <td>{'alpha': 0.1}</td>\n",
              "      <td>0.088437</td>\n",
              "      <td>0.086796</td>\n",
              "      <td>0.087704</td>\n",
              "      <td>0.087646</td>\n",
              "      <td>0.000671</td>\n",
              "      <td>3</td>\n",
              "    </tr>\n",
              "    <tr>\n",
              "      <th>3</th>\n",
              "      <td>0.507535</td>\n",
              "      <td>0.002278</td>\n",
              "      <td>0.017394</td>\n",
              "      <td>0.000714</td>\n",
              "      <td>10000</td>\n",
              "      <td>{'alpha': 10000.0}</td>\n",
              "      <td>0.084186</td>\n",
              "      <td>0.083435</td>\n",
              "      <td>0.083567</td>\n",
              "      <td>0.083729</td>\n",
              "      <td>0.000327</td>\n",
              "      <td>5</td>\n",
              "    </tr>\n",
              "    <tr>\n",
              "      <th>4</th>\n",
              "      <td>1.946334</td>\n",
              "      <td>0.439466</td>\n",
              "      <td>0.014119</td>\n",
              "      <td>0.003038</td>\n",
              "      <td>0.0001</td>\n",
              "      <td>{'alpha': 0.0001}</td>\n",
              "      <td>0.088437</td>\n",
              "      <td>0.086796</td>\n",
              "      <td>0.087704</td>\n",
              "      <td>0.087646</td>\n",
              "      <td>0.000671</td>\n",
              "      <td>1</td>\n",
              "    </tr>\n",
              "  </tbody>\n",
              "</table>\n",
              "</div>"
            ],
            "text/plain": [
              "   mean_fit_time  std_fit_time  ...  std_test_score  rank_test_score\n",
              "0       2.092897      0.060845  ...        0.000671                2\n",
              "1       0.665133      0.018157  ...        0.000491                4\n",
              "2       1.666984      0.088325  ...        0.000671                3\n",
              "3       0.507535      0.002278  ...        0.000327                5\n",
              "4       1.946334      0.439466  ...        0.000671                1\n",
              "\n",
              "[5 rows x 12 columns]"
            ]
          },
          "metadata": {
            "tags": []
          },
          "execution_count": 19
        }
      ]
    },
    {
      "cell_type": "markdown",
      "metadata": {
        "id": "BNmFUWB_q046"
      },
      "source": [
        "The following chart shows the R-squared scores that we achieved during the training processs:"
      ]
    },
    {
      "cell_type": "code",
      "metadata": {
        "colab": {
          "base_uri": "https://localhost:8080/",
          "height": 268
        },
        "id": "fJWMIuSlSGlX",
        "outputId": "68c3da85-6866-4436-a431-7679978a1a4c"
      },
      "source": [
        "wsf_plot_scores_by_param(df_lasso_train_results, 'param_alpha')"
      ],
      "execution_count": null,
      "outputs": [
        {
          "output_type": "display_data",
          "data": {
            "image/png": "[encoded data removed]",
            "text/plain": [
              "<Figure size 432x288 with 1 Axes>"
            ]
          },
          "metadata": {
            "tags": []
          }
        }
      ]
    },
    {
      "cell_type": "markdown",
      "metadata": {
        "id": "5JA4OMWyqivL"
      },
      "source": [
        "Here is the best parameter(s) that we have found:"
      ]
    },
    {
      "cell_type": "code",
      "metadata": {
        "colab": {
          "base_uri": "https://localhost:8080/"
        },
        "id": "xJ5HkASRreqx",
        "outputId": "c115956c-3976-41a1-fa79-0b2f6fdceb53"
      },
      "source": [
        "df_lasso_train_results[df_lasso_train_results['rank_test_score'] == 1]['params']"
      ],
      "execution_count": null,
      "outputs": [
        {
          "output_type": "execute_result",
          "data": {
            "text/plain": [
              "4    {'alpha': 0.0001}\n",
              "Name: params, dtype: object"
            ]
          },
          "metadata": {
            "tags": []
          },
          "execution_count": 21
        }
      ]
    },
    {
      "cell_type": "markdown",
      "metadata": {
        "id": "k-fohk_6oWt1"
      },
      "source": [
        "Save training results and the best model into files so we can compare with other models later:"
      ]
    },
    {
      "cell_type": "code",
      "metadata": {
        "id": "Tjo4i_tko9JI"
      },
      "source": [
        "wsf_save_training_results(df_lasso_train_results, 'lasso')\n",
        "wsf_save_best_model(lasso_best_model, 'lasso')"
      ],
      "execution_count": null,
      "outputs": []
    },
    {
      "cell_type": "markdown",
      "metadata": {
        "id": "CZsuXErGWIcr"
      },
      "source": [
        "## 2.2. Ridge"
      ]
    },
    {
      "cell_type": "markdown",
      "metadata": {
        "id": "jShUrCqrlbx2"
      },
      "source": [
        "Below we use Scikit-learn's *RandomizedSearchCV* to build several models using random combinations of parameters, then train and evaluate these models to identify the best one. "
      ]
    },
    {
      "cell_type": "code",
      "metadata": {
        "id": "YnHeDM0yWL60",
        "colab": {
          "base_uri": "https://localhost:8080/",
          "height": 479
        },
        "outputId": "ed44c377-fd96-4d00-8c6b-aaf46ddf199f"
      },
      "source": [
        "from sklearn.linear_model import Ridge\n",
        "\n",
        "X_train, y_train = wsf_load_train_dataset()\n",
        "\n",
        "ridge_params = {\n",
        "  # constant that multiplies the L2 term\n",
        "  'alpha': [np.float_power(10, x) for x in np.arange(-5, 5)],\n",
        "  # solver to use in the computational routines\n",
        "  'solver': ['auto', 'svd', 'cholesky', 'saga']\n",
        "}\n",
        "\n",
        "df_ridge_train_results, ridge_best_model = wsf_find_best_model_cv(\n",
        "  Ridge(), \n",
        "  ridge_params,\n",
        "  X_train,\n",
        "  y_train\n",
        ")\n",
        "\n",
        "df_ridge_train_results"
      ],
      "execution_count": null,
      "outputs": [
        {
          "output_type": "execute_result",
          "data": {
            "text/html": [
              "<div>\n",
              "<style scoped>\n",
              "    .dataframe tbody tr th:only-of-type {\n",
              "        vertical-align: middle;\n",
              "    }\n",
              "\n",
              "    .dataframe tbody tr th {\n",
              "        vertical-align: top;\n",
              "    }\n",
              "\n",
              "    .dataframe thead th {\n",
              "        text-align: right;\n",
              "    }\n",
              "</style>\n",
              "<table border=\"1\" class=\"dataframe\">\n",
              "  <thead>\n",
              "    <tr style=\"text-align: right;\">\n",
              "      <th></th>\n",
              "      <th>mean_fit_time</th>\n",
              "      <th>std_fit_time</th>\n",
              "      <th>mean_score_time</th>\n",
              "      <th>std_score_time</th>\n",
              "      <th>param_solver</th>\n",
              "      <th>param_alpha</th>\n",
              "      <th>params</th>\n",
              "      <th>split0_test_score</th>\n",
              "      <th>split1_test_score</th>\n",
              "      <th>split2_test_score</th>\n",
              "      <th>mean_test_score</th>\n",
              "      <th>std_test_score</th>\n",
              "      <th>rank_test_score</th>\n",
              "    </tr>\n",
              "  </thead>\n",
              "  <tbody>\n",
              "    <tr>\n",
              "      <th>0</th>\n",
              "      <td>0.122776</td>\n",
              "      <td>0.011621</td>\n",
              "      <td>0.015736</td>\n",
              "      <td>0.002377</td>\n",
              "      <td>cholesky</td>\n",
              "      <td>1</td>\n",
              "      <td>{'solver': 'cholesky', 'alpha': 1.0}</td>\n",
              "      <td>0.088437</td>\n",
              "      <td>0.086796</td>\n",
              "      <td>0.087704</td>\n",
              "      <td>0.087646</td>\n",
              "      <td>0.000671</td>\n",
              "      <td>2</td>\n",
              "    </tr>\n",
              "    <tr>\n",
              "      <th>1</th>\n",
              "      <td>0.103727</td>\n",
              "      <td>0.005618</td>\n",
              "      <td>0.013466</td>\n",
              "      <td>0.000379</td>\n",
              "      <td>auto</td>\n",
              "      <td>1</td>\n",
              "      <td>{'solver': 'auto', 'alpha': 1.0}</td>\n",
              "      <td>0.088437</td>\n",
              "      <td>0.086796</td>\n",
              "      <td>0.087704</td>\n",
              "      <td>0.087646</td>\n",
              "      <td>0.000671</td>\n",
              "      <td>2</td>\n",
              "    </tr>\n",
              "    <tr>\n",
              "      <th>2</th>\n",
              "      <td>0.361645</td>\n",
              "      <td>0.036028</td>\n",
              "      <td>0.015169</td>\n",
              "      <td>0.001290</td>\n",
              "      <td>svd</td>\n",
              "      <td>10</td>\n",
              "      <td>{'solver': 'svd', 'alpha': 10.0}</td>\n",
              "      <td>0.088437</td>\n",
              "      <td>0.086796</td>\n",
              "      <td>0.087704</td>\n",
              "      <td>0.087646</td>\n",
              "      <td>0.000671</td>\n",
              "      <td>1</td>\n",
              "    </tr>\n",
              "    <tr>\n",
              "      <th>3</th>\n",
              "      <td>0.109316</td>\n",
              "      <td>0.004593</td>\n",
              "      <td>0.017632</td>\n",
              "      <td>0.000668</td>\n",
              "      <td>auto</td>\n",
              "      <td>0.0001</td>\n",
              "      <td>{'solver': 'auto', 'alpha': 0.0001}</td>\n",
              "      <td>0.088437</td>\n",
              "      <td>0.086796</td>\n",
              "      <td>0.087704</td>\n",
              "      <td>0.087646</td>\n",
              "      <td>0.000671</td>\n",
              "      <td>5</td>\n",
              "    </tr>\n",
              "    <tr>\n",
              "      <th>4</th>\n",
              "      <td>0.107262</td>\n",
              "      <td>0.013569</td>\n",
              "      <td>0.013360</td>\n",
              "      <td>0.002212</td>\n",
              "      <td>cholesky</td>\n",
              "      <td>0.001</td>\n",
              "      <td>{'solver': 'cholesky', 'alpha': 0.001}</td>\n",
              "      <td>0.088437</td>\n",
              "      <td>0.086796</td>\n",
              "      <td>0.087704</td>\n",
              "      <td>0.087646</td>\n",
              "      <td>0.000671</td>\n",
              "      <td>4</td>\n",
              "    </tr>\n",
              "  </tbody>\n",
              "</table>\n",
              "</div>"
            ],
            "text/plain": [
              "   mean_fit_time  std_fit_time  ...  std_test_score  rank_test_score\n",
              "0       0.122776      0.011621  ...        0.000671                2\n",
              "1       0.103727      0.005618  ...        0.000671                2\n",
              "2       0.361645      0.036028  ...        0.000671                1\n",
              "3       0.109316      0.004593  ...        0.000671                5\n",
              "4       0.107262      0.013569  ...        0.000671                4\n",
              "\n",
              "[5 rows x 13 columns]"
            ]
          },
          "metadata": {
            "tags": []
          },
          "execution_count": 28
        }
      ]
    },
    {
      "cell_type": "markdown",
      "metadata": {
        "id": "veHTMHazqnu7"
      },
      "source": [
        "The following chart shows the R-squared scores that we achieved during the training processs:"
      ]
    },
    {
      "cell_type": "code",
      "metadata": {
        "colab": {
          "base_uri": "https://localhost:8080/",
          "height": 279
        },
        "id": "4PoHN7L8mC3U",
        "outputId": "01096a97-86ce-4150-d876-ec4938ce1810"
      },
      "source": [
        "wsf_plot_scores(df_ridge_train_results)"
      ],
      "execution_count": null,
      "outputs": [
        {
          "output_type": "display_data",
          "data": {
            "image/png": "[encoded data removed]",
            "text/plain": [
              "<Figure size 432x288 with 1 Axes>"
            ]
          },
          "metadata": {
            "tags": []
          }
        }
      ]
    },
    {
      "cell_type": "markdown",
      "metadata": {
        "id": "GgYR5UuRq-Ta"
      },
      "source": [
        "Here is the best parameter(s) that we have found:"
      ]
    },
    {
      "cell_type": "code",
      "metadata": {
        "colab": {
          "base_uri": "https://localhost:8080/"
        },
        "id": "jeElNA9dsEVb",
        "outputId": "d9372642-237f-4bb4-ea1a-d0628bc675fe"
      },
      "source": [
        "df_ridge_train_results[df_ridge_train_results['rank_test_score'] == 1]['params']"
      ],
      "execution_count": null,
      "outputs": [
        {
          "output_type": "execute_result",
          "data": {
            "text/plain": [
              "2    {'solver': 'svd', 'alpha': 10.0}\n",
              "Name: params, dtype: object"
            ]
          },
          "metadata": {
            "tags": []
          },
          "execution_count": 30
        }
      ]
    },
    {
      "cell_type": "markdown",
      "metadata": {
        "id": "LJQEcxp7rFEy"
      },
      "source": [
        "Save training results and the best model into files so we can compare with other models later:"
      ]
    },
    {
      "cell_type": "code",
      "metadata": {
        "id": "RRn0uJG8rGBm"
      },
      "source": [
        "wsf_save_training_results(df_ridge_train_results, 'ridge')\n",
        "wsf_save_best_model(ridge_best_model, 'ridge')"
      ],
      "execution_count": null,
      "outputs": []
    },
    {
      "cell_type": "markdown",
      "metadata": {
        "id": "Xi0GxsPgcB0j"
      },
      "source": [
        "# 3. Tree-based Models"
      ]
    },
    {
      "cell_type": "markdown",
      "metadata": {
        "id": "cCcg7QmScaYM"
      },
      "source": [
        "## 3.1. Random Forest"
      ]
    },
    {
      "cell_type": "markdown",
      "metadata": {
        "id": "LNRUVjCIlfWI"
      },
      "source": [
        "Below we use Scikit-learn's *RandomizedSearchCV* to build several models using random combinations of parameters, then train and evaluate these models to identify the best one. "
      ]
    },
    {
      "cell_type": "code",
      "metadata": {
        "id": "4GPR3WLv5CtB",
        "colab": {
          "base_uri": "https://localhost:8080/"
        },
        "outputId": "3b1d0979-b97c-487a-e928-a938262a982e"
      },
      "source": [
        "from sklearn.ensemble import RandomForestRegressor\n",
        "\n",
        "X_train, y_train = wsf_load_train_dataset()\n",
        "\n",
        "rf_params = {\n",
        "  # Number of trees in random forest\n",
        "  'n_estimators': [2, 5, 10, 20, 40],\n",
        "  # # Number of features to consider at every split\n",
        "  # 'max_features': ['auto', 'sqrt', 'log2'],\n",
        "  # # Maximum number of levels in tree\n",
        "  # 'max_depth': [None, 10, 20, 30, 40, 50],\n",
        "  # # Minimum number of samples required to split a node\n",
        "  # 'min_samples_split': [2, 5, 10],\n",
        "  # # Minimum number of samples required at each leaf node\n",
        "  # 'min_samples_leaf': [1, 2, 4],\n",
        "  # # Method of selecting samples for training each tree\n",
        "  # 'bootstrap': [True, False]\n",
        "}\n",
        "\n",
        "df_rf_train_results, rf_best_model = wsf_find_best_model_cv(\n",
        "  RandomForestRegressor(), \n",
        "  rf_params,\n",
        "  X_train,\n",
        "  y_train\n",
        ")"
      ],
      "execution_count": null,
      "outputs": [
        {
          "output_type": "stream",
          "text": [
            "/usr/local/lib/python3.6/dist-packages/joblib/externals/loky/process_executor.py:691: UserWarning:\n",
            "\n",
            "A worker stopped while some jobs were given to the executor. This can be caused by a too short worker timeout or by a memory leak.\n",
            "\n"
          ],
          "name": "stderr"
        }
      ]
    },
    {
      "cell_type": "code",
      "metadata": {
        "id": "a2a2PPRAw6Aj",
        "colab": {
          "base_uri": "https://localhost:8080/",
          "height": 309
        },
        "outputId": "4de0d80f-4e51-473d-cddf-fb3155007e05"
      },
      "source": [
        "df_rf_train_results"
      ],
      "execution_count": null,
      "outputs": [
        {
          "output_type": "execute_result",
          "data": {
            "text/html": [
              "<div>\n",
              "<style scoped>\n",
              "    .dataframe tbody tr th:only-of-type {\n",
              "        vertical-align: middle;\n",
              "    }\n",
              "\n",
              "    .dataframe tbody tr th {\n",
              "        vertical-align: top;\n",
              "    }\n",
              "\n",
              "    .dataframe thead th {\n",
              "        text-align: right;\n",
              "    }\n",
              "</style>\n",
              "<table border=\"1\" class=\"dataframe\">\n",
              "  <thead>\n",
              "    <tr style=\"text-align: right;\">\n",
              "      <th></th>\n",
              "      <th>mean_fit_time</th>\n",
              "      <th>std_fit_time</th>\n",
              "      <th>mean_score_time</th>\n",
              "      <th>std_score_time</th>\n",
              "      <th>param_n_estimators</th>\n",
              "      <th>params</th>\n",
              "      <th>split0_test_score</th>\n",
              "      <th>split1_test_score</th>\n",
              "      <th>split2_test_score</th>\n",
              "      <th>mean_test_score</th>\n",
              "      <th>std_test_score</th>\n",
              "      <th>rank_test_score</th>\n",
              "    </tr>\n",
              "  </thead>\n",
              "  <tbody>\n",
              "    <tr>\n",
              "      <th>0</th>\n",
              "      <td>6.931169</td>\n",
              "      <td>0.065614</td>\n",
              "      <td>0.170449</td>\n",
              "      <td>0.005310</td>\n",
              "      <td>2</td>\n",
              "      <td>{'n_estimators': 2}</td>\n",
              "      <td>0.948636</td>\n",
              "      <td>0.954531</td>\n",
              "      <td>0.951758</td>\n",
              "      <td>0.951642</td>\n",
              "      <td>0.002408</td>\n",
              "      <td>5</td>\n",
              "    </tr>\n",
              "    <tr>\n",
              "      <th>1</th>\n",
              "      <td>17.089968</td>\n",
              "      <td>0.047788</td>\n",
              "      <td>0.390219</td>\n",
              "      <td>0.003855</td>\n",
              "      <td>5</td>\n",
              "      <td>{'n_estimators': 5}</td>\n",
              "      <td>0.963488</td>\n",
              "      <td>0.965578</td>\n",
              "      <td>0.962632</td>\n",
              "      <td>0.963899</td>\n",
              "      <td>0.001238</td>\n",
              "      <td>4</td>\n",
              "    </tr>\n",
              "    <tr>\n",
              "      <th>2</th>\n",
              "      <td>34.435433</td>\n",
              "      <td>0.034936</td>\n",
              "      <td>0.787704</td>\n",
              "      <td>0.022269</td>\n",
              "      <td>10</td>\n",
              "      <td>{'n_estimators': 10}</td>\n",
              "      <td>0.968433</td>\n",
              "      <td>0.968112</td>\n",
              "      <td>0.966013</td>\n",
              "      <td>0.967519</td>\n",
              "      <td>0.001073</td>\n",
              "      <td>3</td>\n",
              "    </tr>\n",
              "    <tr>\n",
              "      <th>3</th>\n",
              "      <td>69.303561</td>\n",
              "      <td>0.241911</td>\n",
              "      <td>1.570657</td>\n",
              "      <td>0.052863</td>\n",
              "      <td>20</td>\n",
              "      <td>{'n_estimators': 20}</td>\n",
              "      <td>0.969757</td>\n",
              "      <td>0.969538</td>\n",
              "      <td>0.966218</td>\n",
              "      <td>0.968505</td>\n",
              "      <td>0.001619</td>\n",
              "      <td>2</td>\n",
              "    </tr>\n",
              "    <tr>\n",
              "      <th>4</th>\n",
              "      <td>125.933733</td>\n",
              "      <td>14.578419</td>\n",
              "      <td>2.859194</td>\n",
              "      <td>0.257743</td>\n",
              "      <td>40</td>\n",
              "      <td>{'n_estimators': 40}</td>\n",
              "      <td>0.971493</td>\n",
              "      <td>0.971589</td>\n",
              "      <td>0.968038</td>\n",
              "      <td>0.970374</td>\n",
              "      <td>0.001652</td>\n",
              "      <td>1</td>\n",
              "    </tr>\n",
              "  </tbody>\n",
              "</table>\n",
              "</div>"
            ],
            "text/plain": [
              "   mean_fit_time  std_fit_time  ...  std_test_score  rank_test_score\n",
              "0       6.931169      0.065614  ...        0.002408                5\n",
              "1      17.089968      0.047788  ...        0.001238                4\n",
              "2      34.435433      0.034936  ...        0.001073                3\n",
              "3      69.303561      0.241911  ...        0.001619                2\n",
              "4     125.933733     14.578419  ...        0.001652                1\n",
              "\n",
              "[5 rows x 12 columns]"
            ]
          },
          "metadata": {
            "tags": []
          },
          "execution_count": 5
        }
      ]
    },
    {
      "cell_type": "markdown",
      "metadata": {
        "id": "TZUfZFfssRPp"
      },
      "source": [
        "The following chart shows the R-squared scores that we achieved during the training processs:"
      ]
    },
    {
      "cell_type": "code",
      "metadata": {
        "id": "7JMs2Kvnkgia",
        "colab": {
          "base_uri": "https://localhost:8080/",
          "height": 265
        },
        "outputId": "107c7bdc-f3e5-4e2b-af85-bbefefdec7d2"
      },
      "source": [
        "wsf_plot_scores_by_param(df_rf_train_results, 'param_n_estimators')"
      ],
      "execution_count": null,
      "outputs": [
        {
          "output_type": "display_data",
          "data": {
            "image/png": "[encoded data removed]",
            "text/plain": [
              "<Figure size 432x288 with 1 Axes>"
            ]
          },
          "metadata": {
            "tags": [],
            "needs_background": "light"
          }
        }
      ]
    },
    {
      "cell_type": "markdown",
      "metadata": {
        "id": "wwxe6mPFsVw3"
      },
      "source": [
        "Here is the best parameter(s) that we have found:"
      ]
    },
    {
      "cell_type": "code",
      "metadata": {
        "id": "hBT8G-lkswOD",
        "colab": {
          "base_uri": "https://localhost:8080/"
        },
        "outputId": "34dec508-2a1f-4664-8505-6354e62c0a5a"
      },
      "source": [
        "df_rf_train_results[df_rf_train_results['rank_test_score'] == 1]['params']"
      ],
      "execution_count": null,
      "outputs": [
        {
          "output_type": "execute_result",
          "data": {
            "text/plain": [
              "4    {'n_estimators': 40}\n",
              "Name: params, dtype: object"
            ]
          },
          "metadata": {
            "tags": []
          },
          "execution_count": 7
        }
      ]
    },
    {
      "cell_type": "markdown",
      "metadata": {
        "id": "litn-12gsawc"
      },
      "source": [
        "Save training results and the best model into files so we can compare with other models later:"
      ]
    },
    {
      "cell_type": "code",
      "metadata": {
        "id": "gboinCLjsf_A"
      },
      "source": [
        "wsf_save_training_results(df_rf_train_results, 'rf')\n",
        "wsf_save_best_model(rf_best_model, 'rf')"
      ],
      "execution_count": null,
      "outputs": []
    },
    {
      "cell_type": "markdown",
      "metadata": {
        "id": "GbucQaycmXrV"
      },
      "source": [
        "## 3.2. eXtreme Gradient Boosting (XGBoost)"
      ]
    },
    {
      "cell_type": "markdown",
      "metadata": {
        "id": "SgT9f0IOlh0u"
      },
      "source": [
        "Below we use Scikit-learn's *RandomizedSearchCV* to build several models using random combinations of parameters, then train and evaluate these models to identify the best one. "
      ]
    },
    {
      "cell_type": "code",
      "metadata": {
        "id": "QJ_bL8_Stgt8"
      },
      "source": [
        "from xgboost import XGBRegressor\n",
        "\n",
        "X_train, y_train = wsf_load_train_dataset()\n",
        "\n",
        "xgb_params = {\n",
        "  # Number of gradient boosted trees (number of boosting rounds)\n",
        "  'n_estimators': [50, 100, 200, 500, 800],\n",
        "  # # Maximum tree depth for base learners\n",
        "  # 'max_depth': [None, 10, 20, 30, 40, 50],\n",
        "  # # Boosting learning rate (xgb’s “eta”)\n",
        "  # 'learning_rate': [0.001, 0.01, 0.1, 1, 10],\n",
        "  # # Specify which booster to use \n",
        "  # 'booster': ['gbtree', 'gblinear', 'dart'],\n",
        "  # # Specify which tree method to use\n",
        "  # 'tree_method': ['auto', None, 'gpu_hist'],\n",
        "  # # Minimum loss reduction required to make a further partition on a leaf node of the tree\n",
        "  # 'gamma': [None, 0.001, 0.01, 0.1, 1, 10],\n",
        "  # # Minimum sum of instance weight(hessian) needed in a child\n",
        "  # 'min_child_weight': [None, 0.001, 0.01, 0.1, 1, 10],\n",
        "  # # Maximum delta step we allow each tree’s weight estimation to be\n",
        "  # 'max_delta_step': [None, 0.001, 0.01, 0.1, 1, 10],\n",
        "  # # Subsample ratio of the training instance\n",
        "  # 'subsample': [None, 0.1, 0.2, 0.3, 0.4],\n",
        "  # # Subsample ratio of columns when constructing each tree\n",
        "  # 'colsample_bytree': [None, 0.1, 0.2, 0.3, 0.4],\n",
        "  # # Subsample ratio of columns for each level\n",
        "  # 'colsample_bylevel': [None, 0.1, 0.2, 0.3, 0.4],\n",
        "  # # Subsample ratio of columns for each split\n",
        "  # 'colsample_bynode': [None, 0.1, 0.2, 0.3, 0.4],\n",
        "  # # L1 regularization term on weights\n",
        "  # 'reg_alpha': [None, 0.001, 0.01, 0.1, 1, 10],\n",
        "  # # L2 regularization term on weights\n",
        "  # 'reg_lambda': [None, 0.001, 0.01, 0.1, 1, 10]\n",
        "}\n",
        "\n",
        "df_xgb_train_results, xgb_best_model = wsf_find_best_model_cv(\n",
        "  XGBRegressor(objective='reg:squarederror'), \n",
        "  xgb_params,\n",
        "  X_train,\n",
        "  y_train\n",
        ")"
      ],
      "execution_count": null,
      "outputs": []
    },
    {
      "cell_type": "code",
      "metadata": {
        "id": "rUoDizddw-CO",
        "colab": {
          "base_uri": "https://localhost:8080/",
          "height": 309
        },
        "outputId": "71e1e123-665b-47b9-fc43-24b0a1125f02"
      },
      "source": [
        "df_xgb_train_results"
      ],
      "execution_count": null,
      "outputs": [
        {
          "output_type": "execute_result",
          "data": {
            "text/html": [
              "<div>\n",
              "<style scoped>\n",
              "    .dataframe tbody tr th:only-of-type {\n",
              "        vertical-align: middle;\n",
              "    }\n",
              "\n",
              "    .dataframe tbody tr th {\n",
              "        vertical-align: top;\n",
              "    }\n",
              "\n",
              "    .dataframe thead th {\n",
              "        text-align: right;\n",
              "    }\n",
              "</style>\n",
              "<table border=\"1\" class=\"dataframe\">\n",
              "  <thead>\n",
              "    <tr style=\"text-align: right;\">\n",
              "      <th></th>\n",
              "      <th>mean_fit_time</th>\n",
              "      <th>std_fit_time</th>\n",
              "      <th>mean_score_time</th>\n",
              "      <th>std_score_time</th>\n",
              "      <th>param_n_estimators</th>\n",
              "      <th>params</th>\n",
              "      <th>split0_test_score</th>\n",
              "      <th>split1_test_score</th>\n",
              "      <th>split2_test_score</th>\n",
              "      <th>mean_test_score</th>\n",
              "      <th>std_test_score</th>\n",
              "      <th>rank_test_score</th>\n",
              "    </tr>\n",
              "  </thead>\n",
              "  <tbody>\n",
              "    <tr>\n",
              "      <th>0</th>\n",
              "      <td>14.892265</td>\n",
              "      <td>0.077511</td>\n",
              "      <td>0.265927</td>\n",
              "      <td>0.002532</td>\n",
              "      <td>50</td>\n",
              "      <td>{'n_estimators': 50}</td>\n",
              "      <td>0.655697</td>\n",
              "      <td>0.651813</td>\n",
              "      <td>0.645881</td>\n",
              "      <td>0.651130</td>\n",
              "      <td>0.004036</td>\n",
              "      <td>5</td>\n",
              "    </tr>\n",
              "    <tr>\n",
              "      <th>1</th>\n",
              "      <td>28.907863</td>\n",
              "      <td>0.335878</td>\n",
              "      <td>0.512264</td>\n",
              "      <td>0.008808</td>\n",
              "      <td>100</td>\n",
              "      <td>{'n_estimators': 100}</td>\n",
              "      <td>0.746027</td>\n",
              "      <td>0.739154</td>\n",
              "      <td>0.737696</td>\n",
              "      <td>0.740959</td>\n",
              "      <td>0.003633</td>\n",
              "      <td>4</td>\n",
              "    </tr>\n",
              "    <tr>\n",
              "      <th>2</th>\n",
              "      <td>56.455156</td>\n",
              "      <td>0.650245</td>\n",
              "      <td>0.969518</td>\n",
              "      <td>0.008019</td>\n",
              "      <td>200</td>\n",
              "      <td>{'n_estimators': 200}</td>\n",
              "      <td>0.804393</td>\n",
              "      <td>0.797824</td>\n",
              "      <td>0.797937</td>\n",
              "      <td>0.800051</td>\n",
              "      <td>0.003070</td>\n",
              "      <td>3</td>\n",
              "    </tr>\n",
              "    <tr>\n",
              "      <th>3</th>\n",
              "      <td>141.071644</td>\n",
              "      <td>2.096274</td>\n",
              "      <td>2.395776</td>\n",
              "      <td>0.021055</td>\n",
              "      <td>500</td>\n",
              "      <td>{'n_estimators': 500}</td>\n",
              "      <td>0.851902</td>\n",
              "      <td>0.847206</td>\n",
              "      <td>0.844879</td>\n",
              "      <td>0.847996</td>\n",
              "      <td>0.002921</td>\n",
              "      <td>2</td>\n",
              "    </tr>\n",
              "    <tr>\n",
              "      <th>4</th>\n",
              "      <td>210.552821</td>\n",
              "      <td>24.250283</td>\n",
              "      <td>3.604641</td>\n",
              "      <td>0.467407</td>\n",
              "      <td>800</td>\n",
              "      <td>{'n_estimators': 800}</td>\n",
              "      <td>0.870135</td>\n",
              "      <td>0.864786</td>\n",
              "      <td>0.864099</td>\n",
              "      <td>0.866340</td>\n",
              "      <td>0.002698</td>\n",
              "      <td>1</td>\n",
              "    </tr>\n",
              "  </tbody>\n",
              "</table>\n",
              "</div>"
            ],
            "text/plain": [
              "   mean_fit_time  std_fit_time  ...  std_test_score  rank_test_score\n",
              "0      14.892265      0.077511  ...        0.004036                5\n",
              "1      28.907863      0.335878  ...        0.003633                4\n",
              "2      56.455156      0.650245  ...        0.003070                3\n",
              "3     141.071644      2.096274  ...        0.002921                2\n",
              "4     210.552821     24.250283  ...        0.002698                1\n",
              "\n",
              "[5 rows x 12 columns]"
            ]
          },
          "metadata": {
            "tags": []
          },
          "execution_count": 45
        }
      ]
    },
    {
      "cell_type": "markdown",
      "metadata": {
        "id": "4kwRbI0zsuDp"
      },
      "source": [
        "The following chart shows the R-squared scores that we achieved during the training processs:"
      ]
    },
    {
      "cell_type": "code",
      "metadata": {
        "id": "PM9KAoN_zv_0",
        "colab": {
          "base_uri": "https://localhost:8080/",
          "height": 268
        },
        "outputId": "adef56bd-fb47-4d38-9b18-40c1d31ed905"
      },
      "source": [
        "wsf_plot_scores_by_param(df_xgb_train_results, 'param_n_estimators')"
      ],
      "execution_count": null,
      "outputs": [
        {
          "output_type": "display_data",
          "data": {
            "image/png": "[encoded data removed]",
            "text/plain": [
              "<Figure size 432x288 with 1 Axes>"
            ]
          },
          "metadata": {
            "tags": []
          }
        }
      ]
    },
    {
      "cell_type": "markdown",
      "metadata": {
        "id": "xHxX36UCs1md"
      },
      "source": [
        "Here is the best parameter(s) that we have found:"
      ]
    },
    {
      "cell_type": "code",
      "metadata": {
        "id": "sltOKxjDz6GE",
        "colab": {
          "base_uri": "https://localhost:8080/"
        },
        "outputId": "2d5e4baf-5d9d-4216-deb4-20e998a7723d"
      },
      "source": [
        "df_xgb_train_results[df_xgb_train_results['rank_test_score'] == 1]['params']"
      ],
      "execution_count": null,
      "outputs": [
        {
          "output_type": "execute_result",
          "data": {
            "text/plain": [
              "4    {'n_estimators': 800}\n",
              "Name: params, dtype: object"
            ]
          },
          "metadata": {
            "tags": []
          },
          "execution_count": 47
        }
      ]
    },
    {
      "cell_type": "markdown",
      "metadata": {
        "id": "w29kXnXHs90C"
      },
      "source": [
        "Save training results and the best model into files so we can compare with other models later:"
      ]
    },
    {
      "cell_type": "code",
      "metadata": {
        "id": "dn7kaHLItCJF"
      },
      "source": [
        "wsf_save_training_results(df_xgb_train_results, 'xgb')\n",
        "wsf_save_best_model(xgb_best_model, 'xgb')"
      ],
      "execution_count": null,
      "outputs": []
    },
    {
      "cell_type": "markdown",
      "metadata": {
        "id": "UPXdlc4z7ucP"
      },
      "source": [
        "# 4. Artificial Neural Networks (ANNs)"
      ]
    },
    {
      "cell_type": "markdown",
      "metadata": {
        "id": "oPjoDRrhlpd2"
      },
      "source": [
        "Unlike the other models, we can't use *RandomizedSearchCV* to build neural networks. Below we create several ANNs, train them with k-fold cross validatioin, and determine the best one. "
      ]
    },
    {
      "cell_type": "code",
      "metadata": {
        "id": "htlXTfCqBA4p"
      },
      "source": [
        "%%capture\n",
        "\n",
        "X_train, y_train = wsf_load_train_dataset()\n",
        "ann_input_dim = X_train.shape[1]\n",
        "\n",
        "# create several ANNs for experiments\n",
        "neural_networks = [\n",
        "  wsf_create_ann([(32, 'relu'), (64, 'relu')], ann_input_dim),\n",
        "  wsf_create_ann([(32, 'relu'), (64, 'sigmoid')], ann_input_dim),\n",
        "  wsf_create_ann([(64, 'relu'), (128, 'relu'), (64, 'relu')], ann_input_dim),\n",
        "  wsf_create_ann([(64, 'relu'), (128, 'sigmoid'), (128, 'relu')], ann_input_dim),\n",
        "  wsf_create_ann([(128, 'relu'), (128, 'relu'), (128, 'sigmoid')], ann_input_dim),\n",
        "  # wsf_create_ann([(128, 'relu'), (256, 'relu')], ann_input_dim),\n",
        "  # wsf_create_ann([(128, 'relu'), (256, 'sigmoid')], ann_input_dim),\n",
        "  # wsf_create_ann([(256, 'relu'), (512, 'relu'), (256, 'relu')], ann_input_dim),\n",
        "  # wsf_create_ann([(256, 'relu'), (512, 'sigmoid'), (512, 'relu')], ann_input_dim),\n",
        "  # wsf_create_ann([(512, 'relu'), (512, 'relu'), (512, 'sigmoid')], ann_input_dim),\n",
        "]\n",
        "\n",
        "# train the ANNs using k-fold cross validation and identify the best one\n",
        "df_ann_train_results, ann_best_index = wsf_find_best_ann_cv(neural_networks, X_train, y_train, epochs=100)"
      ],
      "execution_count": null,
      "outputs": []
    },
    {
      "cell_type": "markdown",
      "metadata": {
        "id": "wuS0SmARTch7"
      },
      "source": [
        "Below is a summary of the training results:"
      ]
    },
    {
      "cell_type": "code",
      "metadata": {
        "id": "y9bzUsdIP_du",
        "colab": {
          "base_uri": "https://localhost:8080/",
          "height": 204
        },
        "outputId": "90455eba-1384-4f5e-9ee3-5a7ae5c3388b"
      },
      "source": [
        "df_ann_train_results"
      ],
      "execution_count": null,
      "outputs": [
        {
          "output_type": "execute_result",
          "data": {
            "text/html": [
              "<div>\n",
              "<style scoped>\n",
              "    .dataframe tbody tr th:only-of-type {\n",
              "        vertical-align: middle;\n",
              "    }\n",
              "\n",
              "    .dataframe tbody tr th {\n",
              "        vertical-align: top;\n",
              "    }\n",
              "\n",
              "    .dataframe thead th {\n",
              "        text-align: right;\n",
              "    }\n",
              "</style>\n",
              "<table border=\"1\" class=\"dataframe\">\n",
              "  <thead>\n",
              "    <tr style=\"text-align: right;\">\n",
              "      <th></th>\n",
              "      <th>split0_test_score</th>\n",
              "      <th>split1_test_score</th>\n",
              "      <th>split2_test_score</th>\n",
              "      <th>mean_test_score</th>\n",
              "      <th>mean_fit_time</th>\n",
              "      <th>model_id</th>\n",
              "    </tr>\n",
              "  </thead>\n",
              "  <tbody>\n",
              "    <tr>\n",
              "      <th>0</th>\n",
              "      <td>0.198639</td>\n",
              "      <td>0.184094</td>\n",
              "      <td>0.206864</td>\n",
              "      <td>0.196532</td>\n",
              "      <td>52.878859</td>\n",
              "      <td>model-0</td>\n",
              "    </tr>\n",
              "    <tr>\n",
              "      <th>1</th>\n",
              "      <td>-0.456841</td>\n",
              "      <td>-0.462455</td>\n",
              "      <td>-0.465149</td>\n",
              "      <td>-0.461482</td>\n",
              "      <td>53.587907</td>\n",
              "      <td>model-1</td>\n",
              "    </tr>\n",
              "    <tr>\n",
              "      <th>2</th>\n",
              "      <td>0.295942</td>\n",
              "      <td>0.251427</td>\n",
              "      <td>0.259613</td>\n",
              "      <td>0.268994</td>\n",
              "      <td>99.689782</td>\n",
              "      <td>model-2</td>\n",
              "    </tr>\n",
              "    <tr>\n",
              "      <th>3</th>\n",
              "      <td>-0.000106</td>\n",
              "      <td>-0.000021</td>\n",
              "      <td>-0.000065</td>\n",
              "      <td>-0.000064</td>\n",
              "      <td>31.180454</td>\n",
              "      <td>model-3</td>\n",
              "    </tr>\n",
              "    <tr>\n",
              "      <th>4</th>\n",
              "      <td>-0.416061</td>\n",
              "      <td>-0.413292</td>\n",
              "      <td>-0.415157</td>\n",
              "      <td>-0.414837</td>\n",
              "      <td>156.248499</td>\n",
              "      <td>model-4</td>\n",
              "    </tr>\n",
              "  </tbody>\n",
              "</table>\n",
              "</div>"
            ],
            "text/plain": [
              "   split0_test_score  split1_test_score  ...  mean_fit_time  model_id\n",
              "0           0.198639           0.184094  ...      52.878859   model-0\n",
              "1          -0.456841          -0.462455  ...      53.587907   model-1\n",
              "2           0.295942           0.251427  ...      99.689782   model-2\n",
              "3          -0.000106          -0.000021  ...      31.180454   model-3\n",
              "4          -0.416061          -0.413292  ...     156.248499   model-4\n",
              "\n",
              "[5 rows x 6 columns]"
            ]
          },
          "metadata": {
            "tags": []
          },
          "execution_count": 5
        }
      ]
    },
    {
      "cell_type": "markdown",
      "metadata": {
        "id": "MdrfCD4-nJue"
      },
      "source": [
        "The following chart shows the R-squared scores that we achieved during the training processs:"
      ]
    },
    {
      "cell_type": "code",
      "metadata": {
        "id": "iWZZR3oEnIiy",
        "colab": {
          "base_uri": "https://localhost:8080/",
          "height": 268
        },
        "outputId": "2b99197e-13fb-4407-c0af-739ed67a8d90"
      },
      "source": [
        "wsf_plot_scores(df_ann_train_results)"
      ],
      "execution_count": null,
      "outputs": [
        {
          "output_type": "display_data",
          "data": {
            "image/png": "[encoded data removed]",
            "text/plain": [
              "<Figure size 432x288 with 1 Axes>"
            ]
          },
          "metadata": {
            "tags": [],
            "needs_background": "light"
          }
        }
      ]
    },
    {
      "cell_type": "markdown",
      "metadata": {
        "id": "2HSx4wvkTjza"
      },
      "source": [
        "Below is the ANN with the best score:"
      ]
    },
    {
      "cell_type": "code",
      "metadata": {
        "id": "f12qnY2oSObc",
        "colab": {
          "base_uri": "https://localhost:8080/"
        },
        "outputId": "7e464450-f9af-4de6-f73a-a6da84469da4"
      },
      "source": [
        "ann_best_index"
      ],
      "execution_count": null,
      "outputs": [
        {
          "output_type": "execute_result",
          "data": {
            "text/plain": [
              "2"
            ]
          },
          "metadata": {
            "tags": []
          },
          "execution_count": 7
        }
      ]
    },
    {
      "cell_type": "code",
      "metadata": {
        "id": "JF2rRt58LJnB"
      },
      "source": [
        "%%capture\n",
        "ann_best_model = neural_networks[ann_best_index]\n",
        "wsf_train_ann(ann_best_model, X_train, y_train, epochs=200)"
      ],
      "execution_count": null,
      "outputs": []
    },
    {
      "cell_type": "markdown",
      "metadata": {
        "id": "Bs_5nm4Zta71"
      },
      "source": [
        "Save training results and the best model into files so we can compare with other models later:"
      ]
    },
    {
      "cell_type": "code",
      "metadata": {
        "id": "qqfm1GtPtiTO"
      },
      "source": [
        "wsf_save_training_results(df_ann_train_results, 'ann')\n",
        "wsf_save_best_ann(ann_best_model)"
      ],
      "execution_count": null,
      "outputs": []
    },
    {
      "cell_type": "markdown",
      "metadata": {
        "id": "qemjBcpr73jg"
      },
      "source": [
        "# 5. Model Comparison"
      ]
    },
    {
      "cell_type": "markdown",
      "metadata": {
        "id": "ct58TcUIWuMR"
      },
      "source": [
        "We are going to compare the models in 3 aspects: the fit of the models, the Weighted Mean Absolute Error (WMAE), and model training time."
      ]
    },
    {
      "cell_type": "code",
      "metadata": {
        "id": "MjHTdQCQX5F7"
      },
      "source": [
        "train_results = {\n",
        "  'Lasso': wsf_load_training_results('lasso'),\n",
        "  'Ridge': wsf_load_training_results('ridge'),\n",
        "  'Random Forest': wsf_load_training_results('rf'),\n",
        "  'XGBoost': wsf_load_training_results('xgb'),\n",
        "  'ANNs': wsf_load_training_results('ann'),\n",
        "}"
      ],
      "execution_count": null,
      "outputs": []
    },
    {
      "cell_type": "markdown",
      "metadata": {
        "id": "LmIidGtpXPH-"
      },
      "source": [
        "## 5.1. The fit of the models"
      ]
    },
    {
      "cell_type": "markdown",
      "metadata": {
        "id": "d-iIlz7LXTow"
      },
      "source": [
        "The fit of a model is determined by its R-squared score. The following diagram shows the R-squared scores of the numerous models that we have created:"
      ]
    },
    {
      "cell_type": "code",
      "metadata": {
        "id": "iUXFwitHe2JV",
        "colab": {
          "base_uri": "https://localhost:8080/",
          "height": 265
        },
        "outputId": "bccf6508-c7a9-461d-ad4d-d019b8a5e4cd"
      },
      "source": [
        "wsf_plot_train_results(train_results, 'mean_test_score')"
      ],
      "execution_count": null,
      "outputs": [
        {
          "output_type": "display_data",
          "data": {
            "image/png": "[encoded data removed]",
            "text/plain": [
              "<Figure size 432x288 with 1 Axes>"
            ]
          },
          "metadata": {
            "tags": [],
            "needs_background": "light"
          }
        }
      ]
    },
    {
      "cell_type": "markdown",
      "metadata": {
        "id": "XgsjdCPQfCw8"
      },
      "source": [
        "The diagram above shows that the tree-based models have the highest R-squared with Random Forest apparently at the top."
      ]
    },
    {
      "cell_type": "markdown",
      "metadata": {
        "id": "92WfJXtQfqyY"
      },
      "source": [
        "## 5.2. Weighted Mean Absolute Error (WMAE)"
      ]
    },
    {
      "cell_type": "markdown",
      "metadata": {
        "id": "EO1ua946hZhM"
      },
      "source": [
        "As mandated by Walmart, we need to calculate sales forecast errors for our best models using the WMAE metrics:"
      ]
    },
    {
      "cell_type": "code",
      "metadata": {
        "id": "j7gdzRnZnISC"
      },
      "source": [
        "lasso_best_model = wsf_load_best_model('lasso')\n",
        "ridge_best_model = wsf_load_best_model('ridge')\n",
        "rf_best_model = wsf_load_best_model('rf')\n",
        "xgb_best_model = wsf_load_best_model('xgb')\n",
        "ann_best_model = wsf_load_best_ann()\n",
        "\n",
        "X_test, y_test = wsf_load_test_dataset()\n",
        "\n",
        "prediction_errors = {\n",
        "  'Lasso': wsf_predict_and_eval(lasso_best_model, X_test, y_test),\n",
        "  'Ridge': wsf_predict_and_eval(ridge_best_model, X_test, y_test),\n",
        "  'Random Forest': wsf_predict_and_eval(rf_best_model, X_test, y_test),\n",
        "  'XGBoost': wsf_predict_and_eval(xgb_best_model, X_test, y_test),\n",
        "  'ANNs': wsf_predict_and_eval(ann_best_model, X_test, y_test),\n",
        "}"
      ],
      "execution_count": null,
      "outputs": []
    },
    {
      "cell_type": "markdown",
      "metadata": {
        "id": "36zN0g_Zhwq0"
      },
      "source": [
        "The following bar chart shows that *Random Forest* is also the best in terms of prediction error:"
      ]
    },
    {
      "cell_type": "code",
      "metadata": {
        "colab": {
          "base_uri": "https://localhost:8080/",
          "height": 265
        },
        "id": "DYuNhk36h40_",
        "outputId": "a47cd53b-b8fb-4786-e774-ab6fcf2a8245"
      },
      "source": [
        "wsf_plot_bar_chart(prediction_errors, 'WMAE')"
      ],
      "execution_count": null,
      "outputs": [
        {
          "output_type": "display_data",
          "data": {
            "image/png": "[encoded data removed]",
            "text/plain": [
              "<Figure size 432x288 with 1 Axes>"
            ]
          },
          "metadata": {
            "tags": [],
            "needs_background": "light"
          }
        }
      ]
    },
    {
      "cell_type": "markdown",
      "metadata": {
        "id": "NvSXk9JqfwJM"
      },
      "source": [
        "## 5.3. Training time"
      ]
    },
    {
      "cell_type": "markdown",
      "metadata": {
        "id": "1C8cbVxKhYY_"
      },
      "source": [
        "The following chart shows how the models fare against one another in terms of training time:"
      ]
    },
    {
      "cell_type": "code",
      "metadata": {
        "id": "hKlhUcMOg6Gi",
        "colab": {
          "base_uri": "https://localhost:8080/",
          "height": 265
        },
        "outputId": "0b0f45fb-847b-4b2f-e8c3-12e23086f4aa"
      },
      "source": [
        "wsf_plot_train_results(train_results, 'mean_fit_time')"
      ],
      "execution_count": null,
      "outputs": [
        {
          "output_type": "display_data",
          "data": {
            "image/png": "[encoded data removed]",
            "text/plain": [
              "<Figure size 432x288 with 1 Axes>"
            ]
          },
          "metadata": {
            "tags": [],
            "needs_background": "light"
          }
        }
      ]
    },
    {
      "cell_type": "markdown",
      "metadata": {
        "id": "qmh4XwB2iNHn"
      },
      "source": [
        "# 6. Conclusions"
      ]
    },
    {
      "cell_type": "markdown",
      "metadata": {
        "id": "MEzAHWBYiRS9"
      },
      "source": [
        "Based on the results presented in the previous sections, we can draw a few conclusions as follows:\n",
        "\n",
        "* Linear models such as Ridge and Lasso perform poorly in this particular problem, most probably because the relationship between the features and the output is complex and non-linear.\n",
        "\n",
        "* The artificial neural networks show disappointing performance in forecasting sales. Hopefully they could produce better results if we had time for more extensive experiments.\n",
        "\n",
        "* Tree-based models such as Random Forest and XGBoost posted the best prediction result with the highest R-squared and lowest errors. Random Forest tends to require less time for training while, at the same time, shows better prediction compared to XGBoost.\n",
        "\n",
        "* Therefore, the best model we would propose to the client is Random Forest."
      ]
    }
  ]
}